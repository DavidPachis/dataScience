{
  "nbformat": 4,
  "nbformat_minor": 0,
  "metadata": {
    "colab": {
      "provenance": [],
      "collapsed_sections": [
        "yyVFki8eszAw",
        "OB61Y9sZs3JM",
        "JACXGJ7fs7nZ",
        "wshwLCN7s-D_",
        "TV4U0l0NtHok",
        "qd-u2pWN5AkZ",
        "wKP-wcOyA7Ag",
        "N0OXg72ACOAH",
        "etJgiFZM_dKa"
      ],
      "toc_visible": true,
      "include_colab_link": true
    },
    "kernelspec": {
      "name": "python3",
      "display_name": "Python 3"
    },
    "language_info": {
      "name": "python"
    }
  },
  "cells": [
    {
      "cell_type": "markdown",
      "metadata": {
        "id": "view-in-github",
        "colab_type": "text"
      },
      "source": [
        "<a href=\"https://colab.research.google.com/github/DavidPachis/dataScience/blob/main/taller4/notebook/Taller4CDA.ipynb\" target=\"_parent\"><img src=\"https://colab.research.google.com/assets/colab-badge.svg\" alt=\"Open In Colab\"/></a>"
      ]
    },
    {
      "cell_type": "markdown",
      "source": [
        "# **Taller 4**\n",
        ">FABIAN ORLANDO RAMIREZ ORJUELA fo.ramirez50@uniandes.edu.co <br>\n",
        ">DAVID AUGUSTO VASQUEZ PACHON da.vasquez11@uniandes.edu.co <br>\n",
        "\n",
        ">MINE-4101: Ciencia de Dato Aplicada\n",
        "\n",
        ">Univerisdad de los Andes\n",
        "\n",
        ">Semestre: 2022-2"
      ],
      "metadata": {
        "id": "UtsTaH2EZo4r"
      }
    },
    {
      "cell_type": "markdown",
      "source": [
        "## IMPORTACIÓN DE LIBRERÍAS"
      ],
      "metadata": {
        "id": "yyVFki8eszAw"
      }
    },
    {
      "cell_type": "code",
      "execution_count": null,
      "metadata": {
        "id": "R6INSNvsOmD4"
      },
      "outputs": [],
      "source": [
        "import numpy as np\n",
        "import pandas as pd\n",
        "import seaborn as sns\n",
        "import tensorflow as tf\n",
        "#import keras_tuner as kt\n",
        "import joblib as jbl\n",
        "import warnings\n",
        "\n",
        "warnings.filterwarnings(\"ignore\")\n",
        "\n",
        "from sklearn import tree\n",
        "\n",
        "from sklearn.preprocessing import StandardScaler, PolynomialFeatures\n",
        "\n",
        "from sklearn.model_selection import train_test_split, GridSearchCV, cross_val_score\n",
        "\n",
        "from sklearn.pipeline import Pipeline\n",
        "\n",
        "from sklearn.linear_model import LogisticRegression, Ridge, Lasso\n",
        "\n",
        "from sklearn.ensemble import RandomForestClassifier\n",
        "\n",
        "from sklearn.metrics import roc_auc_score , classification_report , ConfusionMatrixDisplay"
      ]
    },
    {
      "cell_type": "code",
      "source": [
        "# Se lee el primer dataset de entrenamiento\n",
        "url = \"https://raw.githubusercontent.com/foramirez50/CDA/main/Taller4/DataSet_Entrenamiento_v1.json\"\n",
        "df = pd.read_json(url)"
      ],
      "metadata": {
        "id": "hloTw1UwPEGa"
      },
      "execution_count": null,
      "outputs": []
    },
    {
      "cell_type": "markdown",
      "source": [
        "## FUNCIONES"
      ],
      "metadata": {
        "id": "ZKzqNO3jBqZL"
      }
    },
    {
      "cell_type": "markdown",
      "source": [
        "### FUNCIÓN DE LIMPIEZA"
      ],
      "metadata": {
        "id": "OB61Y9sZs3JM"
      }
    },
    {
      "cell_type": "code",
      "source": [
        "def cleaning(dataset):\n",
        "  # se limpia la columna TotalChares que tiene problemas con valores 0 \n",
        "  dataset.loc[dataset[\"tenure\"] == 0, \"TotalCharges\"] = \"0\"\n",
        "  dataset['TotalCharges'].astype(float)\n",
        "  # se asocian por tipo las columnas\n",
        "  objetivo  = dataset[\"Churn\"]\n",
        "  numericas = dataset[[\"MonthlyCharges\",\"tenure\",\"SeniorCitizen\",\"TotalCharges\"]]\n",
        "  gender = dataset[\"gender\"]\n",
        "  categoricas_1 = dataset[['Partner','PhoneService','PaperlessBilling','Dependents']]\n",
        "  categoricas_2 = dataset[[\n",
        "      \"InternetService\",\"OnlineSecurity\",\"OnlineBackup\",\"DeviceProtection\",\"TechSupport\",\n",
        "      \"StreamingTV\",\"StreamingMovies\",\"Contract\",\"PaymentMethod\"\n",
        "      ]]\n",
        "  excluidas = dataset[[\"customerID\",\"MultipleLines\"]]\n",
        "\n",
        "  #se hace la transformación\n",
        "  objetivo = objetivo.replace(['No', 'Yes'],[0, 1])\n",
        "  gender = gender.replace(['Female', 'Male'],[0, 1])\n",
        "  categoricas_1 = categoricas_1.replace(['No', 'Yes'],[0, 1])\n",
        "  categoricas_2 = pd.get_dummies(categoricas_2)\n",
        "  numericas = numericas.astype(float)\n",
        "\n",
        "  #se construye todo el dataset limpio de nuevo\n",
        "  clean_dataset = pd.DataFrame().join([objetivo,gender,categoricas_1,categoricas_2,numericas], how=\"outer\")\n",
        "  return clean_dataset"
      ],
      "metadata": {
        "id": "C3cKFEll56ii"
      },
      "execution_count": null,
      "outputs": []
    },
    {
      "cell_type": "code",
      "source": [
        "def cleaning_1(dataset):\n",
        "  # se limpia la columna TotalChares que tiene problemas con valores 0 \n",
        "  dataset.loc[dataset[\"tenure\"] == 0, \"TotalCharges\"] = \"0\"\n",
        "  dataset['TotalCharges'].astype(float)\n",
        "  # se asocian por tipo las columnas\n",
        "  numericas = dataset[[\"MonthlyCharges\",\"tenure\",\"SeniorCitizen\",\"TotalCharges\"]]\n",
        "  gender = dataset[\"gender\"]\n",
        "  categoricas_1 = dataset[['Partner','PhoneService','PaperlessBilling','Dependents']]\n",
        "  categoricas_2 = dataset[[\n",
        "      \"InternetService\",\"OnlineSecurity\",\"OnlineBackup\",\"DeviceProtection\",\"TechSupport\",\n",
        "      \"StreamingTV\",\"StreamingMovies\",\"Contract\",\"PaymentMethod\"\n",
        "      ]]\n",
        "  excluidas = dataset[[\"customerID\",\"MultipleLines\"]]\n",
        "\n",
        "  #se hace la transformación\n",
        "  gender = gender.replace(['Female', 'Male'],[0, 1])\n",
        "  categoricas_1 = categoricas_1.replace(['No', 'Yes'],[0, 1])\n",
        "  categoricas_2 = pd.get_dummies(categoricas_2)\n",
        "  numericas = numericas.astype(float)\n",
        "\n",
        "  #se construye todo el dataset limpio de nuevo\n",
        "  clean_dataset = pd.DataFrame().join([gender,categoricas_1,categoricas_2,numericas], how=\"outer\")\n",
        "  return clean_dataset"
      ],
      "metadata": {
        "id": "ZvJH9OmLSrsi"
      },
      "execution_count": null,
      "outputs": []
    },
    {
      "cell_type": "markdown",
      "source": [
        "### FUNCIÓN MODELO LOGÍSTICO"
      ],
      "metadata": {
        "id": "JACXGJ7fs7nZ"
      }
    },
    {
      "cell_type": "code",
      "source": [
        "def logistic_model(dataset):\n",
        "\n",
        "    #dividir el X y Y \n",
        "    X = dataset.drop(\"Churn\", axis=1)\n",
        "    Y = dataset[\"Churn\"]\n",
        "    X_train, X_test, Y_train, Y_test = train_test_split(X, Y, test_size = 0.3, stratify = Y, random_state = 33)\n",
        "\n",
        "    scaler = StandardScaler()\n",
        "\n",
        "    #se hace el pipeline con la regresión logística\n",
        "    logistic = LogisticRegression(max_iter=1000, tol=0.1, class_weight = 'balanced', multi_class='multinomial', random_state = 33)\n",
        "    pipe = Pipeline(steps=[(\"scaler\", scaler), (\"polynomial\", PolynomialFeatures()) ,(\"logistic\", logistic)])\n",
        "    param_grid = {\n",
        "        \"polynomial__degree\": [1, 2],\n",
        "        \"polynomial__interaction_only\":[True, False],\n",
        "        \"polynomial__include_bias\":[True, False],\n",
        "        \"logistic__penalty\":['l2', 'elasticnet'],\n",
        "        \"logistic__solver\":['liblinear', 'saga'],    \n",
        "    }\n",
        "\n",
        "    #se busca el mejor modelo y regresa el score\n",
        "    logistic_model = GridSearchCV(pipe, param_grid, n_jobs=2, scoring = 'roc_auc', cv=5).fit(X, Y)\n",
        "    #score_logistic = roc_auc_score(Y_test, logistic_model.predict_proba(X_test)[:, 1])\n",
        "\n",
        "    v_score_logistic = cross_val_score(logistic_model, X_train, Y_train, cv=5, scoring='roc_auc').mean()\n",
        "    \n",
        "    return v_score_logistic, logistic_model"
      ],
      "metadata": {
        "id": "5sHOfPnVMrv4"
      },
      "execution_count": null,
      "outputs": []
    },
    {
      "cell_type": "markdown",
      "source": [
        "### FUNCIÓN MODELO DECISION TREE"
      ],
      "metadata": {
        "id": "wshwLCN7s-D_"
      }
    },
    {
      "cell_type": "code",
      "source": [
        "def dtree_model(dataset):\n",
        "\n",
        "    #dividir el X y Y \n",
        "    X = dataset.drop(\"Churn\", axis=1)\n",
        "    Y = dataset[\"Churn\"]\n",
        "    X_train, X_test, Y_train, Y_test = train_test_split(X, Y, test_size = 0.3, stratify = Y, random_state = 33)\n",
        "\n",
        "    #se hace el pipeline con la decisition tree\n",
        "    dtc = tree.DecisionTreeClassifier(class_weight = 'balanced',  random_state = 33)\n",
        "    pipe = Pipeline([(\"polynomial\", PolynomialFeatures()) ,(\"dtc\", dtc)])\n",
        "\n",
        "    param_grid = {\n",
        "        \"polynomial__degree\": [1, 2],\n",
        "        \"polynomial__interaction_only\":[True, False],\n",
        "        \"polynomial__include_bias\":[True, False],\n",
        "        \"dtc__splitter\": ['best','random'],\n",
        "        \"dtc__criterion\": ['gini','entropy','log_loss'],\n",
        "    }\n",
        "\n",
        "    search = GridSearchCV(pipe, param_grid, n_jobs=30, scoring = 'roc_auc', cv=5)\n",
        "    a = search.fit(X, Y)\n",
        "    best_hyper = search.best_params_\n",
        "\n",
        "    degree = best_hyper['polynomial__degree']\n",
        "    interaction_only = best_hyper['polynomial__interaction_only']\n",
        "    include_bias = best_hyper['polynomial__include_bias']\n",
        "    splitter = best_hyper['dtc__splitter']\n",
        "    criterion = best_hyper['dtc__criterion']\n",
        "    \n",
        "    poly = PolynomialFeatures(degree=degree,  interaction_only=interaction_only, include_bias=include_bias)\n",
        "    X_test_scaled = poly.fit_transform(X_test)\n",
        "    X_train_scaled = poly.fit_transform( X_train)\n",
        "    X_scaled = poly.fit_transform(X)\n",
        "\n",
        "    decision_tree = tree.DecisionTreeClassifier(class_weight = 'balanced', criterion = criterion, splitter = splitter, random_state=33).fit(X_train, Y_train)\n",
        "    #score_decisionTree = roc_auc_score(Y_test, decision_tree.predict_proba(X_test)[:, 1])\n",
        "    v_score_dtree = cross_val_score(decision_tree, X_train, Y_train, cv=5, scoring='roc_auc').mean()\n",
        "                                      \n",
        "    return v_score_dtree, decision_tree"
      ],
      "metadata": {
        "id": "rCmVk3JmdmFM"
      },
      "execution_count": null,
      "outputs": []
    },
    {
      "cell_type": "markdown",
      "source": [
        "### FUNCIÓN RANDOM FOREST"
      ],
      "metadata": {
        "id": "TV4U0l0NtHok"
      }
    },
    {
      "cell_type": "code",
      "source": [
        "def rforest_model(dataset):\n",
        "\n",
        "    #dividir el X y Y \n",
        "    X = dataset.drop(\"Churn\", axis=1)\n",
        "    Y = dataset[\"Churn\"]\n",
        "    X_train, X_test, Y_train, Y_test = train_test_split(X, Y, test_size = 0.3, stratify = Y, random_state = 33)\n",
        "\n",
        "    #se hace el pipeline con el randomforest \n",
        "    rfc = RandomForestClassifier(class_weight = 'balanced',  random_state = 33)\n",
        "    pipe = Pipeline([(\"polynomial\", PolynomialFeatures()) ,(\"rfc\", rfc)])\n",
        "\n",
        "    param_grid = {\n",
        "        \"polynomial__degree\": [1, 2],\n",
        "        \"polynomial__interaction_only\":[True, False],\n",
        "        \"polynomial__include_bias\":[True, False],\n",
        "        \"rfc__criterion\": ['gini','entropy','log_loss'],\n",
        "        \"rfc__max_features\": ['sqrt','log2','auto'],\n",
        "    }\n",
        "\n",
        "    search = GridSearchCV(pipe, param_grid, n_jobs=30, scoring = 'roc_auc', cv=5)\n",
        "    a = search.fit(X, Y)\n",
        "\n",
        "    best_hyper3 = search.best_params_\n",
        "\n",
        "    degree = best_hyper3['polynomial__degree']\n",
        "    interaction_only = best_hyper3['polynomial__interaction_only']\n",
        "    include_bias = best_hyper3['polynomial__include_bias']\n",
        "    criterion = best_hyper3['rfc__criterion']\n",
        "    max_features = best_hyper3['rfc__max_features']\n",
        "\n",
        "    poly = PolynomialFeatures(degree=degree,  interaction_only=interaction_only, include_bias=include_bias)\n",
        "    X_test_scaled = poly.fit_transform(X_test)\n",
        "    X_train_scaled = poly.fit_transform( X_train)\n",
        "    X_scaled = poly.fit_transform(X)\n",
        "\n",
        "    r_forest = RandomForestClassifier(criterion= criterion, class_weight = 'balanced',random_state= 33, max_features = max_features).fit(X_train, Y_train)\n",
        "\n",
        "    #score_r_forest = roc_auc_score(Y_test, r_forest.predict_proba(X_test)[:, 1])\n",
        "    v_score_r_forest = cross_val_score(r_forest, X_train, Y_train, cv=5, scoring='roc_auc').mean()\n",
        "    return v_score_r_forest, r_forest"
      ],
      "metadata": {
        "id": "kaCvMC86TXYc"
      },
      "execution_count": null,
      "outputs": []
    },
    {
      "cell_type": "markdown",
      "source": [
        "### FUNCIÓN MEJOR MODELO"
      ],
      "metadata": {
        "id": "qd-u2pWN5AkZ"
      }
    },
    {
      "cell_type": "code",
      "source": [
        "def the_best_model(model1,model2,model3):\n",
        "    \n",
        "    #hacemos un diccionario con los modelos \n",
        "    v_score1, mod1 = model1\n",
        "    v_score2, mod2 = model2\n",
        "    v_score3, mod3 = model3\n",
        "\n",
        "    max_score = max(v_score1,v_score2,v_score3)\n",
        "  \n",
        "    if max_score==v_score1:\n",
        "      jbl.dump(mod1, 'my_model.pkl')\n",
        "\n",
        "    elif max_score==v_score2:\n",
        "      jbl.dump(mod2, 'my_model.pkl')\n",
        "        \n",
        "    else:\n",
        "      jbl.dump(mod3, 'my_model.pkl')\n",
        "\n",
        "\n",
        "    return print(\n",
        "        \"El mejor modelo ha sido guardado\"\n",
        "        \"\\nCross Validation score for AUC ROC for logistic model is: \",v_score1, \n",
        "        \"\\nCross Validation score for AUC ROC for decition tree model is: \",v_score2, \n",
        "        \"\\nCross Validation score for AUC ROC for random forest model is: \",v_score3\n",
        "        )"
      ],
      "metadata": {
        "id": "GOWn-XHB5Ik6"
      },
      "execution_count": null,
      "outputs": []
    },
    {
      "cell_type": "markdown",
      "source": [
        "## PROCESAMIENTO DE TODAS LAS FUNCIONES"
      ],
      "metadata": {
        "id": "wKP-wcOyA7Ag"
      }
    },
    {
      "cell_type": "code",
      "source": [
        "clean_df1 = cleaning(df)\n",
        "lmodel = logistic_model(clean_df1)\n",
        "dtmodel = dtree_model(clean_df1)\n",
        "rfmodel =rforest_model(clean_df1)\n",
        "the_best_model(lmodel,dtmodel,rfmodel)"
      ],
      "metadata": {
        "colab": {
          "base_uri": "https://localhost:8080/"
        },
        "id": "V2RZdE1AASW7",
        "outputId": "dbcef16d-4ead-4ab6-ddfe-d253423ac9e5"
      },
      "execution_count": null,
      "outputs": [
        {
          "output_type": "stream",
          "name": "stdout",
          "text": [
            "El mejor modelo ha sido guardado\n",
            "Cross Validation score for AUC ROC for logistic model is:  0.8427396529314374 \n",
            "Cross Validation score for AUC ROC for decition tree model is:  0.660099358680649 \n",
            "Cross Validation score for AUC ROC for random forest model is:  0.8210868046194065\n"
          ]
        }
      ]
    },
    {
      "cell_type": "markdown",
      "source": [
        "## PREGUNTAS ADICCIONALES DEL TALLER4"
      ],
      "metadata": {
        "id": "N0OXg72ACOAH"
      }
    },
    {
      "cell_type": "markdown",
      "source": [
        "### ROC AUC\n",
        "\n",
        "### El ROC es una curva que relaciona los True Positives y los False Positives.\n",
        "\n",
        "### El AUC ROC es el área bajo la curva ROC, entre más alto, mejor clasifica.\n",
        "\n",
        "\n",
        "### porque el ROC AUC es mejor, porque tenemos un problema de clasificación binario y esta métrica nos dice que tan bien se comporta el modelo con el área bajo la curva de la gráfica, como se ve en la gráfica de abajo, entre más alto son menos las predicciones que se interceptan (se cruzan las curvas)\n",
        "\n",
        "###https://medium.com/@penggongting/understanding-roc-auc-pros-and-cons-why-is-bier-score-a-great-supplement-c7a0c976b679\n",
        "\n",
        "### ![image.png](data:image/png;base64,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)"
      ],
      "metadata": {
        "id": "aHNRfG4G-wwe"
      }
    },
    {
      "cell_type": "markdown",
      "source": [
        "### ¿Se evidencian problemas de overfitting o underfitting?"
      ],
      "metadata": {
        "id": "etJgiFZM_dKa"
      }
    },
    {
      "cell_type": "code",
      "source": [
        "# sacan los datasets de prueba y test para contestar la pregunta de over o under fitting\n",
        "X_ovun = clean_df1.drop(\"Churn\", axis=1)\n",
        "Y_ovun = clean_df1[\"Churn\"]\n",
        "X_train1, X_test1, Y_train1, Y_test1 = train_test_split(X_ovun, Y_ovun, test_size = 0.3, stratify = Y_ovun, random_state = 33)"
      ],
      "metadata": {
        "id": "MOgBx2WJKBk1"
      },
      "execution_count": null,
      "outputs": []
    },
    {
      "cell_type": "code",
      "source": [
        "v_score1, mod1 = lmodel\n",
        "\n",
        "train_prediction = mod1.predict(X_train1)\n",
        "test_prediction = mod1.predict(X_test1)\n",
        "\n",
        "print(\"Predicción con el conjunto de entrenamiento: \\n\", classification_report(Y_train1, train_prediction))\n",
        "print(\"Predicción con el conjunto de evaluación: \\n\",classification_report(Y_test1, test_prediction))"
      ],
      "metadata": {
        "colab": {
          "base_uri": "https://localhost:8080/"
        },
        "id": "12EFnyf4BZ97",
        "outputId": "f6e89bb4-dd59-4f49-da72-72302b62dc02"
      },
      "execution_count": null,
      "outputs": [
        {
          "output_type": "stream",
          "name": "stdout",
          "text": [
            "Predicción con el conjunto de entrenamiento: \n",
            "               precision    recall  f1-score   support\n",
            "\n",
            "           0       0.91      0.72      0.80      3086\n",
            "           1       0.50      0.79      0.62      1114\n",
            "\n",
            "    accuracy                           0.74      4200\n",
            "   macro avg       0.70      0.75      0.71      4200\n",
            "weighted avg       0.80      0.74      0.75      4200\n",
            "\n",
            "Predicción con el conjunto de evaluación: \n",
            "               precision    recall  f1-score   support\n",
            "\n",
            "           0       0.92      0.69      0.79      1322\n",
            "           1       0.50      0.84      0.62       478\n",
            "\n",
            "    accuracy                           0.73      1800\n",
            "   macro avg       0.71      0.77      0.71      1800\n",
            "weighted avg       0.81      0.73      0.75      1800\n",
            "\n"
          ]
        }
      ]
    },
    {
      "cell_type": "markdown",
      "source": [
        "#### overfiting: analizando los resultados tanto de precisión como de recall, varian entre un 0.01 a un 0.3%, lo que nos indica que no hay sobreajuste.\n",
        "### Underfitting: analizando las métricas con el conjunto de evaluación, tenemos una precisiones entre 0.92 a 0.5 en el peor de los casos, consideramos que sí sufre un poco falto de ajuste, sobre todo para clasificar los valores en los cuales es positivo el Churn"
      ],
      "metadata": {
        "id": "1UQkEoQte4rj"
      }
    },
    {
      "cell_type": "code",
      "source": [
        "print(train_prediction)"
      ],
      "metadata": {
        "colab": {
          "base_uri": "https://localhost:8080/"
        },
        "id": "GZtd9irMReEs",
        "outputId": "23f92310-3936-4030-981b-f1fa7590d986"
      },
      "execution_count": null,
      "outputs": [
        {
          "output_type": "stream",
          "name": "stdout",
          "text": [
            "[0 1 1 ... 0 0 1]\n"
          ]
        }
      ]
    },
    {
      "cell_type": "markdown",
      "source": [
        "## REENTRENAMIENTO"
      ],
      "metadata": {
        "id": "rh9hdL24Ba4G"
      }
    },
    {
      "cell_type": "code",
      "source": [
        "def reentrenamiento(df1,df2):\n",
        "    clean_df1 = cleaning(df1)\n",
        "    clean_df2 = cleaning(df2)\n",
        "    rtrain_df = pd.concat([clean_df1, clean_df2], axis=0)\n",
        "\n",
        "    #dividir el X y Y \n",
        "    X = rtrain_df.drop(\"Churn\", axis=1)\n",
        "    Y = rtrain_df[\"Churn\"]\n",
        "    X_train, X_test, Y_train, Y_test = train_test_split(X, Y, test_size = 0.3, stratify = Y, random_state = 33)\n",
        "\n",
        "    scaler = StandardScaler()\n",
        "\n",
        "    #se hace el pipeline con la regresión logística\n",
        "    logistic = LogisticRegression(max_iter=1000, tol=0.1, class_weight = 'balanced', multi_class='multinomial', random_state = 33)\n",
        "    pipe = Pipeline(steps=[(\"scaler\", scaler), (\"polynomial\", PolynomialFeatures()) ,(\"logistic\", logistic)])\n",
        "    param_grid = {\n",
        "        \"polynomial__degree\": [1, 2],\n",
        "        \"polynomial__interaction_only\":[True, False],\n",
        "        \"polynomial__include_bias\":[True, False],\n",
        "        \"logistic__penalty\":['l2', 'elasticnet'],\n",
        "        \"logistic__solver\":['liblinear', 'saga'],    \n",
        "    }\n",
        "\n",
        "    #se busca el mejor modelo y regresa el score\n",
        "    logistic_rtmodel = GridSearchCV(pipe, param_grid, n_jobs=2, scoring = 'roc_auc', cv=5).fit(X, Y)\n",
        "    #score_logistic = roc_auc_score(Y_test, logistic_model.predict_proba(X_test)[:, 1])\n",
        "\n",
        "    #v_score_logistic = cross_val_score(logistic_model, X_train, Y_train, cv=5, scoring='roc_auc').mean()\n",
        "    \n",
        "    return logistic_rtmodel"
      ],
      "metadata": {
        "id": "CDNPwtBZDSZ6"
      },
      "execution_count": null,
      "outputs": []
    },
    {
      "cell_type": "code",
      "source": [
        "# Lectura del segundo dataset de entrenamiento\n",
        "url2 = \"https://raw.githubusercontent.com/foramirez50/CDA/main/Taller4/DataSet_Entrenamiento_v2.json\"\n",
        "df2 = pd.read_json(url2)"
      ],
      "metadata": {
        "id": "mvaryHlY-fQf"
      },
      "execution_count": null,
      "outputs": []
    },
    {
      "cell_type": "markdown",
      "source": [
        "### PROCESAMIENTO"
      ],
      "metadata": {
        "id": "j8iEFkH0HPHQ"
      }
    },
    {
      "cell_type": "code",
      "source": [
        "#llamamos el modelo que ya se tiene \n",
        "first_model = jbl.load('my_model.pkl')\n",
        "\n",
        "# guardamos el modelo reentrenado en una variable\n",
        "retrain_model = reentrenamiento(df,df2)"
      ],
      "metadata": {
        "id": "r3PGqkovFmqI"
      },
      "execution_count": null,
      "outputs": []
    },
    {
      "cell_type": "markdown",
      "source": [
        "### COMPARACIÓN DE LOS 2 MODELOS"
      ],
      "metadata": {
        "id": "yrQNJVyaHcbF"
      }
    },
    {
      "cell_type": "code",
      "source": [
        "clean_df2 = cleaning(df2)\n",
        "rtrain_df = pd.concat([clean_df1, clean_df2], axis=0)\n",
        "\n",
        "X_last = rtrain_df.drop(\"Churn\", axis=1)\n",
        "Y_last = rtrain_df[\"Churn\"]\n",
        "X_train, X_test, Y_train, Y_test = train_test_split(X_last, Y_last, test_size = 0.3, stratify = Y_last, random_state = 33)"
      ],
      "metadata": {
        "id": "irS185-FHVkO"
      },
      "execution_count": null,
      "outputs": []
    },
    {
      "cell_type": "code",
      "source": [
        "predictions_v1 = first_model.predict(X_test)\n",
        "ConfusionMatrixDisplay.from_predictions(Y_test, predictions_v1)\n",
        "print(classification_report(Y_test, predictions_v1))\n",
        "print(roc_auc_score(Y_test, first_model.predict_proba(X_test)[:, 1]))"
      ],
      "metadata": {
        "colab": {
          "base_uri": "https://localhost:8080/",
          "height": 453
        },
        "id": "9nL-V1O1F6mV",
        "outputId": "600c7da1-5c2b-497c-9041-f0eba9f43b46"
      },
      "execution_count": null,
      "outputs": [
        {
          "output_type": "stream",
          "name": "stdout",
          "text": [
            "              precision    recall  f1-score   support\n",
            "\n",
            "           0       0.91      0.70      0.79      1543\n",
            "           1       0.49      0.81      0.61       557\n",
            "\n",
            "    accuracy                           0.73      2100\n",
            "   macro avg       0.70      0.75      0.70      2100\n",
            "weighted avg       0.80      0.73      0.74      2100\n",
            "\n",
            "0.8297750540752178\n"
          ]
        },
        {
          "output_type": "display_data",
          "data": {
            "text/plain": [
              "<Figure size 432x288 with 2 Axes>"
            ],
            "image/png": "[encoded data removed]"
          },
          "metadata": {
            "needs_background": "light"
          }
        }
      ]
    },
    {
      "cell_type": "code",
      "source": [
        "predictions_v2 = retrain_model.predict(X_test)\n",
        "ConfusionMatrixDisplay.from_predictions(Y_test, predictions_v2)\n",
        "print(classification_report(Y_test, predictions_v2))\n",
        "print(roc_auc_score(Y_test, retrain_model.predict_proba(X_test)[:, 1]))"
      ],
      "metadata": {
        "colab": {
          "base_uri": "https://localhost:8080/",
          "height": 453
        },
        "id": "accIf7rPPgMC",
        "outputId": "67f8c47b-fbb5-4e2c-8642-64005016942b"
      },
      "execution_count": null,
      "outputs": [
        {
          "output_type": "stream",
          "name": "stdout",
          "text": [
            "              precision    recall  f1-score   support\n",
            "\n",
            "           0       0.91      0.73      0.81      1543\n",
            "           1       0.51      0.79      0.62       557\n",
            "\n",
            "    accuracy                           0.74      2100\n",
            "   macro avg       0.71      0.76      0.71      2100\n",
            "weighted avg       0.80      0.74      0.76      2100\n",
            "\n",
            "0.8345816108189996\n"
          ]
        },
        {
          "output_type": "display_data",
          "data": {
            "text/plain": [
              "<Figure size 432x288 with 2 Axes>"
            ],
            "image/png": "[encoded data removed]"
          },
          "metadata": {
            "needs_background": "light"
          }
        }
      ]
    },
    {
      "cell_type": "code",
      "source": [
        "# se lee el dataset a predecir\n",
        "url3 = \"https://raw.githubusercontent.com/foramirez50/CDA/main/Taller4/DataSet_Prediccion.json\"\n",
        "df3 = pd.read_json(url3)"
      ],
      "metadata": {
        "id": "0CepNFykNcJp"
      },
      "execution_count": null,
      "outputs": []
    },
    {
      "cell_type": "code",
      "source": [
        "def get_final_pred_mv1(dataset):\n",
        "\n",
        "    # se limpia para que pueda ser ingerido por el modelo\n",
        "    clean_df3 = cleaning_1(dataset)\n",
        "\n",
        "    # se hace la predicción con el último modelo\n",
        "    df_predicted = pd.DataFrame(retrain_model.predict(clean_df3)).replace([0, 1],['No', 'Yes'])\n",
        "    df_precited_proba = pd.DataFrame(retrain_model.predict_proba(clean_df3)[:, 1])\n",
        "    df_predicted[\"proba\"] = df_precited_proba\n",
        "    df_predicted.columns =['Churn', 'Proba']\n",
        "\n",
        "    return df_predicted"
      ],
      "metadata": {
        "id": "Sspo7RzIS3cf"
      },
      "execution_count": null,
      "outputs": []
    },
    {
      "cell_type": "markdown",
      "source": [
        "## BONO!!!"
      ],
      "metadata": {
        "id": "GUUgYd8CZqNM"
      }
    },
    {
      "cell_type": "code",
      "source": [
        "def get_final_pred_mv0(dataset):\n",
        "\n",
        "    # se limpia para que pueda ser ingerido por el modelo\n",
        "    clean_df3 = cleaning_1(dataset)\n",
        "\n",
        "    # se hace la predicción con el primer modelo\n",
        "    df_predicted = pd.DataFrame(first_model.predict(clean_df3)).replace([0, 1],['No', 'Yes'])\n",
        "    df_precited_proba = pd.DataFrame(first_model.predict_proba(clean_df3)[:, 1])\n",
        "    df_predicted[\"proba\"] = df_precited_proba\n",
        "    df_predicted.columns =['Churn', 'Proba']\n",
        "\n",
        "    return df_predicted"
      ],
      "metadata": {
        "id": "CNmAV7NKZssg"
      },
      "execution_count": null,
      "outputs": []
    },
    {
      "cell_type": "code",
      "source": [
        "print(get_final_pred_mv1(df3).head(10))\n",
        "print(get_final_pred_mv0(df3).head(10))"
      ],
      "metadata": {
        "colab": {
          "base_uri": "https://localhost:8080/"
        },
        "id": "E4NHYIaIXnk7",
        "outputId": "9bf36e6d-ffb2-474a-a744-3ea1b9802603"
      },
      "execution_count": null,
      "outputs": [
        {
          "output_type": "stream",
          "name": "stdout",
          "text": [
            "  Churn     Proba\n",
            "0   Yes  0.773903\n",
            "1   Yes  0.908847\n",
            "2    No  0.412959\n",
            "3    No  0.063696\n",
            "4   Yes  0.545185\n",
            "5   Yes  0.632094\n",
            "6   Yes  0.709613\n",
            "7   Yes  0.603133\n",
            "8    No  0.020007\n",
            "9   Yes  0.770729\n",
            "  Churn     Proba\n",
            "0   Yes  0.786923\n",
            "1   Yes  0.881516\n",
            "2   Yes  0.702191\n",
            "3    No  0.118040\n",
            "4   Yes  0.677070\n",
            "5   Yes  0.779126\n",
            "6   Yes  0.609935\n",
            "7   Yes  0.734856\n",
            "8    No  0.009930\n",
            "9   Yes  0.813835\n"
          ]
        }
      ]
    }
  ]
}