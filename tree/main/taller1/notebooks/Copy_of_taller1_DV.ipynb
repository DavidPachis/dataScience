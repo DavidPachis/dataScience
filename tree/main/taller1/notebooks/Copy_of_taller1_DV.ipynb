{
  "cells": [
    {
      "cell_type": "markdown",
      "metadata": {
        "id": "view-in-github",
        "colab_type": "text"
      },
      "source": [
        "<a href=\"https://colab.research.google.com/github/DavidPachis/dataScience/blob/main/tree/main/taller1/notebooks/Copy_of_taller1_DV.ipynb\" target=\"_parent\"><img src=\"https://colab.research.google.com/assets/colab-badge.svg\" alt=\"Open In Colab\"/></a>"
      ]
    },
    {
      "cell_type": "markdown",
      "metadata": {
        "id": "5p6U1zpoerxv"
      },
      "source": [
        "# Taller 1 - Análisis de datos\n",
        "\n",
        "MINE-4101: Applied Data Science  \n",
        "Univerisdad de los Andes\n",
        "David Augusto Vásquez Pachón  \n",
        "código: 201512574  \n",
        "Dataset: Spotify data /(Data_Taller_1.csv)\n",
        "  \n",
        "Last update: August 30, 2022"
      ]
    },
    {
      "cell_type": "markdown",
      "source": [
        "# Librerías e importaciones\n",
        "Se instaló la libreria de esta manera debido a que desde el comando tradicional, se estaban generando errores al momento de hacer el profile."
      ],
      "metadata": {
        "id": "fHnrdfLGWmFK"
      }
    },
    {
      "cell_type": "code",
      "execution_count": 4,
      "metadata": {
        "colab": {
          "base_uri": "https://localhost:8080/"
        },
        "id": "raVCcL23erxw",
        "outputId": "7f5a7dda-4dce-4818-8905-ec67d18132ff"
      },
      "outputs": [
        {
          "output_type": "stream",
          "name": "stdout",
          "text": [
            "Looking in indexes: https://pypi.org/simple, https://us-python.pkg.dev/colab-wheels/public/simple/\n",
            "Collecting https://github.com/pandas-profiling/pandas-profiling/archive/master.zip\n",
            "  Downloading https://github.com/pandas-profiling/pandas-profiling/archive/master.zip\n",
            "\u001b[K     / 22.0 MB 140 kB/s\n",
            "\u001b[?25hRequirement already satisfied: joblib~=1.1.0 in /usr/local/lib/python3.7/dist-packages (from pandas-profiling==3.3.0) (1.1.0)\n",
            "Requirement already satisfied: scipy<1.10,>=1.4.1 in /usr/local/lib/python3.7/dist-packages (from pandas-profiling==3.3.0) (1.7.3)\n",
            "Requirement already satisfied: pandas!=1.4.0,<1.5,>1.1 in /usr/local/lib/python3.7/dist-packages (from pandas-profiling==3.3.0) (1.3.5)\n",
            "Requirement already satisfied: matplotlib<3.6,>=3.2 in /usr/local/lib/python3.7/dist-packages (from pandas-profiling==3.3.0) (3.2.2)\n",
            "Requirement already satisfied: pydantic<1.10,>=1.8.1 in /usr/local/lib/python3.7/dist-packages (from pandas-profiling==3.3.0) (1.9.2)\n",
            "Requirement already satisfied: PyYAML<6.1,>=5.0.0 in /usr/local/lib/python3.7/dist-packages (from pandas-profiling==3.3.0) (6.0)\n",
            "Requirement already satisfied: jinja2<3.2,>=2.11.1 in /usr/local/lib/python3.7/dist-packages (from pandas-profiling==3.3.0) (2.11.3)\n",
            "Collecting visions[type_image_path]==0.7.5\n",
            "  Downloading visions-0.7.5-py3-none-any.whl (102 kB)\n",
            "\u001b[K     |████████████████████████████████| 102 kB 5.3 MB/s \n",
            "\u001b[?25hRequirement already satisfied: numpy<1.24,>=1.16.0 in /usr/local/lib/python3.7/dist-packages (from pandas-profiling==3.3.0) (1.21.6)\n",
            "Collecting htmlmin==0.1.12\n",
            "  Downloading htmlmin-0.1.12.tar.gz (19 kB)\n",
            "Requirement already satisfied: missingno<0.6,>=0.4.2 in /usr/local/lib/python3.7/dist-packages (from pandas-profiling==3.3.0) (0.5.1)\n",
            "Collecting phik<0.13,>=0.11.1\n",
            "  Downloading phik-0.12.2-cp37-cp37m-manylinux_2_17_x86_64.manylinux2014_x86_64.whl (690 kB)\n",
            "\u001b[K     |████████████████████████████████| 690 kB 39.6 MB/s \n",
            "\u001b[?25hCollecting tangled-up-in-unicode==0.2.0\n",
            "  Downloading tangled_up_in_unicode-0.2.0-py3-none-any.whl (4.7 MB)\n",
            "\u001b[K     |████████████████████████████████| 4.7 MB 39.8 MB/s \n",
            "\u001b[?25hCollecting requests<2.29,>=2.24.0\n",
            "  Downloading requests-2.28.1-py3-none-any.whl (62 kB)\n",
            "\u001b[K     |████████████████████████████████| 62 kB 1.2 MB/s \n",
            "\u001b[?25hRequirement already satisfied: tqdm<4.65,>=4.48.2 in /usr/local/lib/python3.7/dist-packages (from pandas-profiling==3.3.0) (4.64.0)\n",
            "Requirement already satisfied: seaborn<0.12,>=0.10.1 in /usr/local/lib/python3.7/dist-packages (from pandas-profiling==3.3.0) (0.11.2)\n",
            "Collecting multimethod<1.9,>=1.4\n",
            "  Downloading multimethod-1.8-py3-none-any.whl (9.8 kB)\n",
            "Collecting statsmodels<0.14,>=0.13.2\n",
            "  Downloading statsmodels-0.13.2-cp37-cp37m-manylinux_2_17_x86_64.manylinux2014_x86_64.whl (9.8 MB)\n",
            "\u001b[K     |████████████████████████████████| 9.8 MB 39.2 MB/s \n",
            "\u001b[?25hRequirement already satisfied: attrs>=19.3.0 in /usr/local/lib/python3.7/dist-packages (from visions[type_image_path]==0.7.5->pandas-profiling==3.3.0) (22.1.0)\n",
            "Requirement already satisfied: networkx>=2.4 in /usr/local/lib/python3.7/dist-packages (from visions[type_image_path]==0.7.5->pandas-profiling==3.3.0) (2.6.3)\n",
            "Collecting imagehash\n",
            "  Downloading ImageHash-4.3.0-py2.py3-none-any.whl (296 kB)\n",
            "\u001b[K     |████████████████████████████████| 296 kB 49.7 MB/s \n",
            "\u001b[?25hRequirement already satisfied: Pillow in /usr/local/lib/python3.7/dist-packages (from visions[type_image_path]==0.7.5->pandas-profiling==3.3.0) (7.1.2)\n",
            "Requirement already satisfied: MarkupSafe>=0.23 in /usr/local/lib/python3.7/dist-packages (from jinja2<3.2,>=2.11.1->pandas-profiling==3.3.0) (2.0.1)\n",
            "Requirement already satisfied: kiwisolver>=1.0.1 in /usr/local/lib/python3.7/dist-packages (from matplotlib<3.6,>=3.2->pandas-profiling==3.3.0) (1.4.4)\n",
            "Requirement already satisfied: cycler>=0.10 in /usr/local/lib/python3.7/dist-packages (from matplotlib<3.6,>=3.2->pandas-profiling==3.3.0) (0.11.0)\n",
            "Requirement already satisfied: pyparsing!=2.0.4,!=2.1.2,!=2.1.6,>=2.0.1 in /usr/local/lib/python3.7/dist-packages (from matplotlib<3.6,>=3.2->pandas-profiling==3.3.0) (3.0.9)\n",
            "Requirement already satisfied: python-dateutil>=2.1 in /usr/local/lib/python3.7/dist-packages (from matplotlib<3.6,>=3.2->pandas-profiling==3.3.0) (2.8.2)\n",
            "Requirement already satisfied: typing-extensions in /usr/local/lib/python3.7/dist-packages (from kiwisolver>=1.0.1->matplotlib<3.6,>=3.2->pandas-profiling==3.3.0) (4.1.1)\n",
            "Requirement already satisfied: pytz>=2017.3 in /usr/local/lib/python3.7/dist-packages (from pandas!=1.4.0,<1.5,>1.1->pandas-profiling==3.3.0) (2022.2.1)\n",
            "Requirement already satisfied: six>=1.5 in /usr/local/lib/python3.7/dist-packages (from python-dateutil>=2.1->matplotlib<3.6,>=3.2->pandas-profiling==3.3.0) (1.15.0)\n",
            "Requirement already satisfied: certifi>=2017.4.17 in /usr/local/lib/python3.7/dist-packages (from requests<2.29,>=2.24.0->pandas-profiling==3.3.0) (2022.6.15)\n",
            "Requirement already satisfied: charset-normalizer<3,>=2 in /usr/local/lib/python3.7/dist-packages (from requests<2.29,>=2.24.0->pandas-profiling==3.3.0) (2.1.1)\n",
            "Requirement already satisfied: idna<4,>=2.5 in /usr/local/lib/python3.7/dist-packages (from requests<2.29,>=2.24.0->pandas-profiling==3.3.0) (2.10)\n",
            "Requirement already satisfied: urllib3<1.27,>=1.21.1 in /usr/local/lib/python3.7/dist-packages (from requests<2.29,>=2.24.0->pandas-profiling==3.3.0) (1.24.3)\n",
            "Requirement already satisfied: patsy>=0.5.2 in /usr/local/lib/python3.7/dist-packages (from statsmodels<0.14,>=0.13.2->pandas-profiling==3.3.0) (0.5.2)\n",
            "Requirement already satisfied: packaging>=21.3 in /usr/local/lib/python3.7/dist-packages (from statsmodels<0.14,>=0.13.2->pandas-profiling==3.3.0) (21.3)\n",
            "Requirement already satisfied: PyWavelets in /usr/local/lib/python3.7/dist-packages (from imagehash->visions[type_image_path]==0.7.5->pandas-profiling==3.3.0) (1.3.0)\n",
            "Building wheels for collected packages: pandas-profiling, htmlmin\n",
            "  Building wheel for pandas-profiling (setup.py) ... \u001b[?25l\u001b[?25hdone\n",
            "  Created wheel for pandas-profiling: filename=pandas_profiling-3.3.0-py2.py3-none-any.whl size=268032 sha256=8c58efea6426eba43c0101a7c7bb82bc6b8581b8a7df4ed9ebe68f402fcae756\n",
            "  Stored in directory: /tmp/pip-ephem-wheel-cache-i43mc_ey/wheels/cc/d5/09/083fb07c9363a2f45854b0e3a7de7d7c560f07da74b9e9769d\n",
            "  Building wheel for htmlmin (setup.py) ... \u001b[?25l\u001b[?25hdone\n",
            "  Created wheel for htmlmin: filename=htmlmin-0.1.12-py3-none-any.whl size=27098 sha256=a3ceff96e1bba51fb193321c7babc10d17f9c66cb4f021900d2c7eaafd83be5d\n",
            "  Stored in directory: /root/.cache/pip/wheels/70/e1/52/5b14d250ba868768823940c3229e9950d201a26d0bd3ee8655\n",
            "Successfully built pandas-profiling htmlmin\n",
            "Installing collected packages: tangled-up-in-unicode, multimethod, visions, imagehash, statsmodels, requests, phik, htmlmin, pandas-profiling\n",
            "  Attempting uninstall: statsmodels\n",
            "    Found existing installation: statsmodels 0.12.2\n",
            "    Uninstalling statsmodels-0.12.2:\n",
            "      Successfully uninstalled statsmodels-0.12.2\n",
            "  Attempting uninstall: requests\n",
            "    Found existing installation: requests 2.23.0\n",
            "    Uninstalling requests-2.23.0:\n",
            "      Successfully uninstalled requests-2.23.0\n",
            "  Attempting uninstall: pandas-profiling\n",
            "    Found existing installation: pandas-profiling 1.4.1\n",
            "    Uninstalling pandas-profiling-1.4.1:\n",
            "      Successfully uninstalled pandas-profiling-1.4.1\n",
            "Successfully installed htmlmin-0.1.12 imagehash-4.3.0 multimethod-1.8 pandas-profiling-3.3.0 phik-0.12.2 requests-2.28.1 statsmodels-0.13.2 tangled-up-in-unicode-0.2.0 visions-0.7.5\n"
          ]
        }
      ],
      "source": [
        "#!pip install --upgrade pandas-profiling\n",
        "!pip install https://github.com/pandas-profiling/pandas-profiling/archive/master.zip\n"
      ]
    },
    {
      "cell_type": "code",
      "execution_count": 5,
      "metadata": {
        "colab": {
          "base_uri": "https://localhost:8080/"
        },
        "id": "KLlWRifAmyqC",
        "outputId": "2bc2f7a8-fc66-4af2-b2d5-812496fe2c03"
      },
      "outputs": [
        {
          "output_type": "stream",
          "name": "stdout",
          "text": [
            "Looking in indexes: https://pypi.org/simple, https://us-python.pkg.dev/colab-wheels/public/simple/\n",
            "Requirement already satisfied: markupsafe==2.0.1 in /usr/local/lib/python3.7/dist-packages (2.0.1)\n"
          ]
        }
      ],
      "source": [
        "!pip install markupsafe==2.0.1"
      ]
    },
    {
      "cell_type": "code",
      "execution_count": 6,
      "metadata": {
        "id": "X4T1Rk_yerxx"
      },
      "outputs": [],
      "source": [
        "# Importing libraries\n",
        "import numpy as np\n",
        "import pandas as pd\n",
        "\n",
        "import matplotlib.pyplot as plt\n",
        "plt.style.use(\"seaborn-deep\")\n",
        "import seaborn as sns\n",
        "\n",
        "from pandas_profiling import ProfileReport\n",
        "# This line is to see graphs's outputs below cells \n",
        "%matplotlib inline"
      ]
    },
    {
      "cell_type": "markdown",
      "source": [
        "# Punto 1 \n",
        "Para entender el conjunto de datos de una forma rápida, y posteriormente entrar a un análisis más profundo, se utilizó pandas profiling. Esta libreria nos permite ver de manera gráfica y rápida el comportamiento del conjunto de datos que se está analizando.\n",
        "\n",
        "Por parte de la limpieza de los datos, se corrigieron caracteres de comillas dobles, los cuales se repetian a lo largo de varias filas, en columnas que tenían valores multiples por registro, ya sean varios strings o valores numéricos. \n",
        "Esa limpieza se centró en reeplazar y eliminar esas comillas, y dejar las comillas pertinentes para conservar los valores múltiples de las columnas. \n",
        "también se corrigen los nombres de genero y se desagregan las columnas de valores multiples. \n",
        "\n"
      ],
      "metadata": {
        "id": "yNyZpUi4YMLa"
      }
    },
    {
      "cell_type": "code",
      "execution_count": 7,
      "metadata": {
        "id": "fRyhiCBperxx"
      },
      "outputs": [],
      "source": [
        "# Pandas configuration for extending the number of rows and columns,\n",
        "#to visualize if not limit set parameter to None or -1\n",
        "pd.set_option('display.max_rows', 100)\n",
        "pd.set_option('display.max_columns', 100)"
      ]
    },
    {
      "cell_type": "code",
      "execution_count": 90,
      "metadata": {
        "id": "5VBZ3Vceerxx"
      },
      "outputs": [],
      "source": [
        "# Loading the CSV file as dataframe\n",
        "\n",
        "url = 'https://raw.githubusercontent.com/DavidPachis/dataScience/main/taller1/data/Data_Taller_1_v3.csv'\n",
        "spoti_df = pd.read_csv(url,quotechar=\"'\",on_bad_lines='skip')"
      ]
    },
    {
      "cell_type": "code",
      "execution_count": 91,
      "metadata": {
        "colab": {
          "base_uri": "https://localhost:8080/"
        },
        "id": "Oa5ltomOerxy",
        "outputId": "3bb1a581-a94d-4d3c-8a1e-23cb71a97864"
      },
      "outputs": [
        {
          "output_type": "execute_result",
          "data": {
            "text/plain": [
              "(1999, 18)"
            ]
          },
          "metadata": {},
          "execution_count": 91
        }
      ],
      "source": [
        "# Showing dataframe dimensions\n",
        "spoti_df.shape"
      ]
    },
    {
      "cell_type": "code",
      "execution_count": 92,
      "metadata": {
        "colab": {
          "base_uri": "https://localhost:8080/"
        },
        "id": "dE2awzI8erxy",
        "outputId": "6b9f0efd-da9b-4afb-d422-5dcd39b3637d"
      },
      "outputs": [
        {
          "output_type": "execute_result",
          "data": {
            "text/plain": [
              "artist               object\n",
              "song                 object\n",
              "duration_ms         float64\n",
              "explicit             object\n",
              "year                  int64\n",
              "popularity          float64\n",
              "danceability        float64\n",
              "energy              float64\n",
              "key                   int64\n",
              "loudness            float64\n",
              "mode                  int64\n",
              "speechiness         float64\n",
              "acousticness        float64\n",
              "instrumentalness    float64\n",
              "liveness            float64\n",
              "valence             float64\n",
              "tempo               float64\n",
              "genre;               object\n",
              "dtype: object"
            ]
          },
          "metadata": {},
          "execution_count": 92
        }
      ],
      "source": [
        "# Showing column types\n",
        "spoti_df.dtypes"
      ]
    },
    {
      "cell_type": "code",
      "execution_count": 93,
      "metadata": {
        "colab": {
          "base_uri": "https://localhost:8080/",
          "height": 372
        },
        "id": "Hxv3NEHOerxz",
        "outputId": "77b4c262-6d83-4b41-f63d-766a0bdf2e6b"
      },
      "outputs": [
        {
          "output_type": "execute_result",
          "data": {
            "text/plain": [
              "           artist                    song  duration_ms explicit  year  \\\n",
              "0  Britney Spears  Oops!...I Did It Again     211160.0    False  2000   \n",
              "1       blink-182    All The Small Things     167066.0    False  1999   \n",
              "2      Faith Hill                 Breathe     250546.0    False  1999   \n",
              "3        Bon Jovi            It!s My Life     224493.0    False  2000   \n",
              "4          *NSYNC             Bye Bye Bye     200560.0    False  2000   \n",
              "\n",
              "   popularity  danceability  energy  key  loudness  mode  speechiness  \\\n",
              "0        77.0         0.751   0.834    1    -5.444     0       0.0437   \n",
              "1        79.0         0.434   0.897    0    -4.918     1       0.0488   \n",
              "2        66.0         0.529   0.496    7    -9.007     1       0.0290   \n",
              "3        78.0         0.551   0.913    0    -4.063     0       0.0466   \n",
              "4         NaN         0.614   0.928    8    -4.806     0       0.0516   \n",
              "\n",
              "   acousticness  instrumentalness  liveness  valence    tempo         genre;  \n",
              "0        0.3000          0.000018    0.3550    0.894   95.053           pop;  \n",
              "1        0.0103          0.000000    0.6120    0.684  148.726     rock, pop;  \n",
              "2        0.1730          0.000000    0.2510    0.278  136.859  pop, country;  \n",
              "3        0.0263          0.000013    0.3470    0.544  119.992   rock, metal;  \n",
              "4        0.0408          0.001040    0.0845    0.879  172.656           pop;  "
            ],
            "text/html": [
              "\n",
              "  <div id=\"df-74a396fd-f4fc-4a34-84b4-9f022d4fa237\">\n",
              "    <div class=\"colab-df-container\">\n",
              "      <div>\n",
              "<style scoped>\n",
              "    .dataframe tbody tr th:only-of-type {\n",
              "        vertical-align: middle;\n",
              "    }\n",
              "\n",
              "    .dataframe tbody tr th {\n",
              "        vertical-align: top;\n",
              "    }\n",
              "\n",
              "    .dataframe thead th {\n",
              "        text-align: right;\n",
              "    }\n",
              "</style>\n",
              "<table border=\"1\" class=\"dataframe\">\n",
              "  <thead>\n",
              "    <tr style=\"text-align: right;\">\n",
              "      <th></th>\n",
              "      <th>artist</th>\n",
              "      <th>song</th>\n",
              "      <th>duration_ms</th>\n",
              "      <th>explicit</th>\n",
              "      <th>year</th>\n",
              "      <th>popularity</th>\n",
              "      <th>danceability</th>\n",
              "      <th>energy</th>\n",
              "      <th>key</th>\n",
              "      <th>loudness</th>\n",
              "      <th>mode</th>\n",
              "      <th>speechiness</th>\n",
              "      <th>acousticness</th>\n",
              "      <th>instrumentalness</th>\n",
              "      <th>liveness</th>\n",
              "      <th>valence</th>\n",
              "      <th>tempo</th>\n",
              "      <th>genre;</th>\n",
              "    </tr>\n",
              "  </thead>\n",
              "  <tbody>\n",
              "    <tr>\n",
              "      <th>0</th>\n",
              "      <td>Britney Spears</td>\n",
              "      <td>Oops!...I Did It Again</td>\n",
              "      <td>211160.0</td>\n",
              "      <td>False</td>\n",
              "      <td>2000</td>\n",
              "      <td>77.0</td>\n",
              "      <td>0.751</td>\n",
              "      <td>0.834</td>\n",
              "      <td>1</td>\n",
              "      <td>-5.444</td>\n",
              "      <td>0</td>\n",
              "      <td>0.0437</td>\n",
              "      <td>0.3000</td>\n",
              "      <td>0.000018</td>\n",
              "      <td>0.3550</td>\n",
              "      <td>0.894</td>\n",
              "      <td>95.053</td>\n",
              "      <td>pop;</td>\n",
              "    </tr>\n",
              "    <tr>\n",
              "      <th>1</th>\n",
              "      <td>blink-182</td>\n",
              "      <td>All The Small Things</td>\n",
              "      <td>167066.0</td>\n",
              "      <td>False</td>\n",
              "      <td>1999</td>\n",
              "      <td>79.0</td>\n",
              "      <td>0.434</td>\n",
              "      <td>0.897</td>\n",
              "      <td>0</td>\n",
              "      <td>-4.918</td>\n",
              "      <td>1</td>\n",
              "      <td>0.0488</td>\n",
              "      <td>0.0103</td>\n",
              "      <td>0.000000</td>\n",
              "      <td>0.6120</td>\n",
              "      <td>0.684</td>\n",
              "      <td>148.726</td>\n",
              "      <td>rock, pop;</td>\n",
              "    </tr>\n",
              "    <tr>\n",
              "      <th>2</th>\n",
              "      <td>Faith Hill</td>\n",
              "      <td>Breathe</td>\n",
              "      <td>250546.0</td>\n",
              "      <td>False</td>\n",
              "      <td>1999</td>\n",
              "      <td>66.0</td>\n",
              "      <td>0.529</td>\n",
              "      <td>0.496</td>\n",
              "      <td>7</td>\n",
              "      <td>-9.007</td>\n",
              "      <td>1</td>\n",
              "      <td>0.0290</td>\n",
              "      <td>0.1730</td>\n",
              "      <td>0.000000</td>\n",
              "      <td>0.2510</td>\n",
              "      <td>0.278</td>\n",
              "      <td>136.859</td>\n",
              "      <td>pop, country;</td>\n",
              "    </tr>\n",
              "    <tr>\n",
              "      <th>3</th>\n",
              "      <td>Bon Jovi</td>\n",
              "      <td>It!s My Life</td>\n",
              "      <td>224493.0</td>\n",
              "      <td>False</td>\n",
              "      <td>2000</td>\n",
              "      <td>78.0</td>\n",
              "      <td>0.551</td>\n",
              "      <td>0.913</td>\n",
              "      <td>0</td>\n",
              "      <td>-4.063</td>\n",
              "      <td>0</td>\n",
              "      <td>0.0466</td>\n",
              "      <td>0.0263</td>\n",
              "      <td>0.000013</td>\n",
              "      <td>0.3470</td>\n",
              "      <td>0.544</td>\n",
              "      <td>119.992</td>\n",
              "      <td>rock, metal;</td>\n",
              "    </tr>\n",
              "    <tr>\n",
              "      <th>4</th>\n",
              "      <td>*NSYNC</td>\n",
              "      <td>Bye Bye Bye</td>\n",
              "      <td>200560.0</td>\n",
              "      <td>False</td>\n",
              "      <td>2000</td>\n",
              "      <td>NaN</td>\n",
              "      <td>0.614</td>\n",
              "      <td>0.928</td>\n",
              "      <td>8</td>\n",
              "      <td>-4.806</td>\n",
              "      <td>0</td>\n",
              "      <td>0.0516</td>\n",
              "      <td>0.0408</td>\n",
              "      <td>0.001040</td>\n",
              "      <td>0.0845</td>\n",
              "      <td>0.879</td>\n",
              "      <td>172.656</td>\n",
              "      <td>pop;</td>\n",
              "    </tr>\n",
              "  </tbody>\n",
              "</table>\n",
              "</div>\n",
              "      <button class=\"colab-df-convert\" onclick=\"convertToInteractive('df-74a396fd-f4fc-4a34-84b4-9f022d4fa237')\"\n",
              "              title=\"Convert this dataframe to an interactive table.\"\n",
              "              style=\"display:none;\">\n",
              "        \n",
              "  <svg xmlns=\"http://www.w3.org/2000/svg\" height=\"24px\"viewBox=\"0 0 24 24\"\n",
              "       width=\"24px\">\n",
              "    <path d=\"M0 0h24v24H0V0z\" fill=\"none\"/>\n",
              "    <path d=\"M18.56 5.44l.94 2.06.94-2.06 2.06-.94-2.06-.94-.94-2.06-.94 2.06-2.06.94zm-11 1L8.5 8.5l.94-2.06 2.06-.94-2.06-.94L8.5 2.5l-.94 2.06-2.06.94zm10 10l.94 2.06.94-2.06 2.06-.94-2.06-.94-.94-2.06-.94 2.06-2.06.94z\"/><path d=\"M17.41 7.96l-1.37-1.37c-.4-.4-.92-.59-1.43-.59-.52 0-1.04.2-1.43.59L10.3 9.45l-7.72 7.72c-.78.78-.78 2.05 0 2.83L4 21.41c.39.39.9.59 1.41.59.51 0 1.02-.2 1.41-.59l7.78-7.78 2.81-2.81c.8-.78.8-2.07 0-2.86zM5.41 20L4 18.59l7.72-7.72 1.47 1.35L5.41 20z\"/>\n",
              "  </svg>\n",
              "      </button>\n",
              "      \n",
              "  <style>\n",
              "    .colab-df-container {\n",
              "      display:flex;\n",
              "      flex-wrap:wrap;\n",
              "      gap: 12px;\n",
              "    }\n",
              "\n",
              "    .colab-df-convert {\n",
              "      background-color: #E8F0FE;\n",
              "      border: none;\n",
              "      border-radius: 50%;\n",
              "      cursor: pointer;\n",
              "      display: none;\n",
              "      fill: #1967D2;\n",
              "      height: 32px;\n",
              "      padding: 0 0 0 0;\n",
              "      width: 32px;\n",
              "    }\n",
              "\n",
              "    .colab-df-convert:hover {\n",
              "      background-color: #E2EBFA;\n",
              "      box-shadow: 0px 1px 2px rgba(60, 64, 67, 0.3), 0px 1px 3px 1px rgba(60, 64, 67, 0.15);\n",
              "      fill: #174EA6;\n",
              "    }\n",
              "\n",
              "    [theme=dark] .colab-df-convert {\n",
              "      background-color: #3B4455;\n",
              "      fill: #D2E3FC;\n",
              "    }\n",
              "\n",
              "    [theme=dark] .colab-df-convert:hover {\n",
              "      background-color: #434B5C;\n",
              "      box-shadow: 0px 1px 3px 1px rgba(0, 0, 0, 0.15);\n",
              "      filter: drop-shadow(0px 1px 2px rgba(0, 0, 0, 0.3));\n",
              "      fill: #FFFFFF;\n",
              "    }\n",
              "  </style>\n",
              "\n",
              "      <script>\n",
              "        const buttonEl =\n",
              "          document.querySelector('#df-74a396fd-f4fc-4a34-84b4-9f022d4fa237 button.colab-df-convert');\n",
              "        buttonEl.style.display =\n",
              "          google.colab.kernel.accessAllowed ? 'block' : 'none';\n",
              "\n",
              "        async function convertToInteractive(key) {\n",
              "          const element = document.querySelector('#df-74a396fd-f4fc-4a34-84b4-9f022d4fa237');\n",
              "          const dataTable =\n",
              "            await google.colab.kernel.invokeFunction('convertToInteractive',\n",
              "                                                     [key], {});\n",
              "          if (!dataTable) return;\n",
              "\n",
              "          const docLinkHtml = 'Like what you see? Visit the ' +\n",
              "            '<a target=\"_blank\" href=https://colab.research.google.com/notebooks/data_table.ipynb>data table notebook</a>'\n",
              "            + ' to learn more about interactive tables.';\n",
              "          element.innerHTML = '';\n",
              "          dataTable['output_type'] = 'display_data';\n",
              "          await google.colab.output.renderOutput(dataTable, element);\n",
              "          const docLink = document.createElement('div');\n",
              "          docLink.innerHTML = docLinkHtml;\n",
              "          element.appendChild(docLink);\n",
              "        }\n",
              "      </script>\n",
              "    </div>\n",
              "  </div>\n",
              "  "
            ]
          },
          "metadata": {},
          "execution_count": 93
        }
      ],
      "source": [
        "# Showing first rows\n",
        "spoti_df.head(5)"
      ]
    },
    {
      "cell_type": "code",
      "source": [
        "spoti_df = spoti_df.rename({'genre;': 'genre'}, axis=1)\n",
        "spoti_df.head(2)"
      ],
      "metadata": {
        "colab": {
          "base_uri": "https://localhost:8080/",
          "height": 225
        },
        "id": "Hb2Aabg9p3DP",
        "outputId": "5932837c-ddbf-4734-af19-60f335f4d7d1"
      },
      "execution_count": 94,
      "outputs": [
        {
          "output_type": "execute_result",
          "data": {
            "text/plain": [
              "           artist                    song  duration_ms explicit  year  \\\n",
              "0  Britney Spears  Oops!...I Did It Again     211160.0    False  2000   \n",
              "1       blink-182    All The Small Things     167066.0    False  1999   \n",
              "\n",
              "   popularity  danceability  energy  key  loudness  mode  speechiness  \\\n",
              "0        77.0         0.751   0.834    1    -5.444     0       0.0437   \n",
              "1        79.0         0.434   0.897    0    -4.918     1       0.0488   \n",
              "\n",
              "   acousticness  instrumentalness  liveness  valence    tempo       genre  \n",
              "0        0.3000          0.000018     0.355    0.894   95.053        pop;  \n",
              "1        0.0103          0.000000     0.612    0.684  148.726  rock, pop;  "
            ],
            "text/html": [
              "\n",
              "  <div id=\"df-465d85fb-70d7-4a49-962a-da99efe7a17d\">\n",
              "    <div class=\"colab-df-container\">\n",
              "      <div>\n",
              "<style scoped>\n",
              "    .dataframe tbody tr th:only-of-type {\n",
              "        vertical-align: middle;\n",
              "    }\n",
              "\n",
              "    .dataframe tbody tr th {\n",
              "        vertical-align: top;\n",
              "    }\n",
              "\n",
              "    .dataframe thead th {\n",
              "        text-align: right;\n",
              "    }\n",
              "</style>\n",
              "<table border=\"1\" class=\"dataframe\">\n",
              "  <thead>\n",
              "    <tr style=\"text-align: right;\">\n",
              "      <th></th>\n",
              "      <th>artist</th>\n",
              "      <th>song</th>\n",
              "      <th>duration_ms</th>\n",
              "      <th>explicit</th>\n",
              "      <th>year</th>\n",
              "      <th>popularity</th>\n",
              "      <th>danceability</th>\n",
              "      <th>energy</th>\n",
              "      <th>key</th>\n",
              "      <th>loudness</th>\n",
              "      <th>mode</th>\n",
              "      <th>speechiness</th>\n",
              "      <th>acousticness</th>\n",
              "      <th>instrumentalness</th>\n",
              "      <th>liveness</th>\n",
              "      <th>valence</th>\n",
              "      <th>tempo</th>\n",
              "      <th>genre</th>\n",
              "    </tr>\n",
              "  </thead>\n",
              "  <tbody>\n",
              "    <tr>\n",
              "      <th>0</th>\n",
              "      <td>Britney Spears</td>\n",
              "      <td>Oops!...I Did It Again</td>\n",
              "      <td>211160.0</td>\n",
              "      <td>False</td>\n",
              "      <td>2000</td>\n",
              "      <td>77.0</td>\n",
              "      <td>0.751</td>\n",
              "      <td>0.834</td>\n",
              "      <td>1</td>\n",
              "      <td>-5.444</td>\n",
              "      <td>0</td>\n",
              "      <td>0.0437</td>\n",
              "      <td>0.3000</td>\n",
              "      <td>0.000018</td>\n",
              "      <td>0.355</td>\n",
              "      <td>0.894</td>\n",
              "      <td>95.053</td>\n",
              "      <td>pop;</td>\n",
              "    </tr>\n",
              "    <tr>\n",
              "      <th>1</th>\n",
              "      <td>blink-182</td>\n",
              "      <td>All The Small Things</td>\n",
              "      <td>167066.0</td>\n",
              "      <td>False</td>\n",
              "      <td>1999</td>\n",
              "      <td>79.0</td>\n",
              "      <td>0.434</td>\n",
              "      <td>0.897</td>\n",
              "      <td>0</td>\n",
              "      <td>-4.918</td>\n",
              "      <td>1</td>\n",
              "      <td>0.0488</td>\n",
              "      <td>0.0103</td>\n",
              "      <td>0.000000</td>\n",
              "      <td>0.612</td>\n",
              "      <td>0.684</td>\n",
              "      <td>148.726</td>\n",
              "      <td>rock, pop;</td>\n",
              "    </tr>\n",
              "  </tbody>\n",
              "</table>\n",
              "</div>\n",
              "      <button class=\"colab-df-convert\" onclick=\"convertToInteractive('df-465d85fb-70d7-4a49-962a-da99efe7a17d')\"\n",
              "              title=\"Convert this dataframe to an interactive table.\"\n",
              "              style=\"display:none;\">\n",
              "        \n",
              "  <svg xmlns=\"http://www.w3.org/2000/svg\" height=\"24px\"viewBox=\"0 0 24 24\"\n",
              "       width=\"24px\">\n",
              "    <path d=\"M0 0h24v24H0V0z\" fill=\"none\"/>\n",
              "    <path d=\"M18.56 5.44l.94 2.06.94-2.06 2.06-.94-2.06-.94-.94-2.06-.94 2.06-2.06.94zm-11 1L8.5 8.5l.94-2.06 2.06-.94-2.06-.94L8.5 2.5l-.94 2.06-2.06.94zm10 10l.94 2.06.94-2.06 2.06-.94-2.06-.94-.94-2.06-.94 2.06-2.06.94z\"/><path d=\"M17.41 7.96l-1.37-1.37c-.4-.4-.92-.59-1.43-.59-.52 0-1.04.2-1.43.59L10.3 9.45l-7.72 7.72c-.78.78-.78 2.05 0 2.83L4 21.41c.39.39.9.59 1.41.59.51 0 1.02-.2 1.41-.59l7.78-7.78 2.81-2.81c.8-.78.8-2.07 0-2.86zM5.41 20L4 18.59l7.72-7.72 1.47 1.35L5.41 20z\"/>\n",
              "  </svg>\n",
              "      </button>\n",
              "      \n",
              "  <style>\n",
              "    .colab-df-container {\n",
              "      display:flex;\n",
              "      flex-wrap:wrap;\n",
              "      gap: 12px;\n",
              "    }\n",
              "\n",
              "    .colab-df-convert {\n",
              "      background-color: #E8F0FE;\n",
              "      border: none;\n",
              "      border-radius: 50%;\n",
              "      cursor: pointer;\n",
              "      display: none;\n",
              "      fill: #1967D2;\n",
              "      height: 32px;\n",
              "      padding: 0 0 0 0;\n",
              "      width: 32px;\n",
              "    }\n",
              "\n",
              "    .colab-df-convert:hover {\n",
              "      background-color: #E2EBFA;\n",
              "      box-shadow: 0px 1px 2px rgba(60, 64, 67, 0.3), 0px 1px 3px 1px rgba(60, 64, 67, 0.15);\n",
              "      fill: #174EA6;\n",
              "    }\n",
              "\n",
              "    [theme=dark] .colab-df-convert {\n",
              "      background-color: #3B4455;\n",
              "      fill: #D2E3FC;\n",
              "    }\n",
              "\n",
              "    [theme=dark] .colab-df-convert:hover {\n",
              "      background-color: #434B5C;\n",
              "      box-shadow: 0px 1px 3px 1px rgba(0, 0, 0, 0.15);\n",
              "      filter: drop-shadow(0px 1px 2px rgba(0, 0, 0, 0.3));\n",
              "      fill: #FFFFFF;\n",
              "    }\n",
              "  </style>\n",
              "\n",
              "      <script>\n",
              "        const buttonEl =\n",
              "          document.querySelector('#df-465d85fb-70d7-4a49-962a-da99efe7a17d button.colab-df-convert');\n",
              "        buttonEl.style.display =\n",
              "          google.colab.kernel.accessAllowed ? 'block' : 'none';\n",
              "\n",
              "        async function convertToInteractive(key) {\n",
              "          const element = document.querySelector('#df-465d85fb-70d7-4a49-962a-da99efe7a17d');\n",
              "          const dataTable =\n",
              "            await google.colab.kernel.invokeFunction('convertToInteractive',\n",
              "                                                     [key], {});\n",
              "          if (!dataTable) return;\n",
              "\n",
              "          const docLinkHtml = 'Like what you see? Visit the ' +\n",
              "            '<a target=\"_blank\" href=https://colab.research.google.com/notebooks/data_table.ipynb>data table notebook</a>'\n",
              "            + ' to learn more about interactive tables.';\n",
              "          element.innerHTML = '';\n",
              "          dataTable['output_type'] = 'display_data';\n",
              "          await google.colab.output.renderOutput(dataTable, element);\n",
              "          const docLink = document.createElement('div');\n",
              "          docLink.innerHTML = docLinkHtml;\n",
              "          element.appendChild(docLink);\n",
              "        }\n",
              "      </script>\n",
              "    </div>\n",
              "  </div>\n",
              "  "
            ]
          },
          "metadata": {},
          "execution_count": 94
        }
      ]
    },
    {
      "cell_type": "code",
      "source": [
        "spoti_df['genre'] = spoti_df['genre'].str.replace(';','')\n",
        "spoti_df.head(3)"
      ],
      "metadata": {
        "colab": {
          "base_uri": "https://localhost:8080/",
          "height": 274
        },
        "id": "SNJ6T5pwoTjQ",
        "outputId": "67e73be4-722b-462d-e5de-fd351ca43694"
      },
      "execution_count": 95,
      "outputs": [
        {
          "output_type": "execute_result",
          "data": {
            "text/plain": [
              "           artist                    song  duration_ms explicit  year  \\\n",
              "0  Britney Spears  Oops!...I Did It Again     211160.0    False  2000   \n",
              "1       blink-182    All The Small Things     167066.0    False  1999   \n",
              "2      Faith Hill                 Breathe     250546.0    False  1999   \n",
              "\n",
              "   popularity  danceability  energy  key  loudness  mode  speechiness  \\\n",
              "0        77.0         0.751   0.834    1    -5.444     0       0.0437   \n",
              "1        79.0         0.434   0.897    0    -4.918     1       0.0488   \n",
              "2        66.0         0.529   0.496    7    -9.007     1       0.0290   \n",
              "\n",
              "   acousticness  instrumentalness  liveness  valence    tempo         genre  \n",
              "0        0.3000          0.000018     0.355    0.894   95.053           pop  \n",
              "1        0.0103          0.000000     0.612    0.684  148.726     rock, pop  \n",
              "2        0.1730          0.000000     0.251    0.278  136.859  pop, country  "
            ],
            "text/html": [
              "\n",
              "  <div id=\"df-9862c654-0f0e-4d49-97bc-66b51c33d55d\">\n",
              "    <div class=\"colab-df-container\">\n",
              "      <div>\n",
              "<style scoped>\n",
              "    .dataframe tbody tr th:only-of-type {\n",
              "        vertical-align: middle;\n",
              "    }\n",
              "\n",
              "    .dataframe tbody tr th {\n",
              "        vertical-align: top;\n",
              "    }\n",
              "\n",
              "    .dataframe thead th {\n",
              "        text-align: right;\n",
              "    }\n",
              "</style>\n",
              "<table border=\"1\" class=\"dataframe\">\n",
              "  <thead>\n",
              "    <tr style=\"text-align: right;\">\n",
              "      <th></th>\n",
              "      <th>artist</th>\n",
              "      <th>song</th>\n",
              "      <th>duration_ms</th>\n",
              "      <th>explicit</th>\n",
              "      <th>year</th>\n",
              "      <th>popularity</th>\n",
              "      <th>danceability</th>\n",
              "      <th>energy</th>\n",
              "      <th>key</th>\n",
              "      <th>loudness</th>\n",
              "      <th>mode</th>\n",
              "      <th>speechiness</th>\n",
              "      <th>acousticness</th>\n",
              "      <th>instrumentalness</th>\n",
              "      <th>liveness</th>\n",
              "      <th>valence</th>\n",
              "      <th>tempo</th>\n",
              "      <th>genre</th>\n",
              "    </tr>\n",
              "  </thead>\n",
              "  <tbody>\n",
              "    <tr>\n",
              "      <th>0</th>\n",
              "      <td>Britney Spears</td>\n",
              "      <td>Oops!...I Did It Again</td>\n",
              "      <td>211160.0</td>\n",
              "      <td>False</td>\n",
              "      <td>2000</td>\n",
              "      <td>77.0</td>\n",
              "      <td>0.751</td>\n",
              "      <td>0.834</td>\n",
              "      <td>1</td>\n",
              "      <td>-5.444</td>\n",
              "      <td>0</td>\n",
              "      <td>0.0437</td>\n",
              "      <td>0.3000</td>\n",
              "      <td>0.000018</td>\n",
              "      <td>0.355</td>\n",
              "      <td>0.894</td>\n",
              "      <td>95.053</td>\n",
              "      <td>pop</td>\n",
              "    </tr>\n",
              "    <tr>\n",
              "      <th>1</th>\n",
              "      <td>blink-182</td>\n",
              "      <td>All The Small Things</td>\n",
              "      <td>167066.0</td>\n",
              "      <td>False</td>\n",
              "      <td>1999</td>\n",
              "      <td>79.0</td>\n",
              "      <td>0.434</td>\n",
              "      <td>0.897</td>\n",
              "      <td>0</td>\n",
              "      <td>-4.918</td>\n",
              "      <td>1</td>\n",
              "      <td>0.0488</td>\n",
              "      <td>0.0103</td>\n",
              "      <td>0.000000</td>\n",
              "      <td>0.612</td>\n",
              "      <td>0.684</td>\n",
              "      <td>148.726</td>\n",
              "      <td>rock, pop</td>\n",
              "    </tr>\n",
              "    <tr>\n",
              "      <th>2</th>\n",
              "      <td>Faith Hill</td>\n",
              "      <td>Breathe</td>\n",
              "      <td>250546.0</td>\n",
              "      <td>False</td>\n",
              "      <td>1999</td>\n",
              "      <td>66.0</td>\n",
              "      <td>0.529</td>\n",
              "      <td>0.496</td>\n",
              "      <td>7</td>\n",
              "      <td>-9.007</td>\n",
              "      <td>1</td>\n",
              "      <td>0.0290</td>\n",
              "      <td>0.1730</td>\n",
              "      <td>0.000000</td>\n",
              "      <td>0.251</td>\n",
              "      <td>0.278</td>\n",
              "      <td>136.859</td>\n",
              "      <td>pop, country</td>\n",
              "    </tr>\n",
              "  </tbody>\n",
              "</table>\n",
              "</div>\n",
              "      <button class=\"colab-df-convert\" onclick=\"convertToInteractive('df-9862c654-0f0e-4d49-97bc-66b51c33d55d')\"\n",
              "              title=\"Convert this dataframe to an interactive table.\"\n",
              "              style=\"display:none;\">\n",
              "        \n",
              "  <svg xmlns=\"http://www.w3.org/2000/svg\" height=\"24px\"viewBox=\"0 0 24 24\"\n",
              "       width=\"24px\">\n",
              "    <path d=\"M0 0h24v24H0V0z\" fill=\"none\"/>\n",
              "    <path d=\"M18.56 5.44l.94 2.06.94-2.06 2.06-.94-2.06-.94-.94-2.06-.94 2.06-2.06.94zm-11 1L8.5 8.5l.94-2.06 2.06-.94-2.06-.94L8.5 2.5l-.94 2.06-2.06.94zm10 10l.94 2.06.94-2.06 2.06-.94-2.06-.94-.94-2.06-.94 2.06-2.06.94z\"/><path d=\"M17.41 7.96l-1.37-1.37c-.4-.4-.92-.59-1.43-.59-.52 0-1.04.2-1.43.59L10.3 9.45l-7.72 7.72c-.78.78-.78 2.05 0 2.83L4 21.41c.39.39.9.59 1.41.59.51 0 1.02-.2 1.41-.59l7.78-7.78 2.81-2.81c.8-.78.8-2.07 0-2.86zM5.41 20L4 18.59l7.72-7.72 1.47 1.35L5.41 20z\"/>\n",
              "  </svg>\n",
              "      </button>\n",
              "      \n",
              "  <style>\n",
              "    .colab-df-container {\n",
              "      display:flex;\n",
              "      flex-wrap:wrap;\n",
              "      gap: 12px;\n",
              "    }\n",
              "\n",
              "    .colab-df-convert {\n",
              "      background-color: #E8F0FE;\n",
              "      border: none;\n",
              "      border-radius: 50%;\n",
              "      cursor: pointer;\n",
              "      display: none;\n",
              "      fill: #1967D2;\n",
              "      height: 32px;\n",
              "      padding: 0 0 0 0;\n",
              "      width: 32px;\n",
              "    }\n",
              "\n",
              "    .colab-df-convert:hover {\n",
              "      background-color: #E2EBFA;\n",
              "      box-shadow: 0px 1px 2px rgba(60, 64, 67, 0.3), 0px 1px 3px 1px rgba(60, 64, 67, 0.15);\n",
              "      fill: #174EA6;\n",
              "    }\n",
              "\n",
              "    [theme=dark] .colab-df-convert {\n",
              "      background-color: #3B4455;\n",
              "      fill: #D2E3FC;\n",
              "    }\n",
              "\n",
              "    [theme=dark] .colab-df-convert:hover {\n",
              "      background-color: #434B5C;\n",
              "      box-shadow: 0px 1px 3px 1px rgba(0, 0, 0, 0.15);\n",
              "      filter: drop-shadow(0px 1px 2px rgba(0, 0, 0, 0.3));\n",
              "      fill: #FFFFFF;\n",
              "    }\n",
              "  </style>\n",
              "\n",
              "      <script>\n",
              "        const buttonEl =\n",
              "          document.querySelector('#df-9862c654-0f0e-4d49-97bc-66b51c33d55d button.colab-df-convert');\n",
              "        buttonEl.style.display =\n",
              "          google.colab.kernel.accessAllowed ? 'block' : 'none';\n",
              "\n",
              "        async function convertToInteractive(key) {\n",
              "          const element = document.querySelector('#df-9862c654-0f0e-4d49-97bc-66b51c33d55d');\n",
              "          const dataTable =\n",
              "            await google.colab.kernel.invokeFunction('convertToInteractive',\n",
              "                                                     [key], {});\n",
              "          if (!dataTable) return;\n",
              "\n",
              "          const docLinkHtml = 'Like what you see? Visit the ' +\n",
              "            '<a target=\"_blank\" href=https://colab.research.google.com/notebooks/data_table.ipynb>data table notebook</a>'\n",
              "            + ' to learn more about interactive tables.';\n",
              "          element.innerHTML = '';\n",
              "          dataTable['output_type'] = 'display_data';\n",
              "          await google.colab.output.renderOutput(dataTable, element);\n",
              "          const docLink = document.createElement('div');\n",
              "          docLink.innerHTML = docLinkHtml;\n",
              "          element.appendChild(docLink);\n",
              "        }\n",
              "      </script>\n",
              "    </div>\n",
              "  </div>\n",
              "  "
            ]
          },
          "metadata": {},
          "execution_count": 95
        }
      ]
    },
    {
      "cell_type": "code",
      "source": [
        "#spoti_df['genre']=spoti_df['genre'].str.split(\",\", n=4,expand=True)\n",
        "temp=spoti_df['genre'].str.split(\",\", n=4,expand=True)\n",
        "temp.columns = ['genre{}'.format(x+1) for x in temp.columns]\n",
        "spoti_df =spoti_df.join(temp)"
      ],
      "metadata": {
        "id": "mm0CrNJaKhIx"
      },
      "execution_count": 116,
      "outputs": []
    },
    {
      "cell_type": "code",
      "source": [
        "spoti_df.head(5)"
      ],
      "metadata": {
        "colab": {
          "base_uri": "https://localhost:8080/",
          "height": 392
        },
        "id": "HnPVJBeLQuI7",
        "outputId": "4aab1f53-ff94-4054-9021-c0fd05c0a7b2"
      },
      "execution_count": 117,
      "outputs": [
        {
          "output_type": "execute_result",
          "data": {
            "text/plain": [
              "           artist                    song  duration_ms explicit  year  \\\n",
              "0  Britney Spears  Oops!...I Did It Again     211160.0    False  2000   \n",
              "1       blink-182    All The Small Things     167066.0    False  1999   \n",
              "2      Faith Hill                 Breathe     250546.0    False  1999   \n",
              "3        Bon Jovi            It!s My Life     224493.0    False  2000   \n",
              "4          *NSYNC             Bye Bye Bye     200560.0    False  2000   \n",
              "\n",
              "   popularity  danceability  energy  key  loudness  mode  speechiness  \\\n",
              "0        77.0         0.751   0.834    1    -5.444     0       0.0437   \n",
              "1        79.0         0.434   0.897    0    -4.918     1       0.0488   \n",
              "2        66.0         0.529   0.496    7    -9.007     1       0.0290   \n",
              "3        78.0         0.551   0.913    0    -4.063     0       0.0466   \n",
              "4         NaN         0.614   0.928    8    -4.806     0       0.0516   \n",
              "\n",
              "   acousticness  instrumentalness  liveness  valence    tempo         genre  \\\n",
              "0        0.3000          0.000018    0.3550    0.894   95.053           pop   \n",
              "1        0.0103          0.000000    0.6120    0.684  148.726     rock, pop   \n",
              "2        0.1730          0.000000    0.2510    0.278  136.859  pop, country   \n",
              "3        0.0263          0.000013    0.3470    0.544  119.992   rock, metal   \n",
              "4        0.0408          0.001040    0.0845    0.879  172.656           pop   \n",
              "\n",
              "  genre1    genre2 genre3 genre4  \n",
              "0    pop      None   None   None  \n",
              "1   rock       pop   None   None  \n",
              "2    pop   country   None   None  \n",
              "3   rock     metal   None   None  \n",
              "4    pop      None   None   None  "
            ],
            "text/html": [
              "\n",
              "  <div id=\"df-38808009-02dd-44b5-9faa-8faa76632def\">\n",
              "    <div class=\"colab-df-container\">\n",
              "      <div>\n",
              "<style scoped>\n",
              "    .dataframe tbody tr th:only-of-type {\n",
              "        vertical-align: middle;\n",
              "    }\n",
              "\n",
              "    .dataframe tbody tr th {\n",
              "        vertical-align: top;\n",
              "    }\n",
              "\n",
              "    .dataframe thead th {\n",
              "        text-align: right;\n",
              "    }\n",
              "</style>\n",
              "<table border=\"1\" class=\"dataframe\">\n",
              "  <thead>\n",
              "    <tr style=\"text-align: right;\">\n",
              "      <th></th>\n",
              "      <th>artist</th>\n",
              "      <th>song</th>\n",
              "      <th>duration_ms</th>\n",
              "      <th>explicit</th>\n",
              "      <th>year</th>\n",
              "      <th>popularity</th>\n",
              "      <th>danceability</th>\n",
              "      <th>energy</th>\n",
              "      <th>key</th>\n",
              "      <th>loudness</th>\n",
              "      <th>mode</th>\n",
              "      <th>speechiness</th>\n",
              "      <th>acousticness</th>\n",
              "      <th>instrumentalness</th>\n",
              "      <th>liveness</th>\n",
              "      <th>valence</th>\n",
              "      <th>tempo</th>\n",
              "      <th>genre</th>\n",
              "      <th>genre1</th>\n",
              "      <th>genre2</th>\n",
              "      <th>genre3</th>\n",
              "      <th>genre4</th>\n",
              "    </tr>\n",
              "  </thead>\n",
              "  <tbody>\n",
              "    <tr>\n",
              "      <th>0</th>\n",
              "      <td>Britney Spears</td>\n",
              "      <td>Oops!...I Did It Again</td>\n",
              "      <td>211160.0</td>\n",
              "      <td>False</td>\n",
              "      <td>2000</td>\n",
              "      <td>77.0</td>\n",
              "      <td>0.751</td>\n",
              "      <td>0.834</td>\n",
              "      <td>1</td>\n",
              "      <td>-5.444</td>\n",
              "      <td>0</td>\n",
              "      <td>0.0437</td>\n",
              "      <td>0.3000</td>\n",
              "      <td>0.000018</td>\n",
              "      <td>0.3550</td>\n",
              "      <td>0.894</td>\n",
              "      <td>95.053</td>\n",
              "      <td>pop</td>\n",
              "      <td>pop</td>\n",
              "      <td>None</td>\n",
              "      <td>None</td>\n",
              "      <td>None</td>\n",
              "    </tr>\n",
              "    <tr>\n",
              "      <th>1</th>\n",
              "      <td>blink-182</td>\n",
              "      <td>All The Small Things</td>\n",
              "      <td>167066.0</td>\n",
              "      <td>False</td>\n",
              "      <td>1999</td>\n",
              "      <td>79.0</td>\n",
              "      <td>0.434</td>\n",
              "      <td>0.897</td>\n",
              "      <td>0</td>\n",
              "      <td>-4.918</td>\n",
              "      <td>1</td>\n",
              "      <td>0.0488</td>\n",
              "      <td>0.0103</td>\n",
              "      <td>0.000000</td>\n",
              "      <td>0.6120</td>\n",
              "      <td>0.684</td>\n",
              "      <td>148.726</td>\n",
              "      <td>rock, pop</td>\n",
              "      <td>rock</td>\n",
              "      <td>pop</td>\n",
              "      <td>None</td>\n",
              "      <td>None</td>\n",
              "    </tr>\n",
              "    <tr>\n",
              "      <th>2</th>\n",
              "      <td>Faith Hill</td>\n",
              "      <td>Breathe</td>\n",
              "      <td>250546.0</td>\n",
              "      <td>False</td>\n",
              "      <td>1999</td>\n",
              "      <td>66.0</td>\n",
              "      <td>0.529</td>\n",
              "      <td>0.496</td>\n",
              "      <td>7</td>\n",
              "      <td>-9.007</td>\n",
              "      <td>1</td>\n",
              "      <td>0.0290</td>\n",
              "      <td>0.1730</td>\n",
              "      <td>0.000000</td>\n",
              "      <td>0.2510</td>\n",
              "      <td>0.278</td>\n",
              "      <td>136.859</td>\n",
              "      <td>pop, country</td>\n",
              "      <td>pop</td>\n",
              "      <td>country</td>\n",
              "      <td>None</td>\n",
              "      <td>None</td>\n",
              "    </tr>\n",
              "    <tr>\n",
              "      <th>3</th>\n",
              "      <td>Bon Jovi</td>\n",
              "      <td>It!s My Life</td>\n",
              "      <td>224493.0</td>\n",
              "      <td>False</td>\n",
              "      <td>2000</td>\n",
              "      <td>78.0</td>\n",
              "      <td>0.551</td>\n",
              "      <td>0.913</td>\n",
              "      <td>0</td>\n",
              "      <td>-4.063</td>\n",
              "      <td>0</td>\n",
              "      <td>0.0466</td>\n",
              "      <td>0.0263</td>\n",
              "      <td>0.000013</td>\n",
              "      <td>0.3470</td>\n",
              "      <td>0.544</td>\n",
              "      <td>119.992</td>\n",
              "      <td>rock, metal</td>\n",
              "      <td>rock</td>\n",
              "      <td>metal</td>\n",
              "      <td>None</td>\n",
              "      <td>None</td>\n",
              "    </tr>\n",
              "    <tr>\n",
              "      <th>4</th>\n",
              "      <td>*NSYNC</td>\n",
              "      <td>Bye Bye Bye</td>\n",
              "      <td>200560.0</td>\n",
              "      <td>False</td>\n",
              "      <td>2000</td>\n",
              "      <td>NaN</td>\n",
              "      <td>0.614</td>\n",
              "      <td>0.928</td>\n",
              "      <td>8</td>\n",
              "      <td>-4.806</td>\n",
              "      <td>0</td>\n",
              "      <td>0.0516</td>\n",
              "      <td>0.0408</td>\n",
              "      <td>0.001040</td>\n",
              "      <td>0.0845</td>\n",
              "      <td>0.879</td>\n",
              "      <td>172.656</td>\n",
              "      <td>pop</td>\n",
              "      <td>pop</td>\n",
              "      <td>None</td>\n",
              "      <td>None</td>\n",
              "      <td>None</td>\n",
              "    </tr>\n",
              "  </tbody>\n",
              "</table>\n",
              "</div>\n",
              "      <button class=\"colab-df-convert\" onclick=\"convertToInteractive('df-38808009-02dd-44b5-9faa-8faa76632def')\"\n",
              "              title=\"Convert this dataframe to an interactive table.\"\n",
              "              style=\"display:none;\">\n",
              "        \n",
              "  <svg xmlns=\"http://www.w3.org/2000/svg\" height=\"24px\"viewBox=\"0 0 24 24\"\n",
              "       width=\"24px\">\n",
              "    <path d=\"M0 0h24v24H0V0z\" fill=\"none\"/>\n",
              "    <path d=\"M18.56 5.44l.94 2.06.94-2.06 2.06-.94-2.06-.94-.94-2.06-.94 2.06-2.06.94zm-11 1L8.5 8.5l.94-2.06 2.06-.94-2.06-.94L8.5 2.5l-.94 2.06-2.06.94zm10 10l.94 2.06.94-2.06 2.06-.94-2.06-.94-.94-2.06-.94 2.06-2.06.94z\"/><path d=\"M17.41 7.96l-1.37-1.37c-.4-.4-.92-.59-1.43-.59-.52 0-1.04.2-1.43.59L10.3 9.45l-7.72 7.72c-.78.78-.78 2.05 0 2.83L4 21.41c.39.39.9.59 1.41.59.51 0 1.02-.2 1.41-.59l7.78-7.78 2.81-2.81c.8-.78.8-2.07 0-2.86zM5.41 20L4 18.59l7.72-7.72 1.47 1.35L5.41 20z\"/>\n",
              "  </svg>\n",
              "      </button>\n",
              "      \n",
              "  <style>\n",
              "    .colab-df-container {\n",
              "      display:flex;\n",
              "      flex-wrap:wrap;\n",
              "      gap: 12px;\n",
              "    }\n",
              "\n",
              "    .colab-df-convert {\n",
              "      background-color: #E8F0FE;\n",
              "      border: none;\n",
              "      border-radius: 50%;\n",
              "      cursor: pointer;\n",
              "      display: none;\n",
              "      fill: #1967D2;\n",
              "      height: 32px;\n",
              "      padding: 0 0 0 0;\n",
              "      width: 32px;\n",
              "    }\n",
              "\n",
              "    .colab-df-convert:hover {\n",
              "      background-color: #E2EBFA;\n",
              "      box-shadow: 0px 1px 2px rgba(60, 64, 67, 0.3), 0px 1px 3px 1px rgba(60, 64, 67, 0.15);\n",
              "      fill: #174EA6;\n",
              "    }\n",
              "\n",
              "    [theme=dark] .colab-df-convert {\n",
              "      background-color: #3B4455;\n",
              "      fill: #D2E3FC;\n",
              "    }\n",
              "\n",
              "    [theme=dark] .colab-df-convert:hover {\n",
              "      background-color: #434B5C;\n",
              "      box-shadow: 0px 1px 3px 1px rgba(0, 0, 0, 0.15);\n",
              "      filter: drop-shadow(0px 1px 2px rgba(0, 0, 0, 0.3));\n",
              "      fill: #FFFFFF;\n",
              "    }\n",
              "  </style>\n",
              "\n",
              "      <script>\n",
              "        const buttonEl =\n",
              "          document.querySelector('#df-38808009-02dd-44b5-9faa-8faa76632def button.colab-df-convert');\n",
              "        buttonEl.style.display =\n",
              "          google.colab.kernel.accessAllowed ? 'block' : 'none';\n",
              "\n",
              "        async function convertToInteractive(key) {\n",
              "          const element = document.querySelector('#df-38808009-02dd-44b5-9faa-8faa76632def');\n",
              "          const dataTable =\n",
              "            await google.colab.kernel.invokeFunction('convertToInteractive',\n",
              "                                                     [key], {});\n",
              "          if (!dataTable) return;\n",
              "\n",
              "          const docLinkHtml = 'Like what you see? Visit the ' +\n",
              "            '<a target=\"_blank\" href=https://colab.research.google.com/notebooks/data_table.ipynb>data table notebook</a>'\n",
              "            + ' to learn more about interactive tables.';\n",
              "          element.innerHTML = '';\n",
              "          dataTable['output_type'] = 'display_data';\n",
              "          await google.colab.output.renderOutput(dataTable, element);\n",
              "          const docLink = document.createElement('div');\n",
              "          docLink.innerHTML = docLinkHtml;\n",
              "          element.appendChild(docLink);\n",
              "        }\n",
              "      </script>\n",
              "    </div>\n",
              "  </div>\n",
              "  "
            ]
          },
          "metadata": {},
          "execution_count": 117
        }
      ]
    },
    {
      "cell_type": "code",
      "execution_count": 14,
      "metadata": {
        "id": "k6tog8N9kKvS"
      },
      "outputs": [],
      "source": [
        "ProfileReport(spoti_df)"
      ]
    },
    {
      "cell_type": "code",
      "execution_count": 15,
      "metadata": {
        "id": "11d_pYMyqaBe"
      },
      "outputs": [],
      "source": [
        "#corr = spoti_df.corr()\n",
        "#corr.style.background_gradient(cmap='coolwarm')"
      ]
    },
    {
      "cell_type": "markdown",
      "metadata": {
        "id": "LO3GdIneerxz"
      },
      "source": [
        "## **Conclusiones punto 1:**\n",
        "En cuanto a problemas de calidad de los datos, se encontro que el archivo tenia comillas para separar una cadena de multiples valores de texto, como nombres de artistas y generos. El caso en que varias columnas tuvieran valores multiples, la fila se encerraba de nuevo en comillas dobles, por esta razón de remplazaron dichos caracteres, por una comilla sencilla en los casos de valor multiple, para poder leer los datos con pandas. \n",
        "\n",
        "El conjunto de datos, cuenta con 18 campos, de los cuales:\n",
        "\n",
        "**categoricas nominales**: Artist, song, explicit, genre. \n",
        "\n",
        "**categoricas ordinales**: mode.\n",
        "\n",
        "**cuantitativas discretas**: year, key,\n",
        "\n",
        "**cuantitativas continuas**: duration_ms, popularity, danceability, energy, loudness, speechiness, acousticness, instrumentalness, liveness, valence, tempo.\n"
      ]
    },
    {
      "cell_type": "markdown",
      "source": [
        "# Punto 1(hay 2 unos)\n",
        "Para desarrollar este punto primero vamos a sacar los registros duplicados del dataset pasado, para poder hacer un análisis sin sesgos, luego limitar el datafram a 10 años atras. \n",
        "Agrupe por artista sumando el numero de canciones que tiene cada artista y\n",
        "al final se hace un top de los artistas con más canciones en los ultimos 10 años. "
      ],
      "metadata": {
        "id": "ygM51_0xPaGT"
      }
    },
    {
      "cell_type": "code",
      "source": [
        "spoti_df=spoti_df.drop_duplicates()\n",
        "len(spoti_df)"
      ],
      "metadata": {
        "colab": {
          "base_uri": "https://localhost:8080/"
        },
        "id": "CTC_nzKnVSqq",
        "outputId": "7af36053-3895-4071-f9a1-8775b6895afb"
      },
      "execution_count": 17,
      "outputs": [
        {
          "output_type": "execute_result",
          "data": {
            "text/plain": [
              "1940"
            ]
          },
          "metadata": {},
          "execution_count": 17
        }
      ]
    },
    {
      "cell_type": "code",
      "execution_count": 18,
      "metadata": {
        "id": "UNkuBwdQerxz",
        "colab": {
          "base_uri": "https://localhost:8080/"
        },
        "outputId": "e21dc627-24c1-4dae-d278-e4838496f63f"
      },
      "outputs": [
        {
          "output_type": "execute_result",
          "data": {
            "text/plain": [
              "796"
            ]
          },
          "metadata": {},
          "execution_count": 18
        }
      ],
      "source": [
        "last10years=spoti_df.loc[spoti_df['year'] >=2012]\n",
        "len(last10years)"
      ]
    },
    {
      "cell_type": "code",
      "execution_count": 19,
      "metadata": {
        "id": "JaEEyBxserx0",
        "colab": {
          "base_uri": "https://localhost:8080/",
          "height": 346
        },
        "outputId": "e48b383d-51c2-4f49-db33-21d7bbd595e6"
      },
      "outputs": [
        {
          "output_type": "execute_result",
          "data": {
            "text/plain": [
              "             artist                    song  duration_ms explicit  year  \\\n",
              "29          Chicane           Don!t Give Up     210786.0    False  2016   \n",
              "46   Samantha Mumba          Gotta Tell You     201946.0    False  2018   \n",
              "115       Faithless  We Come 1 - Radio Edit     222435.0    False  2015   \n",
              "\n",
              "     popularity  danceability  energy  key  loudness  mode  speechiness  \\\n",
              "29         47.0         0.644   0.720   10    -9.635     0       0.0419   \n",
              "46         43.0         0.729   0.632    0    -8.750     0       0.0279   \n",
              "115        53.0         0.645   0.903    5   -10.587     0       0.0441   \n",
              "\n",
              "     acousticness  instrumentalness  liveness  valence    tempo  \\\n",
              "29        0.00145             0.504    0.0839    0.530  132.017   \n",
              "46        0.19100             0.000    0.1660    0.774  109.981   \n",
              "115       0.00188             0.799    0.1470    0.610  135.977   \n",
              "\n",
              "                     genre  \n",
              "29        Dance/Electronic  \n",
              "46                     pop  \n",
              "115  pop, Dance/Electronic  "
            ],
            "text/html": [
              "\n",
              "  <div id=\"df-b7203198-8b63-448d-ac75-6bdff276d6e6\">\n",
              "    <div class=\"colab-df-container\">\n",
              "      <div>\n",
              "<style scoped>\n",
              "    .dataframe tbody tr th:only-of-type {\n",
              "        vertical-align: middle;\n",
              "    }\n",
              "\n",
              "    .dataframe tbody tr th {\n",
              "        vertical-align: top;\n",
              "    }\n",
              "\n",
              "    .dataframe thead th {\n",
              "        text-align: right;\n",
              "    }\n",
              "</style>\n",
              "<table border=\"1\" class=\"dataframe\">\n",
              "  <thead>\n",
              "    <tr style=\"text-align: right;\">\n",
              "      <th></th>\n",
              "      <th>artist</th>\n",
              "      <th>song</th>\n",
              "      <th>duration_ms</th>\n",
              "      <th>explicit</th>\n",
              "      <th>year</th>\n",
              "      <th>popularity</th>\n",
              "      <th>danceability</th>\n",
              "      <th>energy</th>\n",
              "      <th>key</th>\n",
              "      <th>loudness</th>\n",
              "      <th>mode</th>\n",
              "      <th>speechiness</th>\n",
              "      <th>acousticness</th>\n",
              "      <th>instrumentalness</th>\n",
              "      <th>liveness</th>\n",
              "      <th>valence</th>\n",
              "      <th>tempo</th>\n",
              "      <th>genre</th>\n",
              "    </tr>\n",
              "  </thead>\n",
              "  <tbody>\n",
              "    <tr>\n",
              "      <th>29</th>\n",
              "      <td>Chicane</td>\n",
              "      <td>Don!t Give Up</td>\n",
              "      <td>210786.0</td>\n",
              "      <td>False</td>\n",
              "      <td>2016</td>\n",
              "      <td>47.0</td>\n",
              "      <td>0.644</td>\n",
              "      <td>0.720</td>\n",
              "      <td>10</td>\n",
              "      <td>-9.635</td>\n",
              "      <td>0</td>\n",
              "      <td>0.0419</td>\n",
              "      <td>0.00145</td>\n",
              "      <td>0.504</td>\n",
              "      <td>0.0839</td>\n",
              "      <td>0.530</td>\n",
              "      <td>132.017</td>\n",
              "      <td>Dance/Electronic</td>\n",
              "    </tr>\n",
              "    <tr>\n",
              "      <th>46</th>\n",
              "      <td>Samantha Mumba</td>\n",
              "      <td>Gotta Tell You</td>\n",
              "      <td>201946.0</td>\n",
              "      <td>False</td>\n",
              "      <td>2018</td>\n",
              "      <td>43.0</td>\n",
              "      <td>0.729</td>\n",
              "      <td>0.632</td>\n",
              "      <td>0</td>\n",
              "      <td>-8.750</td>\n",
              "      <td>0</td>\n",
              "      <td>0.0279</td>\n",
              "      <td>0.19100</td>\n",
              "      <td>0.000</td>\n",
              "      <td>0.1660</td>\n",
              "      <td>0.774</td>\n",
              "      <td>109.981</td>\n",
              "      <td>pop</td>\n",
              "    </tr>\n",
              "    <tr>\n",
              "      <th>115</th>\n",
              "      <td>Faithless</td>\n",
              "      <td>We Come 1 - Radio Edit</td>\n",
              "      <td>222435.0</td>\n",
              "      <td>False</td>\n",
              "      <td>2015</td>\n",
              "      <td>53.0</td>\n",
              "      <td>0.645</td>\n",
              "      <td>0.903</td>\n",
              "      <td>5</td>\n",
              "      <td>-10.587</td>\n",
              "      <td>0</td>\n",
              "      <td>0.0441</td>\n",
              "      <td>0.00188</td>\n",
              "      <td>0.799</td>\n",
              "      <td>0.1470</td>\n",
              "      <td>0.610</td>\n",
              "      <td>135.977</td>\n",
              "      <td>pop, Dance/Electronic</td>\n",
              "    </tr>\n",
              "  </tbody>\n",
              "</table>\n",
              "</div>\n",
              "      <button class=\"colab-df-convert\" onclick=\"convertToInteractive('df-b7203198-8b63-448d-ac75-6bdff276d6e6')\"\n",
              "              title=\"Convert this dataframe to an interactive table.\"\n",
              "              style=\"display:none;\">\n",
              "        \n",
              "  <svg xmlns=\"http://www.w3.org/2000/svg\" height=\"24px\"viewBox=\"0 0 24 24\"\n",
              "       width=\"24px\">\n",
              "    <path d=\"M0 0h24v24H0V0z\" fill=\"none\"/>\n",
              "    <path d=\"M18.56 5.44l.94 2.06.94-2.06 2.06-.94-2.06-.94-.94-2.06-.94 2.06-2.06.94zm-11 1L8.5 8.5l.94-2.06 2.06-.94-2.06-.94L8.5 2.5l-.94 2.06-2.06.94zm10 10l.94 2.06.94-2.06 2.06-.94-2.06-.94-.94-2.06-.94 2.06-2.06.94z\"/><path d=\"M17.41 7.96l-1.37-1.37c-.4-.4-.92-.59-1.43-.59-.52 0-1.04.2-1.43.59L10.3 9.45l-7.72 7.72c-.78.78-.78 2.05 0 2.83L4 21.41c.39.39.9.59 1.41.59.51 0 1.02-.2 1.41-.59l7.78-7.78 2.81-2.81c.8-.78.8-2.07 0-2.86zM5.41 20L4 18.59l7.72-7.72 1.47 1.35L5.41 20z\"/>\n",
              "  </svg>\n",
              "      </button>\n",
              "      \n",
              "  <style>\n",
              "    .colab-df-container {\n",
              "      display:flex;\n",
              "      flex-wrap:wrap;\n",
              "      gap: 12px;\n",
              "    }\n",
              "\n",
              "    .colab-df-convert {\n",
              "      background-color: #E8F0FE;\n",
              "      border: none;\n",
              "      border-radius: 50%;\n",
              "      cursor: pointer;\n",
              "      display: none;\n",
              "      fill: #1967D2;\n",
              "      height: 32px;\n",
              "      padding: 0 0 0 0;\n",
              "      width: 32px;\n",
              "    }\n",
              "\n",
              "    .colab-df-convert:hover {\n",
              "      background-color: #E2EBFA;\n",
              "      box-shadow: 0px 1px 2px rgba(60, 64, 67, 0.3), 0px 1px 3px 1px rgba(60, 64, 67, 0.15);\n",
              "      fill: #174EA6;\n",
              "    }\n",
              "\n",
              "    [theme=dark] .colab-df-convert {\n",
              "      background-color: #3B4455;\n",
              "      fill: #D2E3FC;\n",
              "    }\n",
              "\n",
              "    [theme=dark] .colab-df-convert:hover {\n",
              "      background-color: #434B5C;\n",
              "      box-shadow: 0px 1px 3px 1px rgba(0, 0, 0, 0.15);\n",
              "      filter: drop-shadow(0px 1px 2px rgba(0, 0, 0, 0.3));\n",
              "      fill: #FFFFFF;\n",
              "    }\n",
              "  </style>\n",
              "\n",
              "      <script>\n",
              "        const buttonEl =\n",
              "          document.querySelector('#df-b7203198-8b63-448d-ac75-6bdff276d6e6 button.colab-df-convert');\n",
              "        buttonEl.style.display =\n",
              "          google.colab.kernel.accessAllowed ? 'block' : 'none';\n",
              "\n",
              "        async function convertToInteractive(key) {\n",
              "          const element = document.querySelector('#df-b7203198-8b63-448d-ac75-6bdff276d6e6');\n",
              "          const dataTable =\n",
              "            await google.colab.kernel.invokeFunction('convertToInteractive',\n",
              "                                                     [key], {});\n",
              "          if (!dataTable) return;\n",
              "\n",
              "          const docLinkHtml = 'Like what you see? Visit the ' +\n",
              "            '<a target=\"_blank\" href=https://colab.research.google.com/notebooks/data_table.ipynb>data table notebook</a>'\n",
              "            + ' to learn more about interactive tables.';\n",
              "          element.innerHTML = '';\n",
              "          dataTable['output_type'] = 'display_data';\n",
              "          await google.colab.output.renderOutput(dataTable, element);\n",
              "          const docLink = document.createElement('div');\n",
              "          docLink.innerHTML = docLinkHtml;\n",
              "          element.appendChild(docLink);\n",
              "        }\n",
              "      </script>\n",
              "    </div>\n",
              "  </div>\n",
              "  "
            ]
          },
          "metadata": {},
          "execution_count": 19
        }
      ],
      "source": [
        "last10years.head(3)"
      ]
    },
    {
      "cell_type": "code",
      "execution_count": 20,
      "metadata": {
        "id": "Kow-ZZGkerx0",
        "colab": {
          "base_uri": "https://localhost:8080/"
        },
        "outputId": "8c67d36c-d296-44bc-fb10-68eceb6157a1"
      },
      "outputs": [
        {
          "output_type": "execute_result",
          "data": {
            "text/plain": [
              "artist\n",
              "Calvin Harris    18\n",
              "Drake            16\n",
              "Ariana Grande    13\n",
              "David Guetta     13\n",
              "Taylor Swift     13\n",
              "Katy Perry       11\n",
              "Avicii            9\n",
              "Maroon 5          9\n",
              "Ed Sheeran        9\n",
              "One Direction     9\n",
              "Name: song, dtype: int64"
            ]
          },
          "metadata": {},
          "execution_count": 20
        }
      ],
      "source": [
        "p1=last10years.groupby(by='artist').count()['song']\n",
        "p1_10=p1.sort_values(ascending=False).head(10)\n",
        "p1_10"
      ]
    },
    {
      "cell_type": "code",
      "source": [
        "p1_10.plot(kind='bar')\n",
        "plt.xlabel('artist')\n",
        "plt.ylabel('number of songs')\n",
        "plt.title('top 10 de artistas más activos de los últimos 10 años')"
      ],
      "metadata": {
        "colab": {
          "base_uri": "https://localhost:8080/",
          "height": 375
        },
        "id": "yZcPn4Owa_nB",
        "outputId": "ab499b47-0595-466c-c869-957a2e7e4a0a"
      },
      "execution_count": 136,
      "outputs": [
        {
          "output_type": "execute_result",
          "data": {
            "text/plain": [
              "Text(0.5, 1.0, 'top 10 de artistas más activos de los últimos 10 años')"
            ]
          },
          "metadata": {},
          "execution_count": 136
        },
        {
          "output_type": "display_data",
          "data": {
            "text/plain": [
              "<Figure size 432x288 with 1 Axes>"
            ],
            "image/png": "[encoded data removed]"
          },
          "metadata": {
            "needs_background": "light"
          }
        }
      ]
    },
    {
      "cell_type": "markdown",
      "metadata": {
        "id": "MCcVrHn5erx0"
      },
      "source": [
        "# Punto 2\n",
        "Se encontró que la diferencia de medias es 7.491209375000011, los tiempos de duracion de las caciones son muy similares, lo más diferenciador es la cantidad outliers que se encuentra en el genero latin. \n"
      ]
    },
    {
      "cell_type": "code",
      "source": [
        "#latin=spoti_df.loc[(spoti_df['genre1'] =='latin')|(spoti_df['genre2'] =='latin')|(spoti_df['genre3'] =='latin')|(spoti_df['genre4'] =='latin')]\n",
        "#folk= spoti_df.loc[(spoti_df['genre1'] =='Folk/Acoustic')|(spoti_df['genre2'] =='Folk/Acoustic')|(spoti_df['genre3'] =='Folk/Acoustic')|(spoti_df['genre4'] =='Folk/Acoustic')]\n",
        "latin = spoti_df[spoti_df['genre'].str.contains(\"latin\")==True]\n",
        "folk = spoti_df[spoti_df['genre'].str.contains(\"Folk/Acoustic\")==True]"
      ],
      "metadata": {
        "id": "XVhdEqM_m-5d"
      },
      "execution_count": 157,
      "outputs": []
    },
    {
      "cell_type": "code",
      "source": [
        "mean_la=latin['duration_ms']/1000\n",
        "mean_fo=folk['duration_ms']/1000\n",
        "print('la diferencia de medias es',mean_la.mean()-mean_fo.mean())\n",
        "data=[mean_fo,mean_la]"
      ],
      "metadata": {
        "colab": {
          "base_uri": "https://localhost:8080/"
        },
        "id": "oJ7eouu9itdb",
        "outputId": "735e71f7-2ca8-46e7-9f49-c63d57f83818"
      },
      "execution_count": 174,
      "outputs": [
        {
          "output_type": "stream",
          "name": "stdout",
          "text": [
            "la diferencia de medias es 7.491209375000011\n"
          ]
        }
      ]
    },
    {
      "cell_type": "code",
      "source": [
        "fig1, ax1 = plt.subplots()\n",
        "red_square = dict(markerfacecolor='r', marker='s')\n",
        "ax1.set_title('Folk vs Latin')\n",
        "ax1.boxplot(data,notch=True,flierprops=red_square)\n",
        "plt.ylabel('duration (s)')\n",
        "plt.xlabel('Folk And Latin')"
      ],
      "metadata": {
        "colab": {
          "base_uri": "https://localhost:8080/",
          "height": 367
        },
        "id": "4oQ7l1NRTg3a",
        "outputId": "243d7be6-2831-4f88-a223-f6285dd5e854"
      },
      "execution_count": 171,
      "outputs": [
        {
          "output_type": "stream",
          "name": "stderr",
          "text": [
            "/usr/local/lib/python3.7/dist-packages/matplotlib/cbook/__init__.py:1376: VisibleDeprecationWarning: Creating an ndarray from ragged nested sequences (which is a list-or-tuple of lists-or-tuples-or ndarrays with different lengths or shapes) is deprecated. If you meant to do this, you must specify 'dtype=object' when creating the ndarray.\n",
            "  X = np.atleast_1d(X.T if isinstance(X, np.ndarray) else np.asarray(X))\n"
          ]
        },
        {
          "output_type": "execute_result",
          "data": {
            "text/plain": [
              "Text(0.5, 0, 'Folk And Latin')"
            ]
          },
          "metadata": {},
          "execution_count": 171
        },
        {
          "output_type": "display_data",
          "data": {
            "text/plain": [
              "<Figure size 432x288 with 1 Axes>"
            ],
            "image/png": "[encoded data removed]"
          },
          "metadata": {
            "needs_background": "light"
          }
        }
      ]
    },
    {
      "cell_type": "markdown",
      "source": [
        "# Punto 3\n",
        "Se hacen las agrupaciones por género todos incluidos, que tengan las canciones, debido a que si se desagregan los generos, no se puede tener top 5, debido a que solo se tiene en algunos casos 4 generos por top,si contemplamos como principal el primer genero que registran los datos. en la primera celda se muestra el ejemplo. "
      ],
      "metadata": {
        "id": "uB0tDHLtcNdk"
      }
    },
    {
      "cell_type": "code",
      "source": [
        "anio_2019_g1=spoti_df.loc[spoti_df['year'] ==2019]\n",
        "p3_2019_g1=anio_2019_g1.groupby(by='genre1').count()['song']\n",
        "p3_2019_g1=p3_2019_g1.sort_values(ascending=False).head(5)\n",
        "print(p3_2019_g1.head(5))\n",
        "p3_2019_g1.plot(kind='bar')\n",
        "plt.xlabel('genre')\n",
        "plt.ylabel('number of songs')\n",
        "plt.title('top 5 de artistas 2000')"
      ],
      "metadata": {
        "colab": {
          "base_uri": "https://localhost:8080/",
          "height": 509
        },
        "id": "vs3lcNQSsEyE",
        "outputId": "ac3756ee-a434-4ba6-a0fa-c7e3e3a74bae"
      },
      "execution_count": 262,
      "outputs": [
        {
          "output_type": "stream",
          "name": "stdout",
          "text": [
            "genre1\n",
            "pop                 43\n",
            "hip hop             37\n",
            "latin                6\n",
            "Dance/Electronic     1\n",
            "set()                1\n",
            "Name: song, dtype: int64\n"
          ]
        },
        {
          "output_type": "execute_result",
          "data": {
            "text/plain": [
              "Text(0.5, 1.0, 'top 5 de artistas 2000')"
            ]
          },
          "metadata": {},
          "execution_count": 262
        },
        {
          "output_type": "display_data",
          "data": {
            "text/plain": [
              "<Figure size 432x288 with 1 Axes>"
            ],
            "image/png": "[encoded data removed]"
          },
          "metadata": {
            "needs_background": "light"
          }
        }
      ]
    },
    {
      "cell_type": "code",
      "source": [
        "anio_2000=spoti_df.loc[spoti_df['year'] ==2000]\n",
        "p3_2000=anio_2000.groupby(by='genre').count()['song']\n",
        "p3_2000=p3_2000.sort_values(ascending=False).head(5)\n",
        "p3_2000.plot(kind='bar')\n",
        "plt.xlabel('genre')\n",
        "plt.ylabel('number of songs')\n",
        "plt.title('top 5 de artistas 2000')"
      ],
      "metadata": {
        "colab": {
          "base_uri": "https://localhost:8080/",
          "height": 392
        },
        "id": "Q_BqRU7phNPr",
        "outputId": "b060cb75-4443-4e94-da19-d48d78a1706f"
      },
      "execution_count": 264,
      "outputs": [
        {
          "output_type": "execute_result",
          "data": {
            "text/plain": [
              "Text(0.5, 1.0, 'top 5 de artistas 2000')"
            ]
          },
          "metadata": {},
          "execution_count": 264
        },
        {
          "output_type": "display_data",
          "data": {
            "text/plain": [
              "<Figure size 432x288 with 1 Axes>"
            ],
            "image/png": "[encoded data removed]"
          },
          "metadata": {
            "needs_background": "light"
          }
        }
      ]
    },
    {
      "cell_type": "code",
      "source": [
        "anio_2005=spoti_df.loc[spoti_df['year'] ==2005]\n",
        "p3_2005=anio_2005.groupby(by='genre').count()['song']\n",
        "p3_2005=p3_2005.sort_values(ascending=False).head(5)\n",
        "p3_2005.plot(kind='bar')\n",
        "plt.xlabel('genre')\n",
        "plt.ylabel('number of songs')\n",
        "plt.title('top 5 de artistas 2005')"
      ],
      "metadata": {
        "colab": {
          "base_uri": "https://localhost:8080/",
          "height": 392
        },
        "id": "4SG2GO4pfSXu",
        "outputId": "0a34fe00-24e7-4a88-8a17-6f20c5c8e737"
      },
      "execution_count": 265,
      "outputs": [
        {
          "output_type": "execute_result",
          "data": {
            "text/plain": [
              "Text(0.5, 1.0, 'top 5 de artistas 2005')"
            ]
          },
          "metadata": {},
          "execution_count": 265
        },
        {
          "output_type": "display_data",
          "data": {
            "text/plain": [
              "<Figure size 432x288 with 1 Axes>"
            ],
            "image/png": "[encoded data removed]"
          },
          "metadata": {
            "needs_background": "light"
          }
        }
      ]
    },
    {
      "cell_type": "code",
      "source": [
        "anio_2010=spoti_df.loc[spoti_df['year'] ==2010]\n",
        "p3_2010=anio_2010.groupby(by='genre').count()['song']\n",
        "p3_2010=p3_2010.sort_values(ascending=False).head(5)\n",
        "p3_2010.plot(kind='bar')\n",
        "plt.xlabel('genre')\n",
        "plt.ylabel('number of songs')\n",
        "plt.title('top 5 de artistas 2010')"
      ],
      "metadata": {
        "colab": {
          "base_uri": "https://localhost:8080/",
          "height": 455
        },
        "id": "Rkf_Dug4h1p-",
        "outputId": "ead0a818-a7d8-4552-e415-a28fac7564a6"
      },
      "execution_count": 255,
      "outputs": [
        {
          "output_type": "execute_result",
          "data": {
            "text/plain": [
              "Text(0.5, 1.0, 'top 5 de artistas 2010')"
            ]
          },
          "metadata": {},
          "execution_count": 255
        },
        {
          "output_type": "display_data",
          "data": {
            "text/plain": [
              "<Figure size 432x288 with 1 Axes>"
            ],
            "image/png": "[encoded data removed]"
          },
          "metadata": {
            "needs_background": "light"
          }
        }
      ]
    },
    {
      "cell_type": "code",
      "source": [
        "anio_2015=spoti_df.loc[spoti_df['year'] ==2015]\n",
        "p3_2015=anio_2015.groupby(by='genre').count()['song']\n",
        "p3_2015=p3_2015.sort_values(ascending=False).head(5)\n",
        "p3_2015.plot(kind='bar')\n",
        "plt.xlabel('genre')\n",
        "plt.ylabel('number of songs')\n",
        "plt.title('top 5 de artistas 2015')"
      ],
      "metadata": {
        "colab": {
          "base_uri": "https://localhost:8080/",
          "height": 412
        },
        "id": "-EyqV3fqrF_q",
        "outputId": "58ca3708-eae9-46aa-835f-5f5187a8a0b2"
      },
      "execution_count": 256,
      "outputs": [
        {
          "output_type": "execute_result",
          "data": {
            "text/plain": [
              "Text(0.5, 1.0, 'top 5 de artistas 2015')"
            ]
          },
          "metadata": {},
          "execution_count": 256
        },
        {
          "output_type": "display_data",
          "data": {
            "text/plain": [
              "<Figure size 432x288 with 1 Axes>"
            ],
            "image/png": "[encoded data removed]"
          },
          "metadata": {
            "needs_background": "light"
          }
        }
      ]
    },
    {
      "cell_type": "code",
      "source": [
        "anio_2019=spoti_df.loc[spoti_df['year']==2019]\n",
        "p3_2019=anio_2019.groupby(by='genre').count()['song']\n",
        "p3_2019=p3_2019.sort_values(ascending=False).head(5)\n",
        "\n",
        "p3_2019.plot(kind='bar')\n",
        "plt.xlabel('genre')\n",
        "plt.ylabel('number of songs')\n",
        "plt.title('top 5 de artistas 2019')\n"
      ],
      "metadata": {
        "colab": {
          "base_uri": "https://localhost:8080/",
          "height": 412
        },
        "id": "B5gat44Rh30C",
        "outputId": "9f2e2a37-ba83-4f5a-e30f-dbb39f77be6e"
      },
      "execution_count": 263,
      "outputs": [
        {
          "output_type": "execute_result",
          "data": {
            "text/plain": [
              "Text(0.5, 1.0, 'top 5 de artistas 2019')"
            ]
          },
          "metadata": {},
          "execution_count": 263
        },
        {
          "output_type": "display_data",
          "data": {
            "text/plain": [
              "<Figure size 432x288 with 1 Axes>"
            ],
            "image/png": "[encoded data removed]"
          },
          "metadata": {
            "needs_background": "light"
          }
        }
      ]
    },
    {
      "cell_type": "markdown",
      "source": [
        "## conclusiones punto 3\n",
        "El género de hip hop fue el mas recurrente durante estos años, junto con el pop, debido a que siempre están presentes en los tops de canciones de la data. \n",
        "También hay aspectos destacables como que el 2005 fue aumenta la cantidad de hip hop en generos, y el el 2015 y 2019 el pop y dance/elecrronic son los que tienen la mayoe cantidad de canciones. "
      ],
      "metadata": {
        "id": "HtnqrjPQt8bz"
      }
    },
    {
      "cell_type": "markdown",
      "source": [
        "#Punto 4  \n"
      ],
      "metadata": {
        "id": "kr2XUCp8uegt"
      }
    },
    {
      "cell_type": "code",
      "source": [
        "#p4=spoti_df.drop(['duration_ms','explicit','genre','genre1','genre2','genre2','genre3','genre4','popularity', 'danceability','energy','key','loudness','mode','speechiness','acousticness','instrumentalness','liveness','valence','tempo'],axis=1)\n",
        "p4= spoti_df.groupby([\"artist\",\"year\"]).count()\n",
        "p4"
      ],
      "metadata": {
        "colab": {
          "base_uri": "https://localhost:8080/",
          "height": 536
        },
        "id": "gVs4oqYAt7L2",
        "outputId": "5d6d7c87-8575-44ff-adba-142e7d7c6dd1"
      },
      "execution_count": 292,
      "outputs": [
        {
          "output_type": "execute_result",
          "data": {
            "text/plain": [
              "                song  duration_ms  explicit  popularity  danceability  energy  \\\n",
              "artist    year                                                                  \n",
              "*NSYNC    2000     2            2         2           1             2       2   \n",
              "          2001     2            2         2           2             2       2   \n",
              "112       2001     2            2         2           2             2       2   \n",
              "2 Chainz  2013     1            1         1           1             1       1   \n",
              "          2017     1            1         1           1             1       1   \n",
              "...              ...          ...       ...         ...           ...     ...   \n",
              "iann dior 2019     2            2         2           2             2       2   \n",
              "iio       2006     1            1         1           1             1       1   \n",
              "t.A.T.u.  2020     1            1         1           1             1       1   \n",
              "will.i.am 2007     1            1         1           1             1       1   \n",
              "          2013     3            3         3           3             3       3   \n",
              "\n",
              "                key  loudness  mode  speechiness  acousticness  \\\n",
              "artist    year                                                   \n",
              "*NSYNC    2000    2         2     2            2             2   \n",
              "          2001    2         2     2            2             2   \n",
              "112       2001    2         2     2            2             2   \n",
              "2 Chainz  2013    1         1     1            1             1   \n",
              "          2017    1         1     1            1             1   \n",
              "...             ...       ...   ...          ...           ...   \n",
              "iann dior 2019    2         2     2            2             2   \n",
              "iio       2006    1         1     1            1             1   \n",
              "t.A.T.u.  2020    1         1     1            1             1   \n",
              "will.i.am 2007    1         1     1            1             1   \n",
              "          2013    3         3     3            3             3   \n",
              "\n",
              "                instrumentalness  liveness  valence  tempo  genre  genre1  \\\n",
              "artist    year                                                              \n",
              "*NSYNC    2000                 2         2        2      2      2       2   \n",
              "          2001                 2         2        2      2      2       2   \n",
              "112       2001                 2         2        2      2      2       2   \n",
              "2 Chainz  2013                 1         1        1      1      1       1   \n",
              "          2017                 1         1        1      1      1       1   \n",
              "...                          ...       ...      ...    ...    ...     ...   \n",
              "iann dior 2019                 2         2        2      2      2       2   \n",
              "iio       2006                 1         1        1      1      1       1   \n",
              "t.A.T.u.  2020                 1         1        1      1      1       1   \n",
              "will.i.am 2007                 1         1        1      1      1       1   \n",
              "          2013                 3         3        3      3      3       3   \n",
              "\n",
              "                genre2  genre3  genre4  \n",
              "artist    year                          \n",
              "*NSYNC    2000       0       0       0  \n",
              "          2001       0       0       0  \n",
              "112       2001       2       2       0  \n",
              "2 Chainz  2013       1       0       0  \n",
              "          2017       1       0       0  \n",
              "...                ...     ...     ...  \n",
              "iann dior 2019       2       0       0  \n",
              "iio       2006       0       0       0  \n",
              "t.A.T.u.  2020       0       0       0  \n",
              "will.i.am 2007       1       0       0  \n",
              "          2013       3       0       0  \n",
              "\n",
              "[1391 rows x 20 columns]"
            ],
            "text/html": [
              "\n",
              "  <div id=\"df-b457d072-f1cf-43ff-b759-e84f3544cac9\">\n",
              "    <div class=\"colab-df-container\">\n",
              "      <div>\n",
              "<style scoped>\n",
              "    .dataframe tbody tr th:only-of-type {\n",
              "        vertical-align: middle;\n",
              "    }\n",
              "\n",
              "    .dataframe tbody tr th {\n",
              "        vertical-align: top;\n",
              "    }\n",
              "\n",
              "    .dataframe thead th {\n",
              "        text-align: right;\n",
              "    }\n",
              "</style>\n",
              "<table border=\"1\" class=\"dataframe\">\n",
              "  <thead>\n",
              "    <tr style=\"text-align: right;\">\n",
              "      <th></th>\n",
              "      <th></th>\n",
              "      <th>song</th>\n",
              "      <th>duration_ms</th>\n",
              "      <th>explicit</th>\n",
              "      <th>popularity</th>\n",
              "      <th>danceability</th>\n",
              "      <th>energy</th>\n",
              "      <th>key</th>\n",
              "      <th>loudness</th>\n",
              "      <th>mode</th>\n",
              "      <th>speechiness</th>\n",
              "      <th>acousticness</th>\n",
              "      <th>instrumentalness</th>\n",
              "      <th>liveness</th>\n",
              "      <th>valence</th>\n",
              "      <th>tempo</th>\n",
              "      <th>genre</th>\n",
              "      <th>genre1</th>\n",
              "      <th>genre2</th>\n",
              "      <th>genre3</th>\n",
              "      <th>genre4</th>\n",
              "    </tr>\n",
              "    <tr>\n",
              "      <th>artist</th>\n",
              "      <th>year</th>\n",
              "      <th></th>\n",
              "      <th></th>\n",
              "      <th></th>\n",
              "      <th></th>\n",
              "      <th></th>\n",
              "      <th></th>\n",
              "      <th></th>\n",
              "      <th></th>\n",
              "      <th></th>\n",
              "      <th></th>\n",
              "      <th></th>\n",
              "      <th></th>\n",
              "      <th></th>\n",
              "      <th></th>\n",
              "      <th></th>\n",
              "      <th></th>\n",
              "      <th></th>\n",
              "      <th></th>\n",
              "      <th></th>\n",
              "      <th></th>\n",
              "    </tr>\n",
              "  </thead>\n",
              "  <tbody>\n",
              "    <tr>\n",
              "      <th rowspan=\"2\" valign=\"top\">*NSYNC</th>\n",
              "      <th>2000</th>\n",
              "      <td>2</td>\n",
              "      <td>2</td>\n",
              "      <td>2</td>\n",
              "      <td>1</td>\n",
              "      <td>2</td>\n",
              "      <td>2</td>\n",
              "      <td>2</td>\n",
              "      <td>2</td>\n",
              "      <td>2</td>\n",
              "      <td>2</td>\n",
              "      <td>2</td>\n",
              "      <td>2</td>\n",
              "      <td>2</td>\n",
              "      <td>2</td>\n",
              "      <td>2</td>\n",
              "      <td>2</td>\n",
              "      <td>2</td>\n",
              "      <td>0</td>\n",
              "      <td>0</td>\n",
              "      <td>0</td>\n",
              "    </tr>\n",
              "    <tr>\n",
              "      <th>2001</th>\n",
              "      <td>2</td>\n",
              "      <td>2</td>\n",
              "      <td>2</td>\n",
              "      <td>2</td>\n",
              "      <td>2</td>\n",
              "      <td>2</td>\n",
              "      <td>2</td>\n",
              "      <td>2</td>\n",
              "      <td>2</td>\n",
              "      <td>2</td>\n",
              "      <td>2</td>\n",
              "      <td>2</td>\n",
              "      <td>2</td>\n",
              "      <td>2</td>\n",
              "      <td>2</td>\n",
              "      <td>2</td>\n",
              "      <td>2</td>\n",
              "      <td>0</td>\n",
              "      <td>0</td>\n",
              "      <td>0</td>\n",
              "    </tr>\n",
              "    <tr>\n",
              "      <th>112</th>\n",
              "      <th>2001</th>\n",
              "      <td>2</td>\n",
              "      <td>2</td>\n",
              "      <td>2</td>\n",
              "      <td>2</td>\n",
              "      <td>2</td>\n",
              "      <td>2</td>\n",
              "      <td>2</td>\n",
              "      <td>2</td>\n",
              "      <td>2</td>\n",
              "      <td>2</td>\n",
              "      <td>2</td>\n",
              "      <td>2</td>\n",
              "      <td>2</td>\n",
              "      <td>2</td>\n",
              "      <td>2</td>\n",
              "      <td>2</td>\n",
              "      <td>2</td>\n",
              "      <td>2</td>\n",
              "      <td>2</td>\n",
              "      <td>0</td>\n",
              "    </tr>\n",
              "    <tr>\n",
              "      <th rowspan=\"2\" valign=\"top\">2 Chainz</th>\n",
              "      <th>2013</th>\n",
              "      <td>1</td>\n",
              "      <td>1</td>\n",
              "      <td>1</td>\n",
              "      <td>1</td>\n",
              "      <td>1</td>\n",
              "      <td>1</td>\n",
              "      <td>1</td>\n",
              "      <td>1</td>\n",
              "      <td>1</td>\n",
              "      <td>1</td>\n",
              "      <td>1</td>\n",
              "      <td>1</td>\n",
              "      <td>1</td>\n",
              "      <td>1</td>\n",
              "      <td>1</td>\n",
              "      <td>1</td>\n",
              "      <td>1</td>\n",
              "      <td>1</td>\n",
              "      <td>0</td>\n",
              "      <td>0</td>\n",
              "    </tr>\n",
              "    <tr>\n",
              "      <th>2017</th>\n",
              "      <td>1</td>\n",
              "      <td>1</td>\n",
              "      <td>1</td>\n",
              "      <td>1</td>\n",
              "      <td>1</td>\n",
              "      <td>1</td>\n",
              "      <td>1</td>\n",
              "      <td>1</td>\n",
              "      <td>1</td>\n",
              "      <td>1</td>\n",
              "      <td>1</td>\n",
              "      <td>1</td>\n",
              "      <td>1</td>\n",
              "      <td>1</td>\n",
              "      <td>1</td>\n",
              "      <td>1</td>\n",
              "      <td>1</td>\n",
              "      <td>1</td>\n",
              "      <td>0</td>\n",
              "      <td>0</td>\n",
              "    </tr>\n",
              "    <tr>\n",
              "      <th>...</th>\n",
              "      <th>...</th>\n",
              "      <td>...</td>\n",
              "      <td>...</td>\n",
              "      <td>...</td>\n",
              "      <td>...</td>\n",
              "      <td>...</td>\n",
              "      <td>...</td>\n",
              "      <td>...</td>\n",
              "      <td>...</td>\n",
              "      <td>...</td>\n",
              "      <td>...</td>\n",
              "      <td>...</td>\n",
              "      <td>...</td>\n",
              "      <td>...</td>\n",
              "      <td>...</td>\n",
              "      <td>...</td>\n",
              "      <td>...</td>\n",
              "      <td>...</td>\n",
              "      <td>...</td>\n",
              "      <td>...</td>\n",
              "      <td>...</td>\n",
              "    </tr>\n",
              "    <tr>\n",
              "      <th>iann dior</th>\n",
              "      <th>2019</th>\n",
              "      <td>2</td>\n",
              "      <td>2</td>\n",
              "      <td>2</td>\n",
              "      <td>2</td>\n",
              "      <td>2</td>\n",
              "      <td>2</td>\n",
              "      <td>2</td>\n",
              "      <td>2</td>\n",
              "      <td>2</td>\n",
              "      <td>2</td>\n",
              "      <td>2</td>\n",
              "      <td>2</td>\n",
              "      <td>2</td>\n",
              "      <td>2</td>\n",
              "      <td>2</td>\n",
              "      <td>2</td>\n",
              "      <td>2</td>\n",
              "      <td>2</td>\n",
              "      <td>0</td>\n",
              "      <td>0</td>\n",
              "    </tr>\n",
              "    <tr>\n",
              "      <th>iio</th>\n",
              "      <th>2006</th>\n",
              "      <td>1</td>\n",
              "      <td>1</td>\n",
              "      <td>1</td>\n",
              "      <td>1</td>\n",
              "      <td>1</td>\n",
              "      <td>1</td>\n",
              "      <td>1</td>\n",
              "      <td>1</td>\n",
              "      <td>1</td>\n",
              "      <td>1</td>\n",
              "      <td>1</td>\n",
              "      <td>1</td>\n",
              "      <td>1</td>\n",
              "      <td>1</td>\n",
              "      <td>1</td>\n",
              "      <td>1</td>\n",
              "      <td>1</td>\n",
              "      <td>0</td>\n",
              "      <td>0</td>\n",
              "      <td>0</td>\n",
              "    </tr>\n",
              "    <tr>\n",
              "      <th>t.A.T.u.</th>\n",
              "      <th>2020</th>\n",
              "      <td>1</td>\n",
              "      <td>1</td>\n",
              "      <td>1</td>\n",
              "      <td>1</td>\n",
              "      <td>1</td>\n",
              "      <td>1</td>\n",
              "      <td>1</td>\n",
              "      <td>1</td>\n",
              "      <td>1</td>\n",
              "      <td>1</td>\n",
              "      <td>1</td>\n",
              "      <td>1</td>\n",
              "      <td>1</td>\n",
              "      <td>1</td>\n",
              "      <td>1</td>\n",
              "      <td>1</td>\n",
              "      <td>1</td>\n",
              "      <td>0</td>\n",
              "      <td>0</td>\n",
              "      <td>0</td>\n",
              "    </tr>\n",
              "    <tr>\n",
              "      <th rowspan=\"2\" valign=\"top\">will.i.am</th>\n",
              "      <th>2007</th>\n",
              "      <td>1</td>\n",
              "      <td>1</td>\n",
              "      <td>1</td>\n",
              "      <td>1</td>\n",
              "      <td>1</td>\n",
              "      <td>1</td>\n",
              "      <td>1</td>\n",
              "      <td>1</td>\n",
              "      <td>1</td>\n",
              "      <td>1</td>\n",
              "      <td>1</td>\n",
              "      <td>1</td>\n",
              "      <td>1</td>\n",
              "      <td>1</td>\n",
              "      <td>1</td>\n",
              "      <td>1</td>\n",
              "      <td>1</td>\n",
              "      <td>1</td>\n",
              "      <td>0</td>\n",
              "      <td>0</td>\n",
              "    </tr>\n",
              "    <tr>\n",
              "      <th>2013</th>\n",
              "      <td>3</td>\n",
              "      <td>3</td>\n",
              "      <td>3</td>\n",
              "      <td>3</td>\n",
              "      <td>3</td>\n",
              "      <td>3</td>\n",
              "      <td>3</td>\n",
              "      <td>3</td>\n",
              "      <td>3</td>\n",
              "      <td>3</td>\n",
              "      <td>3</td>\n",
              "      <td>3</td>\n",
              "      <td>3</td>\n",
              "      <td>3</td>\n",
              "      <td>3</td>\n",
              "      <td>3</td>\n",
              "      <td>3</td>\n",
              "      <td>3</td>\n",
              "      <td>0</td>\n",
              "      <td>0</td>\n",
              "    </tr>\n",
              "  </tbody>\n",
              "</table>\n",
              "<p>1391 rows × 20 columns</p>\n",
              "</div>\n",
              "      <button class=\"colab-df-convert\" onclick=\"convertToInteractive('df-b457d072-f1cf-43ff-b759-e84f3544cac9')\"\n",
              "              title=\"Convert this dataframe to an interactive table.\"\n",
              "              style=\"display:none;\">\n",
              "        \n",
              "  <svg xmlns=\"http://www.w3.org/2000/svg\" height=\"24px\"viewBox=\"0 0 24 24\"\n",
              "       width=\"24px\">\n",
              "    <path d=\"M0 0h24v24H0V0z\" fill=\"none\"/>\n",
              "    <path d=\"M18.56 5.44l.94 2.06.94-2.06 2.06-.94-2.06-.94-.94-2.06-.94 2.06-2.06.94zm-11 1L8.5 8.5l.94-2.06 2.06-.94-2.06-.94L8.5 2.5l-.94 2.06-2.06.94zm10 10l.94 2.06.94-2.06 2.06-.94-2.06-.94-.94-2.06-.94 2.06-2.06.94z\"/><path d=\"M17.41 7.96l-1.37-1.37c-.4-.4-.92-.59-1.43-.59-.52 0-1.04.2-1.43.59L10.3 9.45l-7.72 7.72c-.78.78-.78 2.05 0 2.83L4 21.41c.39.39.9.59 1.41.59.51 0 1.02-.2 1.41-.59l7.78-7.78 2.81-2.81c.8-.78.8-2.07 0-2.86zM5.41 20L4 18.59l7.72-7.72 1.47 1.35L5.41 20z\"/>\n",
              "  </svg>\n",
              "      </button>\n",
              "      \n",
              "  <style>\n",
              "    .colab-df-container {\n",
              "      display:flex;\n",
              "      flex-wrap:wrap;\n",
              "      gap: 12px;\n",
              "    }\n",
              "\n",
              "    .colab-df-convert {\n",
              "      background-color: #E8F0FE;\n",
              "      border: none;\n",
              "      border-radius: 50%;\n",
              "      cursor: pointer;\n",
              "      display: none;\n",
              "      fill: #1967D2;\n",
              "      height: 32px;\n",
              "      padding: 0 0 0 0;\n",
              "      width: 32px;\n",
              "    }\n",
              "\n",
              "    .colab-df-convert:hover {\n",
              "      background-color: #E2EBFA;\n",
              "      box-shadow: 0px 1px 2px rgba(60, 64, 67, 0.3), 0px 1px 3px 1px rgba(60, 64, 67, 0.15);\n",
              "      fill: #174EA6;\n",
              "    }\n",
              "\n",
              "    [theme=dark] .colab-df-convert {\n",
              "      background-color: #3B4455;\n",
              "      fill: #D2E3FC;\n",
              "    }\n",
              "\n",
              "    [theme=dark] .colab-df-convert:hover {\n",
              "      background-color: #434B5C;\n",
              "      box-shadow: 0px 1px 3px 1px rgba(0, 0, 0, 0.15);\n",
              "      filter: drop-shadow(0px 1px 2px rgba(0, 0, 0, 0.3));\n",
              "      fill: #FFFFFF;\n",
              "    }\n",
              "  </style>\n",
              "\n",
              "      <script>\n",
              "        const buttonEl =\n",
              "          document.querySelector('#df-b457d072-f1cf-43ff-b759-e84f3544cac9 button.colab-df-convert');\n",
              "        buttonEl.style.display =\n",
              "          google.colab.kernel.accessAllowed ? 'block' : 'none';\n",
              "\n",
              "        async function convertToInteractive(key) {\n",
              "          const element = document.querySelector('#df-b457d072-f1cf-43ff-b759-e84f3544cac9');\n",
              "          const dataTable =\n",
              "            await google.colab.kernel.invokeFunction('convertToInteractive',\n",
              "                                                     [key], {});\n",
              "          if (!dataTable) return;\n",
              "\n",
              "          const docLinkHtml = 'Like what you see? Visit the ' +\n",
              "            '<a target=\"_blank\" href=https://colab.research.google.com/notebooks/data_table.ipynb>data table notebook</a>'\n",
              "            + ' to learn more about interactive tables.';\n",
              "          element.innerHTML = '';\n",
              "          dataTable['output_type'] = 'display_data';\n",
              "          await google.colab.output.renderOutput(dataTable, element);\n",
              "          const docLink = document.createElement('div');\n",
              "          docLink.innerHTML = docLinkHtml;\n",
              "          element.appendChild(docLink);\n",
              "        }\n",
              "      </script>\n",
              "    </div>\n",
              "  </div>\n",
              "  "
            ]
          },
          "metadata": {},
          "execution_count": 292
        }
      ]
    },
    {
      "cell_type": "markdown",
      "source": [
        "## punto 5\n",
        "Como se muestra en la gráfica, se ve una variabilidad general en todos los generos, exepto en el metal, el cual tiene un auge desde 2004 hasta el 2019. \n",
        "En este punto solo se graficaron los generos que estaban en primer lugar de las canciones. \n",
        "tambien se ve que el mas estable es el easy listening a lo largo de los anios. \n"
      ],
      "metadata": {
        "id": "LYxrM6G151KG"
      }
    },
    {
      "cell_type": "code",
      "source": [
        "p5 = spoti_df.groupby([\"genre1\",\"year\"], as_index=False)['popularity'].mean()\n",
        "p5 = p5[p5['popularity']>5]\n",
        "\n",
        "plt.figure(figsize = (11, 8))\n",
        "sns.lineplot(y=\"popularity\",x=\"year\",data=p5, hue=\"genre1\",legend=True,)\n",
        "plt.legend(bbox_to_anchor=(1.05, 1), loc='upper left', borderaxespad=0)"
      ],
      "metadata": {
        "colab": {
          "base_uri": "https://localhost:8080/",
          "height": 514
        },
        "id": "vnv-KsxQ6Dp5",
        "outputId": "48c828b1-9278-407d-ffeb-81b0efa96072"
      },
      "execution_count": 306,
      "outputs": [
        {
          "output_type": "execute_result",
          "data": {
            "text/plain": [
              "<matplotlib.legend.Legend at 0x7f7cc6703a50>"
            ]
          },
          "metadata": {},
          "execution_count": 306
        },
        {
          "output_type": "display_data",
          "data": {
            "text/plain": [
              "<Figure size 792x576 with 1 Axes>"
            ],
            "image/png": "[encoded data removed]"
          },
          "metadata": {
            "needs_background": "light"
          }
        }
      ]
    },
    {
      "cell_type": "markdown",
      "source": [
        "## Punto 6\n"
      ],
      "metadata": {
        "id": "-vnKzhlT52zB"
      }
    },
    {
      "cell_type": "code",
      "source": [
        "rock = spoti_df[spoti_df['genre'].str.contains(\"rock\")==True]\n",
        "rock_Ener = rock[\"energy\"].mean()\n",
        "rock_Val= rock[\"valence\"].mean()\n",
        "rockTempo = (rock[\"tempo\"].mean()/1000)/120"
      ],
      "metadata": {
        "id": "xzK7OxWgClwI"
      },
      "execution_count": 313,
      "outputs": []
    },
    {
      "cell_type": "code",
      "source": [
        "pop = spoti_df[spoti_df['genre'].str.contains(\"pop\")==True]\n",
        "pop_Ener= pop[\"energy\"].mean()\n",
        "pop_Val = pop[\"valence\"].mean()\n",
        "popTempo = (pop[\"tempo\"].mean()/1000)/120"
      ],
      "metadata": {
        "id": "C0p0xgp_C1Uq"
      },
      "execution_count": 315,
      "outputs": []
    },
    {
      "cell_type": "code",
      "source": [
        "h = {\"Genre\":[\"Pop\",\"Rock\"], \"Energy\":[pop_Ener,rock_Ener], \"Valence\":[pop_Val,rock_Val],\"tempo\":[popTempo,rockTempo]}\n",
        "punto6 = pd.DataFrame(data=h)\n",
        "punto6.plot(x=\"Genre\",kind = \"bar\")\n",
        "plt.ylabel(\"Score (0-1)\")\n",
        "plt.xlabel(\"Genre\")\n",
        "plt.title(\"Diference rock and pop\")"
      ],
      "metadata": {
        "colab": {
          "base_uri": "https://localhost:8080/",
          "height": 326
        },
        "id": "y0-nhjXTC_10",
        "outputId": "29697864-9942-4a96-d60f-9e00850e543e"
      },
      "execution_count": 316,
      "outputs": [
        {
          "output_type": "execute_result",
          "data": {
            "text/plain": [
              "Text(0.5, 1.0, 'Diference rock and pop')"
            ]
          },
          "metadata": {},
          "execution_count": 316
        },
        {
          "output_type": "display_data",
          "data": {
            "text/plain": [
              "<Figure size 432x288 with 1 Axes>"
            ],
            "image/png": "[encoded data removed]"
          },
          "metadata": {
            "needs_background": "light"
          }
        }
      ]
    },
    {
      "cell_type": "markdown",
      "source": [
        "## Punto 7 \n",
        "Top 5 de artistas con canciones mas enérgicas, en los años 2019 y 2020, pre y post pandemia? "
      ],
      "metadata": {
        "id": "dQVB9yPr54VC"
      }
    },
    {
      "cell_type": "code",
      "source": [
        "ener_2019=spoti_df.loc[spoti_df['year']==2019]\n",
        "ener_2020=spoti_df.loc[spoti_df['year']==2020]\n",
        "ener_2019=ener_2019.groupby(by='artist').sum()['energy']\n",
        "ener_2020=ener_2020.groupby(by='artist').sum()['energy']\n",
        "p7_2019=ener_2019.sort_values(ascending=False).head(5)\n",
        "p7_2020=ener_2019.sort_values(ascending=False).head(5)\n",
        "\n",
        "p7_2019"
      ],
      "metadata": {
        "colab": {
          "base_uri": "https://localhost:8080/"
        },
        "id": "06IGOy4n_38g",
        "outputId": "c0d5a7c9-db1f-4579-eadc-b893ff2eba82"
      },
      "execution_count": 311,
      "outputs": [
        {
          "output_type": "execute_result",
          "data": {
            "text/plain": [
              "artist\n",
              "Post Malone      2.476\n",
              "Ed Sheeran       2.372\n",
              "Lil Nas X        1.743\n",
              "Mabel            1.684\n",
              "Ariana Grande    1.666\n",
              "Name: energy, dtype: float64"
            ]
          },
          "metadata": {},
          "execution_count": 311
        }
      ]
    },
    {
      "cell_type": "markdown",
      "source": [],
      "metadata": {
        "id": "NbO4PM5YcK2u"
      }
    }
  ],
  "metadata": {
    "colab": {
      "provenance": [],
      "collapsed_sections": [],
      "include_colab_link": true
    },
    "kernelspec": {
      "display_name": "Python 3 (ipykernel)",
      "language": "python",
      "name": "python3"
    },
    "language_info": {
      "codemirror_mode": {
        "name": "ipython",
        "version": 3
      },
      "file_extension": ".py",
      "mimetype": "text/x-python",
      "name": "python",
      "nbconvert_exporter": "python",
      "pygments_lexer": "ipython3",
      "version": "3.9.12"
    }
  },
  "nbformat": 4,
  "nbformat_minor": 0
}