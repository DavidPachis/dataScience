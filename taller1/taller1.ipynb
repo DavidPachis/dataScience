{
  "cells": [
    {
      "cell_type": "markdown",
      "metadata": {
        "id": "view-in-github",
        "colab_type": "text"
      },
      "source": [
        "<a href=\"https://colab.research.google.com/github/DavidPachis/dataScience/blob/main/taller1/taller1.ipynb\" target=\"_parent\"><img src=\"https://colab.research.google.com/assets/colab-badge.svg\" alt=\"Open In Colab\"/></a>"
      ]
    },
    {
      "cell_type": "markdown",
      "metadata": {
        "tags": [],
        "id": "5p6U1zpoerxv"
      },
      "source": [
        "# Exploratory Data Analysis (EDA) and Visualization tutorial\n",
        "\n",
        "MINE-4101: Applied Data Science  \n",
        "Univerisdad de los Andes  \n",
        "  \n",
        "Dataset: FIFA\n",
        "  \n",
        "Last update: August, 2022"
      ]
    },
    {
      "cell_type": "code",
      "execution_count": null,
      "metadata": {
        "id": "raVCcL23erxw",
        "colab": {
          "base_uri": "https://localhost:8080/"
        },
        "outputId": "756efdb8-f6aa-43ce-c2b9-f50aa930ace7"
      },
      "outputs": [
        {
          "output_type": "stream",
          "name": "stdout",
          "text": [
            "Looking in indexes: https://pypi.org/simple, https://us-python.pkg.dev/colab-wheels/public/simple/\n",
            "Requirement already satisfied: pandas-profiling in /usr/local/lib/python3.7/dist-packages (1.4.1)\n",
            "Collecting pandas-profiling\n",
            "  Downloading pandas_profiling-3.2.0-py2.py3-none-any.whl (262 kB)\n",
            "\u001b[K     |████████████████████████████████| 262 kB 5.1 MB/s \n",
            "\u001b[?25hCollecting tangled-up-in-unicode==0.2.0\n",
            "  Downloading tangled_up_in_unicode-0.2.0-py3-none-any.whl (4.7 MB)\n",
            "\u001b[K     |████████████████████████████████| 4.7 MB 36.7 MB/s \n",
            "\u001b[?25hRequirement already satisfied: scipy>=1.4.1 in /usr/local/lib/python3.7/dist-packages (from pandas-profiling) (1.7.3)\n",
            "Requirement already satisfied: PyYAML>=5.0.0 in /usr/local/lib/python3.7/dist-packages (from pandas-profiling) (6.0)\n",
            "Requirement already satisfied: missingno>=0.4.2 in /usr/local/lib/python3.7/dist-packages (from pandas-profiling) (0.5.1)\n",
            "Collecting multimethod>=1.4\n",
            "  Downloading multimethod-1.8-py3-none-any.whl (9.8 kB)\n",
            "Requirement already satisfied: tqdm>=4.48.2 in /usr/local/lib/python3.7/dist-packages (from pandas-profiling) (4.64.0)\n",
            "Requirement already satisfied: matplotlib>=3.2.0 in /usr/local/lib/python3.7/dist-packages (from pandas-profiling) (3.2.2)\n",
            "Collecting requests>=2.24.0\n",
            "  Downloading requests-2.28.1-py3-none-any.whl (62 kB)\n",
            "\u001b[K     |████████████████████████████████| 62 kB 1.4 MB/s \n",
            "\u001b[?25hRequirement already satisfied: seaborn>=0.10.1 in /usr/local/lib/python3.7/dist-packages (from pandas-profiling) (0.11.2)\n",
            "Requirement already satisfied: numpy>=1.16.0 in /usr/local/lib/python3.7/dist-packages (from pandas-profiling) (1.21.6)\n",
            "Requirement already satisfied: pandas!=1.0.0,!=1.0.1,!=1.0.2,!=1.1.0,>=0.25.3 in /usr/local/lib/python3.7/dist-packages (from pandas-profiling) (1.3.5)\n",
            "Collecting htmlmin>=0.1.12\n",
            "  Downloading htmlmin-0.1.12.tar.gz (19 kB)\n",
            "Collecting markupsafe~=2.1.1\n",
            "  Downloading MarkupSafe-2.1.1-cp37-cp37m-manylinux_2_17_x86_64.manylinux2014_x86_64.whl (25 kB)\n",
            "Requirement already satisfied: pydantic>=1.8.1 in /usr/local/lib/python3.7/dist-packages (from pandas-profiling) (1.9.2)\n",
            "Requirement already satisfied: joblib~=1.1.0 in /usr/local/lib/python3.7/dist-packages (from pandas-profiling) (1.1.0)\n",
            "Collecting visions[type_image_path]==0.7.4\n",
            "  Downloading visions-0.7.4-py3-none-any.whl (102 kB)\n",
            "\u001b[K     |████████████████████████████████| 102 kB 12.7 MB/s \n",
            "\u001b[?25hCollecting phik>=0.11.1\n",
            "  Downloading phik-0.12.2-cp37-cp37m-manylinux_2_17_x86_64.manylinux2014_x86_64.whl (690 kB)\n",
            "\u001b[K     |████████████████████████████████| 690 kB 60.1 MB/s \n",
            "\u001b[?25hRequirement already satisfied: jinja2>=2.11.1 in /usr/local/lib/python3.7/dist-packages (from pandas-profiling) (2.11.3)\n",
            "Requirement already satisfied: networkx>=2.4 in /usr/local/lib/python3.7/dist-packages (from visions[type_image_path]==0.7.4->pandas-profiling) (2.6.3)\n",
            "Requirement already satisfied: attrs>=19.3.0 in /usr/local/lib/python3.7/dist-packages (from visions[type_image_path]==0.7.4->pandas-profiling) (22.1.0)\n",
            "Collecting imagehash\n",
            "  Downloading ImageHash-4.2.1.tar.gz (812 kB)\n",
            "\u001b[K     |████████████████████████████████| 812 kB 44.7 MB/s \n",
            "\u001b[?25hRequirement already satisfied: Pillow in /usr/local/lib/python3.7/dist-packages (from visions[type_image_path]==0.7.4->pandas-profiling) (7.1.2)\n",
            "Requirement already satisfied: pyparsing!=2.0.4,!=2.1.2,!=2.1.6,>=2.0.1 in /usr/local/lib/python3.7/dist-packages (from matplotlib>=3.2.0->pandas-profiling) (3.0.9)\n",
            "Requirement already satisfied: python-dateutil>=2.1 in /usr/local/lib/python3.7/dist-packages (from matplotlib>=3.2.0->pandas-profiling) (2.8.2)\n",
            "Requirement already satisfied: cycler>=0.10 in /usr/local/lib/python3.7/dist-packages (from matplotlib>=3.2.0->pandas-profiling) (0.11.0)\n",
            "Requirement already satisfied: kiwisolver>=1.0.1 in /usr/local/lib/python3.7/dist-packages (from matplotlib>=3.2.0->pandas-profiling) (1.4.4)\n",
            "Requirement already satisfied: typing-extensions in /usr/local/lib/python3.7/dist-packages (from kiwisolver>=1.0.1->matplotlib>=3.2.0->pandas-profiling) (4.1.1)\n",
            "Requirement already satisfied: pytz>=2017.3 in /usr/local/lib/python3.7/dist-packages (from pandas!=1.0.0,!=1.0.1,!=1.0.2,!=1.1.0,>=0.25.3->pandas-profiling) (2022.2.1)\n",
            "Requirement already satisfied: six>=1.5 in /usr/local/lib/python3.7/dist-packages (from python-dateutil>=2.1->matplotlib>=3.2.0->pandas-profiling) (1.15.0)\n",
            "Requirement already satisfied: charset-normalizer<3,>=2 in /usr/local/lib/python3.7/dist-packages (from requests>=2.24.0->pandas-profiling) (2.1.1)\n",
            "Requirement already satisfied: certifi>=2017.4.17 in /usr/local/lib/python3.7/dist-packages (from requests>=2.24.0->pandas-profiling) (2022.6.15)\n",
            "Requirement already satisfied: urllib3<1.27,>=1.21.1 in /usr/local/lib/python3.7/dist-packages (from requests>=2.24.0->pandas-profiling) (1.24.3)\n",
            "Requirement already satisfied: idna<4,>=2.5 in /usr/local/lib/python3.7/dist-packages (from requests>=2.24.0->pandas-profiling) (2.10)\n",
            "Requirement already satisfied: PyWavelets in /usr/local/lib/python3.7/dist-packages (from imagehash->visions[type_image_path]==0.7.4->pandas-profiling) (1.3.0)\n",
            "Building wheels for collected packages: htmlmin, imagehash\n",
            "  Building wheel for htmlmin (setup.py) ... \u001b[?25l\u001b[?25hdone\n",
            "  Created wheel for htmlmin: filename=htmlmin-0.1.12-py3-none-any.whl size=27098 sha256=cef8aa490dd6c82c3d4db1e26ee8ae4187a1cdbcccb7a78fae00684c43ced811\n",
            "  Stored in directory: /root/.cache/pip/wheels/70/e1/52/5b14d250ba868768823940c3229e9950d201a26d0bd3ee8655\n",
            "  Building wheel for imagehash (setup.py) ... \u001b[?25l\u001b[?25hdone\n",
            "  Created wheel for imagehash: filename=ImageHash-4.2.1-py2.py3-none-any.whl size=295206 sha256=a3333bb644744beb023b8688bf3b73e8ffb004511e11ea1ee1c71e45d2ba6278\n",
            "  Stored in directory: /root/.cache/pip/wheels/4c/d5/59/5e3e297533ddb09407769762985d134135064c6831e29a914e\n",
            "Successfully built htmlmin imagehash\n",
            "Installing collected packages: tangled-up-in-unicode, multimethod, visions, markupsafe, imagehash, requests, phik, htmlmin, pandas-profiling\n",
            "  Attempting uninstall: markupsafe\n",
            "    Found existing installation: MarkupSafe 2.0.1\n",
            "    Uninstalling MarkupSafe-2.0.1:\n",
            "      Successfully uninstalled MarkupSafe-2.0.1\n",
            "  Attempting uninstall: requests\n",
            "    Found existing installation: requests 2.23.0\n",
            "    Uninstalling requests-2.23.0:\n",
            "      Successfully uninstalled requests-2.23.0\n",
            "  Attempting uninstall: pandas-profiling\n",
            "    Found existing installation: pandas-profiling 1.4.1\n",
            "    Uninstalling pandas-profiling-1.4.1:\n",
            "      Successfully uninstalled pandas-profiling-1.4.1\n",
            "Successfully installed htmlmin-0.1.12 imagehash-4.2.1 markupsafe-2.1.1 multimethod-1.8 pandas-profiling-3.2.0 phik-0.12.2 requests-2.28.1 tangled-up-in-unicode-0.2.0 visions-0.7.4\n"
          ]
        }
      ],
      "source": [
        "!pip install --upgrade pandas-profiling"
      ]
    },
    {
      "cell_type": "code",
      "source": [
        "!pip install markupsafe==2.0.1"
      ],
      "metadata": {
        "id": "KLlWRifAmyqC",
        "colab": {
          "base_uri": "https://localhost:8080/"
        },
        "outputId": "1c4070fc-66c8-4de8-a707-cd96caf15ac3"
      },
      "execution_count": null,
      "outputs": [
        {
          "output_type": "stream",
          "name": "stdout",
          "text": [
            "Looking in indexes: https://pypi.org/simple, https://us-python.pkg.dev/colab-wheels/public/simple/\n",
            "Collecting markupsafe==2.0.1\n",
            "  Downloading MarkupSafe-2.0.1-cp37-cp37m-manylinux_2_5_x86_64.manylinux1_x86_64.manylinux_2_12_x86_64.manylinux2010_x86_64.whl (31 kB)\n",
            "Installing collected packages: markupsafe\n",
            "  Attempting uninstall: markupsafe\n",
            "    Found existing installation: MarkupSafe 2.1.1\n",
            "    Uninstalling MarkupSafe-2.1.1:\n",
            "      Successfully uninstalled MarkupSafe-2.1.1\n",
            "\u001b[31mERROR: pip's dependency resolver does not currently take into account all the packages that are installed. This behaviour is the source of the following dependency conflicts.\n",
            "pandas-profiling 3.2.0 requires markupsafe~=2.1.1, but you have markupsafe 2.0.1 which is incompatible.\u001b[0m\n",
            "Successfully installed markupsafe-2.0.1\n"
          ]
        }
      ]
    },
    {
      "cell_type": "code",
      "execution_count": null,
      "metadata": {
        "id": "X4T1Rk_yerxx"
      },
      "outputs": [],
      "source": [
        "# Importing libraries\n",
        "\n",
        "import numpy as np\n",
        "import pandas as pd\n",
        "\n",
        "import matplotlib.pyplot as plt\n",
        "import seaborn as sns\n",
        "\n",
        "from pandas_profiling import ProfileReport\n",
        "\n",
        "%matplotlib inline"
      ]
    },
    {
      "cell_type": "code",
      "execution_count": null,
      "metadata": {
        "id": "fRyhiCBperxx"
      },
      "outputs": [],
      "source": [
        "# Panadas configuration for extending the number of rows and columns to visualize, if not limit set parameter to None or -1\n",
        "pd.set_option('display.max_rows', 100)\n",
        "pd.set_option('display.max_columns', 100)"
      ]
    },
    {
      "cell_type": "code",
      "execution_count": null,
      "metadata": {
        "id": "5VBZ3Vceerxx",
        "colab": {
          "base_uri": "https://localhost:8080/"
        },
        "outputId": "bce20fda-30d3-4204-ab85-44a47ffa21b2"
      },
      "outputs": [
        {
          "output_type": "stream",
          "name": "stderr",
          "text": [
            "/usr/local/lib/python3.7/dist-packages/IPython/core/interactiveshell.py:3326: DtypeWarning: Columns (22,34) have mixed types.Specify dtype option on import or set low_memory=False.\n",
            "  exec(code_obj, self.user_global_ns, self.user_ns)\n"
          ]
        }
      ],
      "source": [
        "# Loading the CSV file as dataframe\n",
        "#fifa_df = pd.read_csv('./data/fifa.csv')\n",
        "url = 'https://raw.githubusercontent.com/datascience-uniandes/eda-tutorial/master/data/fifa.csv'\n",
        "fifa_df = pd.read_csv(url)"
      ]
    },
    {
      "cell_type": "code",
      "execution_count": null,
      "metadata": {
        "id": "Oa5ltomOerxy",
        "colab": {
          "base_uri": "https://localhost:8080/"
        },
        "outputId": "e36aea1b-66ca-4de8-fc1a-4f97a8ec79c5"
      },
      "outputs": [
        {
          "output_type": "execute_result",
          "data": {
            "text/plain": [
              "(17981, 74)"
            ]
          },
          "metadata": {},
          "execution_count": 9
        }
      ],
      "source": [
        "# Showing dataframe dimensions\n",
        "fifa_df.shape"
      ]
    },
    {
      "cell_type": "code",
      "execution_count": null,
      "metadata": {
        "id": "dE2awzI8erxy",
        "colab": {
          "base_uri": "https://localhost:8080/"
        },
        "outputId": "426fa202-c3be-4251-d951-91f54e46b1f7"
      },
      "outputs": [
        {
          "output_type": "execute_result",
          "data": {
            "text/plain": [
              "Name                    object\n",
              "Age                      int64\n",
              "Photo                   object\n",
              "Nationality             object\n",
              "Flag                    object\n",
              "Overall                  int64\n",
              "Potential                int64\n",
              "Club                    object\n",
              "Club Logo               object\n",
              "Value                   object\n",
              "Wage                    object\n",
              "Special                  int64\n",
              "Acceleration            object\n",
              "Aggression              object\n",
              "Agility                 object\n",
              "Balance                 object\n",
              "Ball control            object\n",
              "Composure               object\n",
              "Crossing                object\n",
              "Curve                   object\n",
              "Dribbling               object\n",
              "Finishing               object\n",
              "Free kick accuracy      object\n",
              "GK diving               object\n",
              "GK handling             object\n",
              "GK kicking              object\n",
              "GK positioning          object\n",
              "GK reflexes             object\n",
              "Heading accuracy        object\n",
              "Interceptions           object\n",
              "Jumping                 object\n",
              "Long passing            object\n",
              "Long shots              object\n",
              "Marking                 object\n",
              "Penalties               object\n",
              "Positioning             object\n",
              "Reactions               object\n",
              "Short passing           object\n",
              "Shot power              object\n",
              "Sliding tackle          object\n",
              "Sprint speed            object\n",
              "Stamina                 object\n",
              "Standing tackle         object\n",
              "Strength                object\n",
              "Vision                  object\n",
              "Volleys                 object\n",
              "CAM                    float64\n",
              "CB                     float64\n",
              "CDM                    float64\n",
              "CF                     float64\n",
              "CM                     float64\n",
              "ID                       int64\n",
              "LAM                    float64\n",
              "LB                     float64\n",
              "LCB                    float64\n",
              "LCM                    float64\n",
              "LDM                    float64\n",
              "LF                     float64\n",
              "LM                     float64\n",
              "LS                     float64\n",
              "LW                     float64\n",
              "LWB                    float64\n",
              "Preferred Positions     object\n",
              "RAM                    float64\n",
              "RB                     float64\n",
              "RCB                    float64\n",
              "RCM                    float64\n",
              "RDM                    float64\n",
              "RF                     float64\n",
              "RM                     float64\n",
              "RS                     float64\n",
              "RW                     float64\n",
              "RWB                    float64\n",
              "ST                     float64\n",
              "dtype: object"
            ]
          },
          "metadata": {},
          "execution_count": 10
        }
      ],
      "source": [
        "# Showing column types\n",
        "fifa_df.dtypes"
      ]
    },
    {
      "cell_type": "code",
      "execution_count": null,
      "metadata": {
        "id": "Hxv3NEHOerxz"
      },
      "outputs": [],
      "source": [
        "# Showing first rows\n",
        "fifa_df.head()"
      ]
    },
    {
      "cell_type": "markdown",
      "metadata": {
        "id": "LO3GdIneerxz"
      },
      "source": [
        "### Making some basic transformations for columns referring to money: *Value* and *Wage*"
      ]
    },
    {
      "cell_type": "code",
      "execution_count": null,
      "metadata": {
        "tags": [],
        "id": "UNkuBwdQerxz"
      },
      "outputs": [],
      "source": [
        "# Analyzing unique values for columns Value and Wage\n",
        "set(''.join(fifa_df['Value'].values + fifa_df['Wage'].values))"
      ]
    },
    {
      "cell_type": "code",
      "execution_count": null,
      "metadata": {
        "id": "JaEEyBxserx0"
      },
      "outputs": [],
      "source": [
        "# Transforming columns to float based on thousand and million symbols\n",
        "\n",
        "def money_str_to_float(x):\n",
        "    x = x.replace('€', '')             # Removing euro symbol\n",
        "    if 'M' in x:                      # If value has million symbol, remove it and multiply by 1'000.000\n",
        "        x = x.replace('M', '')\n",
        "        return float(x) * 1000000\n",
        "    elif 'K' in x:                    # If value has thousand symbol, remove it and multiply by 1.000\n",
        "        x = x.replace('K', '')\n",
        "        return float(x) * 1000\n",
        "    else:                             # If any symbol is found, only transform the string to float\n",
        "        return float(x)\n",
        "\n",
        "fifa_df['Value'] = fifa_df['Value'].apply(money_str_to_float)\n",
        "fifa_df['Wage'] = fifa_df['Wage'].apply(money_str_to_float)"
      ]
    },
    {
      "cell_type": "code",
      "execution_count": null,
      "metadata": {
        "id": "Kow-ZZGkerx0"
      },
      "outputs": [],
      "source": [
        "fifa_df.head()"
      ]
    },
    {
      "cell_type": "markdown",
      "metadata": {
        "tags": [],
        "id": "MCcVrHn5erx0"
      },
      "source": [
        "### Analyzing the *Value* column"
      ]
    },
    {
      "cell_type": "code",
      "execution_count": null,
      "metadata": {
        "id": "gOV0U87werx1"
      },
      "outputs": [],
      "source": [
        "# Getting the mean value for all players\n",
        "fifa_df['Value'].mean()"
      ]
    },
    {
      "cell_type": "code",
      "execution_count": null,
      "metadata": {
        "id": "jT6ekDaIerx1"
      },
      "outputs": [],
      "source": [
        "# Getting the median value for all players\n",
        "fifa_df['Value'].median()"
      ]
    },
    {
      "cell_type": "code",
      "execution_count": null,
      "metadata": {
        "id": "tGZWoMWwerx1"
      },
      "outputs": [],
      "source": [
        "# Getting the player with the highest value\n",
        "max_value = fifa_df['Value'].max()\n",
        "\n",
        "fifa_df.loc[fifa_df['Value'] == max_value]"
      ]
    },
    {
      "cell_type": "code",
      "execution_count": null,
      "metadata": {
        "id": "8IRpvjmDerx1"
      },
      "outputs": [],
      "source": [
        "# Getting the main statistics for the Value column\n",
        "fifa_df['Value'].describe()"
      ]
    },
    {
      "cell_type": "code",
      "execution_count": null,
      "metadata": {
        "id": "orqx5NO5erx1"
      },
      "outputs": [],
      "source": [
        "# Plotting the histogram for the column\n",
        "fifa_df['Value'].hist()"
      ]
    },
    {
      "cell_type": "code",
      "execution_count": null,
      "metadata": {
        "id": "Ypgk92Pjerx2"
      },
      "outputs": [],
      "source": [
        "# Defining the number of bins and the scale for the y-axis for better visualizing\n",
        "plt.figure()\n",
        "fifa_df['Value'].hist(bins = 50)\n",
        "plt.yscale('log')"
      ]
    },
    {
      "cell_type": "code",
      "execution_count": null,
      "metadata": {
        "id": "W6hTvnT2erx2"
      },
      "outputs": [],
      "source": [
        "# Plotting distribution but using a boxplot\n",
        "plt.figure(figsize = (18, 3))\n",
        "plt.boxplot(fifa_df['Value'], vert = False)"
      ]
    },
    {
      "cell_type": "code",
      "execution_count": null,
      "metadata": {
        "id": "hHle4Axyerx2"
      },
      "outputs": [],
      "source": [
        "# Which are the players with outlier values?\n",
        "fifa_df[fifa_df['Value'] > (fifa_df['Value'].mean() + fifa_df['Value'].std() * 3)]"
      ]
    },
    {
      "cell_type": "code",
      "execution_count": null,
      "metadata": {
        "id": "MKK52Otoerx4"
      },
      "outputs": [],
      "source": [
        "# Because the distribution is so skewed, a greatest number of standard deviations is used \n",
        "fifa_df[fifa_df['Value'] > (fifa_df['Value'].mean() + fifa_df['Value'].std() * 17)]"
      ]
    },
    {
      "cell_type": "code",
      "execution_count": null,
      "metadata": {
        "id": "dXP9615Xerx4"
      },
      "outputs": [],
      "source": [
        "# Using the method based on quartiles to select outliers\n",
        "iqr = (fifa_df['Value'].quantile(.75) - fifa_df['Value'].quantile(.25))\n",
        "fifa_df[fifa_df['Value'] > (fifa_df['Value'].quantile(.75) + iqr * 50)]"
      ]
    },
    {
      "cell_type": "markdown",
      "metadata": {
        "tags": [],
        "id": "cH7G5X4Aerx4"
      },
      "source": [
        "### Analyzing *Preferred Positions* column"
      ]
    },
    {
      "cell_type": "code",
      "execution_count": null,
      "metadata": {
        "id": "_SgUnsnKerx4"
      },
      "outputs": [],
      "source": [
        "fifa_df['Preferred Positions'].unique()"
      ]
    },
    {
      "cell_type": "markdown",
      "metadata": {
        "id": "TH3EZ_L_erx4"
      },
      "source": [
        "<p style=\"color: red;\">How to handle players with multiple Preferred Positions?</p>\n",
        "\n",
        "<p style=\"color: red;\">Let's take the position with the highest score!</p>"
      ]
    },
    {
      "cell_type": "code",
      "execution_count": null,
      "metadata": {
        "id": "fMra_Vkcerx4"
      },
      "outputs": [],
      "source": [
        "# How many preferred positions the players have?\n",
        "\n",
        "def count_pref_positions(x):\n",
        "    return len(x.strip().split(' '))\n",
        "\n",
        "fifa_df['Preferred Positions'].apply(count_pref_positions).value_counts(dropna = False, normalize = True)"
      ]
    },
    {
      "cell_type": "code",
      "execution_count": null,
      "metadata": {
        "id": "JRsF-JY2erx5"
      },
      "outputs": [],
      "source": [
        "# Select the preferred position with highest score\n",
        "\n",
        "def get_pref_position(row):\n",
        "    pref_positions = row['Preferred Positions'].strip().split(' ')\n",
        "    if len(pref_positions) == 1:\n",
        "        return pref_positions[0]\n",
        "    else:\n",
        "        scores = np.array([row[p] for p in pref_positions])\n",
        "        i_max = np.argmax(scores)\n",
        "        return pref_positions[i_max]\n",
        "\n",
        "fifa_df['Preferred Position'] = fifa_df.apply(get_pref_position, axis = 1)"
      ]
    },
    {
      "cell_type": "code",
      "execution_count": null,
      "metadata": {
        "id": "oqsdASvderx5"
      },
      "outputs": [],
      "source": [
        "# Calculating absolute frecuency for preferred position\n",
        "pref_positions_abs_frec = fifa_df['Preferred Position'].value_counts(dropna = False)\n",
        "pref_positions_abs_frec"
      ]
    },
    {
      "cell_type": "code",
      "execution_count": null,
      "metadata": {
        "id": "kezCn1Uterx5"
      },
      "outputs": [],
      "source": [
        "# Plotting preferred position frecuency\n",
        "# WARNING: line chart assumes continuity. It is a better choice when dealing with a continuous variable or time\n",
        "pref_positions_abs_frec.plot()"
      ]
    },
    {
      "cell_type": "code",
      "execution_count": null,
      "metadata": {
        "id": "9K64vEHserx5"
      },
      "outputs": [],
      "source": [
        "# Plotting again preferred position frecuency, using a horizontal bar chart this time\n",
        "pref_positions_abs_frec.plot(kind = 'barh')"
      ]
    },
    {
      "cell_type": "code",
      "execution_count": null,
      "metadata": {
        "id": "OIluLulFerx5"
      },
      "outputs": [],
      "source": [
        "# Calculating absolute frecuency and concatenating results\n",
        "pref_positions_rel_frec = fifa_df['Preferred Position'].value_counts(dropna = False, normalize = True)\n",
        "pd.concat([pref_positions_abs_frec, pref_positions_rel_frec], axis = 1)"
      ]
    },
    {
      "cell_type": "markdown",
      "metadata": {
        "tags": [],
        "id": "HC1WZV2gerx5"
      },
      "source": [
        "### Analyzing *Age* vs. *Value*"
      ]
    },
    {
      "cell_type": "code",
      "execution_count": null,
      "metadata": {
        "id": "c-q_qJP2erx5"
      },
      "outputs": [],
      "source": [
        "# Plotting a scatter plot for two quantitative variables\n",
        "plt.figure(figsize = (13, 7))\n",
        "plt.scatter(fifa_df['Age'], fifa_df['Value'], alpha = 0.5)\n",
        "plt.title('Age vs. Value')\n",
        "plt.xlabel('Age')\n",
        "plt.ylabel('Value')\n",
        "plt.show()"
      ]
    },
    {
      "cell_type": "code",
      "execution_count": null,
      "metadata": {
        "id": "IiQ43JD7erx5"
      },
      "outputs": [],
      "source": [
        "# What is the (linear) correlation coefficient?\n",
        "fifa_df[['Age', 'Value']].corr()"
      ]
    },
    {
      "cell_type": "code",
      "execution_count": null,
      "metadata": {
        "id": "KayMCOseerx5"
      },
      "outputs": [],
      "source": [
        "# What is the (monotonic) correlation coefficient?\n",
        "fifa_df[['Age', 'Value']].corr('spearman')"
      ]
    },
    {
      "cell_type": "markdown",
      "metadata": {
        "id": "CiLo_etGerx6"
      },
      "source": [
        "### Analyzing *Overall* vs. *Value*"
      ]
    },
    {
      "cell_type": "code",
      "execution_count": null,
      "metadata": {
        "id": "QkpcLQx3erx6"
      },
      "outputs": [],
      "source": [
        "# Plotting a scatter plot for two quantitative variables\n",
        "plt.figure(figsize = (13, 7))\n",
        "plt.scatter(fifa_df['Overall'], fifa_df['Value'], alpha = 0.5, color = 'orange')\n",
        "plt.title('Overall vs. Value')\n",
        "plt.xlabel('Overall')\n",
        "plt.ylabel('Value')\n",
        "plt.show()"
      ]
    },
    {
      "cell_type": "code",
      "execution_count": null,
      "metadata": {
        "id": "VU_TwV0berx6"
      },
      "outputs": [],
      "source": [
        "# What is the (linear) correlation coefficient?\n",
        "fifa_df[['Overall', 'Value']].corr()"
      ]
    },
    {
      "cell_type": "code",
      "execution_count": null,
      "metadata": {
        "id": "tv8ahrL1erx6"
      },
      "outputs": [],
      "source": [
        "# What is the (monotonic) correlation coefficient?\n",
        "fifa_df[['Overall', 'Value']].corr('spearman')"
      ]
    },
    {
      "cell_type": "markdown",
      "metadata": {
        "id": "FJMM9SSferx6"
      },
      "source": [
        "<p style=\"color: red;\">Why both methods give different correlation coefficients for the same pair of variables?</p>"
      ]
    },
    {
      "cell_type": "markdown",
      "metadata": {
        "id": "9KEcVr3Verx6"
      },
      "source": [
        "### Comparing among categories"
      ]
    },
    {
      "cell_type": "code",
      "execution_count": null,
      "metadata": {
        "id": "Y0uzlkILerx6"
      },
      "outputs": [],
      "source": [
        "# Plotting wage by club\n",
        "plt.figure(figsize = (13, 10))\n",
        "sns.boxplot(x = 'Club', y = 'Wage', data = fifa_df.loc[fifa_df['Club'].isin(['Independiente Santa Fe', 'CD Los Millionarios Bogota'])])"
      ]
    },
    {
      "cell_type": "code",
      "execution_count": null,
      "metadata": {
        "tags": [],
        "id": "sgsf4itperx6"
      },
      "outputs": [],
      "source": [
        "# Plotting wage by club, including a differential club\n",
        "plt.figure(figsize = (13, 10))\n",
        "sns.boxplot(x = 'Club', y = 'Wage', data = fifa_df.loc[fifa_df['Club'].isin(['Independiente Santa Fe', 'CD Los Millionarios Bogota', 'Real Madrid CF'])])"
      ]
    },
    {
      "cell_type": "markdown",
      "metadata": {
        "id": "Btqs1K3Ferx6"
      },
      "source": [
        "### Profiling the data"
      ]
    },
    {
      "cell_type": "code",
      "execution_count": null,
      "metadata": {
        "id": "gFjsKzVierx6"
      },
      "outputs": [],
      "source": [
        "profile = ProfileReport(fifa_df)"
      ]
    },
    {
      "cell_type": "code",
      "execution_count": null,
      "metadata": {
        "id": "XfV0ii6Perx6"
      },
      "outputs": [],
      "source": [
        "profile.to_notebook_iframe()"
      ]
    },
    {
      "cell_type": "code",
      "execution_count": null,
      "metadata": {
        "id": "3I7tqdJterx6"
      },
      "outputs": [],
      "source": [
        "profile.to_file('report.html')"
      ]
    },
    {
      "cell_type": "code",
      "source": [],
      "metadata": {
        "id": "i07Dpbg1tA4W"
      },
      "execution_count": null,
      "outputs": []
    }
  ],
  "metadata": {
    "kernelspec": {
      "display_name": "Python 3 (ipykernel)",
      "language": "python",
      "name": "python3"
    },
    "language_info": {
      "codemirror_mode": {
        "name": "ipython",
        "version": 3
      },
      "file_extension": ".py",
      "mimetype": "text/x-python",
      "name": "python",
      "nbconvert_exporter": "python",
      "pygments_lexer": "ipython3",
      "version": "3.9.12"
    },
    "colab": {
      "name": "eda-tutorial.ipynb",
      "provenance": [],
      "include_colab_link": true
    }
  },
  "nbformat": 4,
  "nbformat_minor": 0
}