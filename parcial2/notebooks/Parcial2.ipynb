{
  "nbformat": 4,
  "nbformat_minor": 0,
  "metadata": {
    "colab": {
      "provenance": [],
      "authorship_tag": "ABX9TyPv1s5MwQz6pfAe9u8DRRTA",
      "include_colab_link": true
    },
    "kernelspec": {
      "name": "python3",
      "display_name": "Python 3"
    },
    "language_info": {
      "name": "python"
    }
  },
  "cells": [
    {
      "cell_type": "markdown",
      "metadata": {
        "id": "view-in-github",
        "colab_type": "text"
      },
      "source": [
        "<a href=\"https://colab.research.google.com/github/DavidPachis/dataScience/blob/main/parcial2/notebooks/Parcial2.ipynb\" target=\"_parent\"><img src=\"https://colab.research.google.com/assets/colab-badge.svg\" alt=\"Open In Colab\"/></a>"
      ]
    },
    {
      "cell_type": "markdown",
      "source": [
        "#**Parcial 2**"
      ],
      "metadata": {
        "id": "dnmHIttZ6xJm"
      }
    },
    {
      "cell_type": "markdown",
      "source": [
        "## Importaciones "
      ],
      "metadata": {
        "id": "XoW6FeN47ROJ"
      }
    },
    {
      "cell_type": "code",
      "source": [
        "!pip install wget\n",
        "!pip install shap"
      ],
      "metadata": {
        "colab": {
          "base_uri": "https://localhost:8080/"
        },
        "id": "RwmVPf1o8mip",
        "outputId": "a084610b-0d0e-4709-972f-6550c0f05ea9"
      },
      "execution_count": 67,
      "outputs": [
        {
          "output_type": "stream",
          "name": "stdout",
          "text": [
            "Looking in indexes: https://pypi.org/simple, https://us-python.pkg.dev/colab-wheels/public/simple/\n",
            "Requirement already satisfied: wget in /usr/local/lib/python3.7/dist-packages (3.2)\n",
            "Looking in indexes: https://pypi.org/simple, https://us-python.pkg.dev/colab-wheels/public/simple/\n",
            "Requirement already satisfied: shap in /usr/local/lib/python3.7/dist-packages (0.41.0)\n",
            "Requirement already satisfied: scipy in /usr/local/lib/python3.7/dist-packages (from shap) (1.7.3)\n",
            "Requirement already satisfied: scikit-learn in /usr/local/lib/python3.7/dist-packages (from shap) (1.0.2)\n",
            "Requirement already satisfied: numba in /usr/local/lib/python3.7/dist-packages (from shap) (0.56.4)\n",
            "Requirement already satisfied: pandas in /usr/local/lib/python3.7/dist-packages (from shap) (1.3.5)\n",
            "Requirement already satisfied: numpy in /usr/local/lib/python3.7/dist-packages (from shap) (1.21.6)\n",
            "Requirement already satisfied: cloudpickle in /usr/local/lib/python3.7/dist-packages (from shap) (1.5.0)\n",
            "Requirement already satisfied: packaging>20.9 in /usr/local/lib/python3.7/dist-packages (from shap) (21.3)\n",
            "Requirement already satisfied: tqdm>4.25.0 in /usr/local/lib/python3.7/dist-packages (from shap) (4.64.1)\n",
            "Requirement already satisfied: slicer==0.0.7 in /usr/local/lib/python3.7/dist-packages (from shap) (0.0.7)\n",
            "Requirement already satisfied: pyparsing!=3.0.5,>=2.0.2 in /usr/local/lib/python3.7/dist-packages (from packaging>20.9->shap) (3.0.9)\n",
            "Requirement already satisfied: llvmlite<0.40,>=0.39.0dev0 in /usr/local/lib/python3.7/dist-packages (from numba->shap) (0.39.1)\n",
            "Requirement already satisfied: importlib-metadata in /usr/local/lib/python3.7/dist-packages (from numba->shap) (4.13.0)\n",
            "Requirement already satisfied: setuptools in /usr/local/lib/python3.7/dist-packages (from numba->shap) (57.4.0)\n",
            "Requirement already satisfied: typing-extensions>=3.6.4 in /usr/local/lib/python3.7/dist-packages (from importlib-metadata->numba->shap) (4.1.1)\n",
            "Requirement already satisfied: zipp>=0.5 in /usr/local/lib/python3.7/dist-packages (from importlib-metadata->numba->shap) (3.10.0)\n",
            "Requirement already satisfied: pytz>=2017.3 in /usr/local/lib/python3.7/dist-packages (from pandas->shap) (2022.6)\n",
            "Requirement already satisfied: python-dateutil>=2.7.3 in /usr/local/lib/python3.7/dist-packages (from pandas->shap) (2.8.2)\n",
            "Requirement already satisfied: six>=1.5 in /usr/local/lib/python3.7/dist-packages (from python-dateutil>=2.7.3->pandas->shap) (1.15.0)\n",
            "Requirement already satisfied: joblib>=0.11 in /usr/local/lib/python3.7/dist-packages (from scikit-learn->shap) (1.2.0)\n",
            "Requirement already satisfied: threadpoolctl>=2.0.0 in /usr/local/lib/python3.7/dist-packages (from scikit-learn->shap) (3.1.0)\n"
          ]
        }
      ]
    },
    {
      "cell_type": "code",
      "execution_count": 68,
      "metadata": {
        "id": "PL_TOLGP6vJI"
      },
      "outputs": [],
      "source": [
        "#librerías de manipulación\n",
        "import wget\n",
        "import pandas as pd\n",
        "import numpy as np\n",
        "import joblib\n",
        "import xgboost\n",
        "import shap\n",
        "\n",
        "\n",
        "#librerías de visualización\n",
        "import seaborn as sns\n",
        "import matplotlib.pyplot as plt\n",
        "plt.style.use(\"seaborn-deep\")\n",
        "from sklearn import datasets\n",
        "\n",
        "# Para realizar la separación del conjunto de aprendizaje en entrenamiento y test\n",
        "from sklearn.model_selection import train_test_split\n",
        "\n",
        "# para la creación y evaluación de modelos linear y polinomial\n",
        "from keras.models import Sequential\n",
        "from keras.layers import Dense, Input\n",
        "from keras.utils.vis_utils import plot_model\n",
        "\n",
        "from sklearn.compose import make_column_selector as selector\n",
        "from sklearn.tree import DecisionTreeClassifier\n",
        "from sklearn.ensemble import RandomForestClassifier\n",
        "from sklearn.datasets import make_classification\n",
        "from sklearn import metrics\n",
        "from sklearn.ensemble import RandomForestClassifier\n",
        "from sklearn.preprocessing import OneHotEncoder\n",
        "from sklearn.preprocessing import LabelEncoder\n",
        "from sklearn.preprocessing import LabelBinarizer\n",
        "from sklearn.preprocessing import StandardScaler\n",
        "from sklearn.decomposition import PCA\n",
        "from sklearn.preprocessing import StandardScaler\n",
        "from sklearn.linear_model import LinearRegression,Ridge\n",
        "from sklearn.linear_model import LogisticRegression\n",
        "from sklearn.metrics import mean_squared_error, mean_absolute_error\n",
        "from sklearn.metrics import r2_score\n",
        "from sklearn.preprocessing import PolynomialFeatures\n",
        "from sklearn.model_selection import train_test_split, RandomizedSearchCV\n",
        "from sklearn.pipeline import Pipeline, FeatureUnion\n",
        "from sklearn.metrics import classification_report, confusion_matrix, accuracy_score\n",
        "from sklearn.compose import make_column_selector, ColumnTransformer\n",
        "from sklearn.preprocessing import OneHotEncoder, MinMaxScaler, StandardScaler\n",
        "from sklearn.feature_extraction.text import CountVectorizer\n",
        "from sklearn.preprocessing import OneHotEncoder\n",
        "\n",
        "\n",
        "%matplotlib inline"
      ]
    },
    {
      "cell_type": "markdown",
      "source": [
        "## Primer y  Segundo punto"
      ],
      "metadata": {
        "id": "CI8rQwbM7WAc"
      }
    },
    {
      "cell_type": "code",
      "source": [
        "url = 'https://raw.githubusercontent.com/DavidPachis/dataScience/main/parcial2/data/diabetes_test.csv'\n",
        "dia_df = pd.read_csv(url)"
      ],
      "metadata": {
        "id": "RowlYgJc73AH"
      },
      "execution_count": 69,
      "outputs": []
    },
    {
      "cell_type": "code",
      "source": [
        "edad = 'https://raw.githubusercontent.com/DavidPachis/dataScience/main/parcial2/data/pto4.csv'\n",
        "edad_df = pd.read_csv(edad)"
      ],
      "metadata": {
        "id": "F-2mgu-Tkmy4"
      },
      "execution_count": 70,
      "outputs": []
    },
    {
      "cell_type": "code",
      "source": [
        "dia_df.info()"
      ],
      "metadata": {
        "colab": {
          "base_uri": "https://localhost:8080/"
        },
        "id": "YBYrh1aV8qSM",
        "outputId": "1a00e368-ef82-473b-88ed-94491d41ad76"
      },
      "execution_count": 71,
      "outputs": [
        {
          "output_type": "stream",
          "name": "stdout",
          "text": [
            "<class 'pandas.core.frame.DataFrame'>\n",
            "RangeIndex: 154 entries, 0 to 153\n",
            "Data columns (total 9 columns):\n",
            " #   Column                Non-Null Count  Dtype  \n",
            "---  ------                --------------  -----  \n",
            " 0   pregnancies           154 non-null    int64  \n",
            " 1   glucose               154 non-null    int64  \n",
            " 2   blood_pressure        154 non-null    int64  \n",
            " 3   skin_thickness        154 non-null    int64  \n",
            " 4   insulin               154 non-null    int64  \n",
            " 5   bmi                   154 non-null    float64\n",
            " 6   diabetes_pedigree_fn  154 non-null    float64\n",
            " 7   age                   154 non-null    int64  \n",
            " 8   diabetes              154 non-null    int64  \n",
            "dtypes: float64(2), int64(7)\n",
            "memory usage: 11.0 KB\n"
          ]
        }
      ]
    },
    {
      "cell_type": "code",
      "source": [
        "dia_df.columns"
      ],
      "metadata": {
        "colab": {
          "base_uri": "https://localhost:8080/"
        },
        "id": "S5yqP_HUJ6Oh",
        "outputId": "e9643464-0a3a-417b-96a1-97be0e21b4ed"
      },
      "execution_count": 72,
      "outputs": [
        {
          "output_type": "execute_result",
          "data": {
            "text/plain": [
              "Index(['pregnancies', 'glucose', 'blood_pressure', 'skin_thickness', 'insulin',\n",
              "       'bmi', 'diabetes_pedigree_fn', 'age', 'diabetes'],\n",
              "      dtype='object')"
            ]
          },
          "metadata": {},
          "execution_count": 72
        }
      ]
    },
    {
      "cell_type": "code",
      "source": [
        "url2= 'https://github.com/DavidPachis/dataScience/raw/main/parcial2/data/diabetes-v1.0.joblib'\n",
        "path= '/content/sample_data'\n",
        "model = wget.download(url2, out=path)"
      ],
      "metadata": {
        "id": "PQATJ28L7U9x"
      },
      "execution_count": 73,
      "outputs": []
    },
    {
      "cell_type": "code",
      "source": [
        "model"
      ],
      "metadata": {
        "colab": {
          "base_uri": "https://localhost:8080/",
          "height": 36
        },
        "id": "sQEi37Xn89Su",
        "outputId": "b3178e59-bbc8-43cb-ae78-4831efcc8962"
      },
      "execution_count": 74,
      "outputs": [
        {
          "output_type": "execute_result",
          "data": {
            "text/plain": [
              "'/content/sample_data/diabetes-v1.0 (1).joblib'"
            ],
            "application/vnd.google.colaboratory.intrinsic+json": {
              "type": "string"
            }
          },
          "metadata": {},
          "execution_count": 74
        }
      ]
    },
    {
      "cell_type": "code",
      "source": [
        "model_dia = joblib.load(\"/content/sample_data/diabetes-v1.0.joblib\")"
      ],
      "metadata": {
        "id": "XscC9jZd9MjA"
      },
      "execution_count": 75,
      "outputs": []
    },
    {
      "cell_type": "code",
      "source": [
        "dia_x_df=dia_df.drop(\"diabetes\", axis=1)\n",
        "dia_y_df=dia_df['diabetes']"
      ],
      "metadata": {
        "id": "sOGSJQB0-gYs"
      },
      "execution_count": 76,
      "outputs": []
    },
    {
      "cell_type": "code",
      "source": [
        "results=model_dia.predict(dia_x_df)"
      ],
      "metadata": {
        "id": "csb6WCBy-TAE"
      },
      "execution_count": 77,
      "outputs": []
    },
    {
      "cell_type": "code",
      "source": [
        "cm = metrics.confusion_matrix(dia_y_df, results)\n",
        "plt.figure(figsize=(9,9))\n",
        "sns.heatmap(cm, annot=True, fmt=\".3f\", linewidths=.5, square = True,cmap='GnBu');\n",
        "plt.ylabel('Actual label');\n",
        "plt.xlabel('Predicted label');\n",
        "plt.title('Matriz de confusion', size = 15);\n",
        "#plt.show();"
      ],
      "metadata": {
        "colab": {
          "base_uri": "https://localhost:8080/",
          "height": 520
        },
        "id": "kCsDvY3l_8UH",
        "outputId": "9309a907-cdd7-4003-d088-01d00a1458b7"
      },
      "execution_count": 78,
      "outputs": [
        {
          "output_type": "display_data",
          "data": {
            "text/plain": [
              "<Figure size 648x648 with 2 Axes>"
            ],
            "image/png": "[encoded data removed]"
          },
          "metadata": {
            "needs_background": "light"
          }
        }
      ]
    },
    {
      "cell_type": "code",
      "source": [],
      "metadata": {
        "id": "_SfAHMcWjNXu"
      },
      "execution_count": 78,
      "outputs": []
    },
    {
      "cell_type": "markdown",
      "source": [
        "## Tercer Punto (Glucosa)"
      ],
      "metadata": {
        "id": "rrJ_tZsOlDoz"
      }
    },
    {
      "cell_type": "markdown",
      "source": [
        "  La Glucosa es el Feature más Influyente, como se evidencia en las graficas shap de abajo\n",
        "  "
      ],
      "metadata": {
        "id": "ssG5AOhslOQH"
      }
    },
    {
      "cell_type": "code",
      "source": [
        "features = ['pregnancies', 'glucose', 'blood_pressure', 'skin_thickness', 'insulin', 'bmi', 'diabetes_pedigree_fn', 'age']\n",
        "explainer = shap.Explainer(model_dia.predict, dia_x_df[features])\n",
        "shap_values = explainer(dia_x_df[features])\n",
        "\n",
        "# visualize the first prediction's explanation\n",
        "shap.plots.waterfall(shap_values[1])"
      ],
      "metadata": {
        "colab": {
          "base_uri": "https://localhost:8080/",
          "height": 0
        },
        "id": "Z_ixO0TqAM6l",
        "outputId": "d03e152e-5c2d-4006-9a45-da6aa4b7f484"
      },
      "execution_count": 79,
      "outputs": [
        {
          "output_type": "stream",
          "name": "stderr",
          "text": [
            "Exact explainer: 155it [00:32,  3.05it/s]\n"
          ]
        },
        {
          "output_type": "display_data",
          "data": {
            "text/plain": [
              "<Figure size 576x396 with 3 Axes>"
            ],
            "image/png": "[encoded data removed]"
          },
          "metadata": {}
        }
      ]
    },
    {
      "cell_type": "code",
      "source": [
        "shap.plots.waterfall(shap_values[2])"
      ],
      "metadata": {
        "colab": {
          "base_uri": "https://localhost:8080/",
          "height": 0
        },
        "id": "OaOEQykZE8o9",
        "outputId": "0a0395b2-64a6-41a9-9efd-604fcf6756e7"
      },
      "execution_count": 80,
      "outputs": [
        {
          "output_type": "display_data",
          "data": {
            "text/plain": [
              "<Figure size 576x396 with 3 Axes>"
            ],
            "image/png": "[encoded data removed]"
          },
          "metadata": {}
        }
      ]
    },
    {
      "cell_type": "code",
      "source": [
        "shap.plots.waterfall(shap_values[11])"
      ],
      "metadata": {
        "colab": {
          "base_uri": "https://localhost:8080/",
          "height": 0
        },
        "id": "rpx4WH7JMl-0",
        "outputId": "92b76013-2741-467a-cf91-7bd218e8fa24"
      },
      "execution_count": 81,
      "outputs": [
        {
          "output_type": "display_data",
          "data": {
            "text/plain": [
              "<Figure size 576x396 with 3 Axes>"
            ],
            "image/png": "[encoded data removed]"
          },
          "metadata": {}
        }
      ]
    },
    {
      "cell_type": "code",
      "source": [
        "shap.summary_plot(shap_values, plot_type = 'violin')"
      ],
      "metadata": {
        "colab": {
          "base_uri": "https://localhost:8080/",
          "height": 0
        },
        "id": "y7lY2zqmKxlq",
        "outputId": "c22e9329-9c31-46b2-eb95-ad9b398cbd13"
      },
      "execution_count": 82,
      "outputs": [
        {
          "output_type": "display_data",
          "data": {
            "text/plain": [
              "<Figure size 576x338.4 with 2 Axes>"
            ],
            "image/png": "[encoded data removed]"
          },
          "metadata": {
            "needs_background": "light"
          }
        }
      ]
    },
    {
      "cell_type": "code",
      "source": [
        "shap.plots.bar(shap_values)"
      ],
      "metadata": {
        "colab": {
          "base_uri": "https://localhost:8080/",
          "height": 0
        },
        "id": "MR4qXrtMK6n3",
        "outputId": "58b95f0a-d815-47a5-8470-15e44f4f516e"
      },
      "execution_count": 83,
      "outputs": [
        {
          "output_type": "display_data",
          "data": {
            "text/plain": [
              "<Figure size 576x396 with 1 Axes>"
            ],
            "image/png": "[encoded data removed]"
          },
          "metadata": {}
        }
      ]
    },
    {
      "cell_type": "markdown",
      "source": [
        "## Punto 4 (28 años), se predijo un dataset variando solo la edad \n"
      ],
      "metadata": {
        "id": "VkBlHi47lkmH"
      }
    },
    {
      "cell_type": "code",
      "source": [
        "results_edad=model_dia.predict(edad_df.drop(\"diabetes\", axis=1))"
      ],
      "metadata": {
        "id": "FpqxLTrJlkXD"
      },
      "execution_count": 84,
      "outputs": []
    },
    {
      "cell_type": "code",
      "source": [
        "print(edad_df.iloc[[6]])"
      ],
      "metadata": {
        "colab": {
          "base_uri": "https://localhost:8080/"
        },
        "id": "rs94_3rDmWOf",
        "outputId": "87ba9372-548b-42f7-991d-76cbe1bb7fbf"
      },
      "execution_count": 85,
      "outputs": [
        {
          "output_type": "stream",
          "name": "stdout",
          "text": [
            "   pregnancies  glucose  blood_pressure  skin_thickness  insulin   bmi  \\\n",
            "6            2      175              88               0        0  22.9   \n",
            "\n",
            "   diabetes_pedigree_fn  age  diabetes  \n",
            "6                 0.326   28         0  \n"
          ]
        }
      ]
    },
    {
      "cell_type": "markdown",
      "source": [
        "## Punto 5 "
      ],
      "metadata": {
        "id": "N688FsI9mxDA"
      }
    },
    {
      "cell_type": "markdown",
      "source": [
        "Se obtuvieron las probailidades de clases del modelo, y las comparé con las etiquetas reales de los enfermos, encontramos que 4 etiquetas se asignan mal, y que para la capacidad de 20 camas, el valor umbral deberia estar en **0.645882**, cuando corrí este umbral, más abajo se evidencia que tenemos en matriz de confusion 19 camas ocupadas, por lo cual decidí moverlo a **0.644438**"
      ],
      "metadata": {
        "id": "T3c5j-H6x0YZ"
      }
    },
    {
      "cell_type": "code",
      "source": [
        "results_proba=model_dia.predict_proba(dia_x_df)[:,1]"
      ],
      "metadata": {
        "id": "DINl65erQL95"
      },
      "execution_count": 86,
      "outputs": []
    },
    {
      "cell_type": "code",
      "source": [
        "results_proba"
      ],
      "metadata": {
        "colab": {
          "base_uri": "https://localhost:8080/"
        },
        "id": "IfL8E3Ebof-T",
        "outputId": "705c4bb8-55e5-416d-b12b-877bae15d633"
      },
      "execution_count": 87,
      "outputs": [
        {
          "output_type": "execute_result",
          "data": {
            "text/plain": [
              "array([0.21444324, 0.28994415, 0.66960717, 0.18558482, 0.5274984 ,\n",
              "       0.04779708, 0.36639098, 0.2762638 , 0.5438237 , 0.28793984,\n",
              "       0.75835662, 0.34505509, 0.35780686, 0.70976673, 0.13866658,\n",
              "       0.08148407, 0.13322184, 0.06904951, 0.65748353, 0.01108783,\n",
              "       0.31832298, 0.48431537, 0.04915201, 0.12149811, 0.1133725 ,\n",
              "       0.65677184, 0.1074598 , 0.15152522, 0.27356681, 0.52520962,\n",
              "       0.09861493, 0.28414199, 0.0966139 , 0.1866842 , 0.32599402,\n",
              "       0.12941875, 0.79041481, 0.34655589, 0.3153793 , 0.76877038,\n",
              "       0.35966761, 0.56794586, 0.35822373, 0.63203837, 0.01178241,\n",
              "       0.16869515, 0.76706286, 0.11361687, 0.28144179, 0.20190278,\n",
              "       0.27797749, 0.63000568, 0.04232174, 0.0282417 , 0.07940051,\n",
              "       0.36798866, 0.25047   , 0.04981943, 0.37481304, 0.78687216,\n",
              "       0.32147744, 0.38960519, 0.56440913, 0.43890965, 0.36801473,\n",
              "       0.75170851, 0.3669874 , 0.3279183 , 0.03786032, 0.03141544,\n",
              "       0.03458564, 0.13054456, 0.1609901 , 0.76700997, 0.3045916 ,\n",
              "       0.62819139, 0.70400661, 0.64443769, 0.43604312, 0.41943112,\n",
              "       0.07628631, 0.09144548, 0.08270008, 0.01588691, 0.39857034,\n",
              "       0.27750662, 0.19424156, 0.86283627, 0.48634438, 0.48419836,\n",
              "       0.46530292, 0.13717101, 0.36764983, 0.12306808, 0.01830893,\n",
              "       0.54265378, 0.21587401, 0.56401512, 0.665062  , 0.08462635,\n",
              "       0.38789651, 0.11102491, 0.33658415, 0.20181067, 0.5717877 ,\n",
              "       0.21321189, 0.53161978, 0.32352983, 0.23993131, 0.31102435,\n",
              "       0.55253426, 0.22825377, 0.45728693, 0.85980733, 0.66106971,\n",
              "       0.29900272, 0.58978065, 0.18415833, 0.39482512, 0.7069016 ,\n",
              "       0.64588173, 0.17998981, 0.74557104, 0.53345718, 0.7904036 ,\n",
              "       0.06977194, 0.24432545, 0.40988354, 0.253759  , 0.19727131,\n",
              "       0.60563867, 0.60195653, 0.27297052, 0.17257139, 0.4650602 ,\n",
              "       0.24839079, 0.38805217, 0.41180675, 0.64006042, 0.07556217,\n",
              "       0.47070656, 0.47424408, 0.41536   , 0.09388219, 0.27323613,\n",
              "       0.08753489, 0.30094319, 0.15601384, 0.14505674, 0.45248565,\n",
              "       0.1869301 , 0.29183915, 0.07010975, 0.24095559])"
            ]
          },
          "metadata": {},
          "execution_count": 87
        }
      ]
    },
    {
      "cell_type": "code",
      "source": [
        "dia_df['prob_1']= results_proba"
      ],
      "metadata": {
        "id": "iMd1gRLoLXaF"
      },
      "execution_count": 88,
      "outputs": []
    },
    {
      "cell_type": "code",
      "source": [
        "dia_df.sort_values(by='prob_1',ascending=False).head(21)"
      ],
      "metadata": {
        "colab": {
          "base_uri": "https://localhost:8080/",
          "height": 0
        },
        "id": "1XUDNxMDuXzq",
        "outputId": "df24312a-463a-4b05-f82f-a34c35db7641"
      },
      "execution_count": 89,
      "outputs": [
        {
          "output_type": "execute_result",
          "data": {
            "text/plain": [
              "     pregnancies  glucose  blood_pressure  skin_thickness  insulin   bmi  \\\n",
              "87            10      179              70               0        0  35.1   \n",
              "113            8      186              90              35      225  34.5   \n",
              "36            17      163              72              41      114  40.9   \n",
              "124            7      179              95              31        0  34.2   \n",
              "59             5      168              64               0        0  32.9   \n",
              "39             0      180              90              26       90  36.5   \n",
              "46             6      195              70               0        0  30.9   \n",
              "73             1      196              76              36      249  36.5   \n",
              "10             3      170              64              37      225  34.5   \n",
              "65             4      184              78              39      277  37.0   \n",
              "122            7      161              86               0        0  30.4   \n",
              "13            10      162              84               0        0  27.7   \n",
              "119           10      148              84              48      237  37.6   \n",
              "76             4      171              72               0        0  43.6   \n",
              "2              8      183              64               0        0  23.3   \n",
              "98            11      135               0               0        0  52.3   \n",
              "114            3      169              74              19      125  29.9   \n",
              "18             5      166              76               0        0  45.7   \n",
              "25             3      171              72              33      135  33.3   \n",
              "120            6      166              74               0        0  26.6   \n",
              "77             7      150              78              29      126  35.2   \n",
              "\n",
              "     diabetes_pedigree_fn  age  diabetes    prob_1  \n",
              "87                  0.200   37         0  0.862836  \n",
              "113                 0.423   37         1  0.859807  \n",
              "36                  0.817   47         1  0.790415  \n",
              "124                 0.164   60         0  0.790404  \n",
              "59                  0.135   41         1  0.786872  \n",
              "39                  0.314   35         1  0.768770  \n",
              "46                  0.328   31         1  0.767063  \n",
              "73                  0.875   29         1  0.767010  \n",
              "10                  0.356   30         1  0.758357  \n",
              "65                  0.264   31         1  0.751709  \n",
              "122                 0.165   47         1  0.745571  \n",
              "13                  0.182   54         0  0.709767  \n",
              "119                 1.001   51         1  0.706902  \n",
              "76                  0.479   26         1  0.704007  \n",
              "2                   0.672   32         1  0.669607  \n",
              "98                  0.578   40         1  0.665062  \n",
              "114                 0.268   31         1  0.661070  \n",
              "18                  0.340   27         1  0.657484  \n",
              "25                  0.199   24         1  0.656772  \n",
              "120                 0.304   66         0  0.645882  \n",
              "77                  0.692   54         1  0.644438  "
            ],
            "text/html": [
              "\n",
              "  <div id=\"df-f8c1c6d6-ed60-4185-aac7-b0013f33a39a\">\n",
              "    <div class=\"colab-df-container\">\n",
              "      <div>\n",
              "<style scoped>\n",
              "    .dataframe tbody tr th:only-of-type {\n",
              "        vertical-align: middle;\n",
              "    }\n",
              "\n",
              "    .dataframe tbody tr th {\n",
              "        vertical-align: top;\n",
              "    }\n",
              "\n",
              "    .dataframe thead th {\n",
              "        text-align: right;\n",
              "    }\n",
              "</style>\n",
              "<table border=\"1\" class=\"dataframe\">\n",
              "  <thead>\n",
              "    <tr style=\"text-align: right;\">\n",
              "      <th></th>\n",
              "      <th>pregnancies</th>\n",
              "      <th>glucose</th>\n",
              "      <th>blood_pressure</th>\n",
              "      <th>skin_thickness</th>\n",
              "      <th>insulin</th>\n",
              "      <th>bmi</th>\n",
              "      <th>diabetes_pedigree_fn</th>\n",
              "      <th>age</th>\n",
              "      <th>diabetes</th>\n",
              "      <th>prob_1</th>\n",
              "    </tr>\n",
              "  </thead>\n",
              "  <tbody>\n",
              "    <tr>\n",
              "      <th>87</th>\n",
              "      <td>10</td>\n",
              "      <td>179</td>\n",
              "      <td>70</td>\n",
              "      <td>0</td>\n",
              "      <td>0</td>\n",
              "      <td>35.1</td>\n",
              "      <td>0.200</td>\n",
              "      <td>37</td>\n",
              "      <td>0</td>\n",
              "      <td>0.862836</td>\n",
              "    </tr>\n",
              "    <tr>\n",
              "      <th>113</th>\n",
              "      <td>8</td>\n",
              "      <td>186</td>\n",
              "      <td>90</td>\n",
              "      <td>35</td>\n",
              "      <td>225</td>\n",
              "      <td>34.5</td>\n",
              "      <td>0.423</td>\n",
              "      <td>37</td>\n",
              "      <td>1</td>\n",
              "      <td>0.859807</td>\n",
              "    </tr>\n",
              "    <tr>\n",
              "      <th>36</th>\n",
              "      <td>17</td>\n",
              "      <td>163</td>\n",
              "      <td>72</td>\n",
              "      <td>41</td>\n",
              "      <td>114</td>\n",
              "      <td>40.9</td>\n",
              "      <td>0.817</td>\n",
              "      <td>47</td>\n",
              "      <td>1</td>\n",
              "      <td>0.790415</td>\n",
              "    </tr>\n",
              "    <tr>\n",
              "      <th>124</th>\n",
              "      <td>7</td>\n",
              "      <td>179</td>\n",
              "      <td>95</td>\n",
              "      <td>31</td>\n",
              "      <td>0</td>\n",
              "      <td>34.2</td>\n",
              "      <td>0.164</td>\n",
              "      <td>60</td>\n",
              "      <td>0</td>\n",
              "      <td>0.790404</td>\n",
              "    </tr>\n",
              "    <tr>\n",
              "      <th>59</th>\n",
              "      <td>5</td>\n",
              "      <td>168</td>\n",
              "      <td>64</td>\n",
              "      <td>0</td>\n",
              "      <td>0</td>\n",
              "      <td>32.9</td>\n",
              "      <td>0.135</td>\n",
              "      <td>41</td>\n",
              "      <td>1</td>\n",
              "      <td>0.786872</td>\n",
              "    </tr>\n",
              "    <tr>\n",
              "      <th>39</th>\n",
              "      <td>0</td>\n",
              "      <td>180</td>\n",
              "      <td>90</td>\n",
              "      <td>26</td>\n",
              "      <td>90</td>\n",
              "      <td>36.5</td>\n",
              "      <td>0.314</td>\n",
              "      <td>35</td>\n",
              "      <td>1</td>\n",
              "      <td>0.768770</td>\n",
              "    </tr>\n",
              "    <tr>\n",
              "      <th>46</th>\n",
              "      <td>6</td>\n",
              "      <td>195</td>\n",
              "      <td>70</td>\n",
              "      <td>0</td>\n",
              "      <td>0</td>\n",
              "      <td>30.9</td>\n",
              "      <td>0.328</td>\n",
              "      <td>31</td>\n",
              "      <td>1</td>\n",
              "      <td>0.767063</td>\n",
              "    </tr>\n",
              "    <tr>\n",
              "      <th>73</th>\n",
              "      <td>1</td>\n",
              "      <td>196</td>\n",
              "      <td>76</td>\n",
              "      <td>36</td>\n",
              "      <td>249</td>\n",
              "      <td>36.5</td>\n",
              "      <td>0.875</td>\n",
              "      <td>29</td>\n",
              "      <td>1</td>\n",
              "      <td>0.767010</td>\n",
              "    </tr>\n",
              "    <tr>\n",
              "      <th>10</th>\n",
              "      <td>3</td>\n",
              "      <td>170</td>\n",
              "      <td>64</td>\n",
              "      <td>37</td>\n",
              "      <td>225</td>\n",
              "      <td>34.5</td>\n",
              "      <td>0.356</td>\n",
              "      <td>30</td>\n",
              "      <td>1</td>\n",
              "      <td>0.758357</td>\n",
              "    </tr>\n",
              "    <tr>\n",
              "      <th>65</th>\n",
              "      <td>4</td>\n",
              "      <td>184</td>\n",
              "      <td>78</td>\n",
              "      <td>39</td>\n",
              "      <td>277</td>\n",
              "      <td>37.0</td>\n",
              "      <td>0.264</td>\n",
              "      <td>31</td>\n",
              "      <td>1</td>\n",
              "      <td>0.751709</td>\n",
              "    </tr>\n",
              "    <tr>\n",
              "      <th>122</th>\n",
              "      <td>7</td>\n",
              "      <td>161</td>\n",
              "      <td>86</td>\n",
              "      <td>0</td>\n",
              "      <td>0</td>\n",
              "      <td>30.4</td>\n",
              "      <td>0.165</td>\n",
              "      <td>47</td>\n",
              "      <td>1</td>\n",
              "      <td>0.745571</td>\n",
              "    </tr>\n",
              "    <tr>\n",
              "      <th>13</th>\n",
              "      <td>10</td>\n",
              "      <td>162</td>\n",
              "      <td>84</td>\n",
              "      <td>0</td>\n",
              "      <td>0</td>\n",
              "      <td>27.7</td>\n",
              "      <td>0.182</td>\n",
              "      <td>54</td>\n",
              "      <td>0</td>\n",
              "      <td>0.709767</td>\n",
              "    </tr>\n",
              "    <tr>\n",
              "      <th>119</th>\n",
              "      <td>10</td>\n",
              "      <td>148</td>\n",
              "      <td>84</td>\n",
              "      <td>48</td>\n",
              "      <td>237</td>\n",
              "      <td>37.6</td>\n",
              "      <td>1.001</td>\n",
              "      <td>51</td>\n",
              "      <td>1</td>\n",
              "      <td>0.706902</td>\n",
              "    </tr>\n",
              "    <tr>\n",
              "      <th>76</th>\n",
              "      <td>4</td>\n",
              "      <td>171</td>\n",
              "      <td>72</td>\n",
              "      <td>0</td>\n",
              "      <td>0</td>\n",
              "      <td>43.6</td>\n",
              "      <td>0.479</td>\n",
              "      <td>26</td>\n",
              "      <td>1</td>\n",
              "      <td>0.704007</td>\n",
              "    </tr>\n",
              "    <tr>\n",
              "      <th>2</th>\n",
              "      <td>8</td>\n",
              "      <td>183</td>\n",
              "      <td>64</td>\n",
              "      <td>0</td>\n",
              "      <td>0</td>\n",
              "      <td>23.3</td>\n",
              "      <td>0.672</td>\n",
              "      <td>32</td>\n",
              "      <td>1</td>\n",
              "      <td>0.669607</td>\n",
              "    </tr>\n",
              "    <tr>\n",
              "      <th>98</th>\n",
              "      <td>11</td>\n",
              "      <td>135</td>\n",
              "      <td>0</td>\n",
              "      <td>0</td>\n",
              "      <td>0</td>\n",
              "      <td>52.3</td>\n",
              "      <td>0.578</td>\n",
              "      <td>40</td>\n",
              "      <td>1</td>\n",
              "      <td>0.665062</td>\n",
              "    </tr>\n",
              "    <tr>\n",
              "      <th>114</th>\n",
              "      <td>3</td>\n",
              "      <td>169</td>\n",
              "      <td>74</td>\n",
              "      <td>19</td>\n",
              "      <td>125</td>\n",
              "      <td>29.9</td>\n",
              "      <td>0.268</td>\n",
              "      <td>31</td>\n",
              "      <td>1</td>\n",
              "      <td>0.661070</td>\n",
              "    </tr>\n",
              "    <tr>\n",
              "      <th>18</th>\n",
              "      <td>5</td>\n",
              "      <td>166</td>\n",
              "      <td>76</td>\n",
              "      <td>0</td>\n",
              "      <td>0</td>\n",
              "      <td>45.7</td>\n",
              "      <td>0.340</td>\n",
              "      <td>27</td>\n",
              "      <td>1</td>\n",
              "      <td>0.657484</td>\n",
              "    </tr>\n",
              "    <tr>\n",
              "      <th>25</th>\n",
              "      <td>3</td>\n",
              "      <td>171</td>\n",
              "      <td>72</td>\n",
              "      <td>33</td>\n",
              "      <td>135</td>\n",
              "      <td>33.3</td>\n",
              "      <td>0.199</td>\n",
              "      <td>24</td>\n",
              "      <td>1</td>\n",
              "      <td>0.656772</td>\n",
              "    </tr>\n",
              "    <tr>\n",
              "      <th>120</th>\n",
              "      <td>6</td>\n",
              "      <td>166</td>\n",
              "      <td>74</td>\n",
              "      <td>0</td>\n",
              "      <td>0</td>\n",
              "      <td>26.6</td>\n",
              "      <td>0.304</td>\n",
              "      <td>66</td>\n",
              "      <td>0</td>\n",
              "      <td>0.645882</td>\n",
              "    </tr>\n",
              "    <tr>\n",
              "      <th>77</th>\n",
              "      <td>7</td>\n",
              "      <td>150</td>\n",
              "      <td>78</td>\n",
              "      <td>29</td>\n",
              "      <td>126</td>\n",
              "      <td>35.2</td>\n",
              "      <td>0.692</td>\n",
              "      <td>54</td>\n",
              "      <td>1</td>\n",
              "      <td>0.644438</td>\n",
              "    </tr>\n",
              "  </tbody>\n",
              "</table>\n",
              "</div>\n",
              "      <button class=\"colab-df-convert\" onclick=\"convertToInteractive('df-f8c1c6d6-ed60-4185-aac7-b0013f33a39a')\"\n",
              "              title=\"Convert this dataframe to an interactive table.\"\n",
              "              style=\"display:none;\">\n",
              "        \n",
              "  <svg xmlns=\"http://www.w3.org/2000/svg\" height=\"24px\"viewBox=\"0 0 24 24\"\n",
              "       width=\"24px\">\n",
              "    <path d=\"M0 0h24v24H0V0z\" fill=\"none\"/>\n",
              "    <path d=\"M18.56 5.44l.94 2.06.94-2.06 2.06-.94-2.06-.94-.94-2.06-.94 2.06-2.06.94zm-11 1L8.5 8.5l.94-2.06 2.06-.94-2.06-.94L8.5 2.5l-.94 2.06-2.06.94zm10 10l.94 2.06.94-2.06 2.06-.94-2.06-.94-.94-2.06-.94 2.06-2.06.94z\"/><path d=\"M17.41 7.96l-1.37-1.37c-.4-.4-.92-.59-1.43-.59-.52 0-1.04.2-1.43.59L10.3 9.45l-7.72 7.72c-.78.78-.78 2.05 0 2.83L4 21.41c.39.39.9.59 1.41.59.51 0 1.02-.2 1.41-.59l7.78-7.78 2.81-2.81c.8-.78.8-2.07 0-2.86zM5.41 20L4 18.59l7.72-7.72 1.47 1.35L5.41 20z\"/>\n",
              "  </svg>\n",
              "      </button>\n",
              "      \n",
              "  <style>\n",
              "    .colab-df-container {\n",
              "      display:flex;\n",
              "      flex-wrap:wrap;\n",
              "      gap: 12px;\n",
              "    }\n",
              "\n",
              "    .colab-df-convert {\n",
              "      background-color: #E8F0FE;\n",
              "      border: none;\n",
              "      border-radius: 50%;\n",
              "      cursor: pointer;\n",
              "      display: none;\n",
              "      fill: #1967D2;\n",
              "      height: 32px;\n",
              "      padding: 0 0 0 0;\n",
              "      width: 32px;\n",
              "    }\n",
              "\n",
              "    .colab-df-convert:hover {\n",
              "      background-color: #E2EBFA;\n",
              "      box-shadow: 0px 1px 2px rgba(60, 64, 67, 0.3), 0px 1px 3px 1px rgba(60, 64, 67, 0.15);\n",
              "      fill: #174EA6;\n",
              "    }\n",
              "\n",
              "    [theme=dark] .colab-df-convert {\n",
              "      background-color: #3B4455;\n",
              "      fill: #D2E3FC;\n",
              "    }\n",
              "\n",
              "    [theme=dark] .colab-df-convert:hover {\n",
              "      background-color: #434B5C;\n",
              "      box-shadow: 0px 1px 3px 1px rgba(0, 0, 0, 0.15);\n",
              "      filter: drop-shadow(0px 1px 2px rgba(0, 0, 0, 0.3));\n",
              "      fill: #FFFFFF;\n",
              "    }\n",
              "  </style>\n",
              "\n",
              "      <script>\n",
              "        const buttonEl =\n",
              "          document.querySelector('#df-f8c1c6d6-ed60-4185-aac7-b0013f33a39a button.colab-df-convert');\n",
              "        buttonEl.style.display =\n",
              "          google.colab.kernel.accessAllowed ? 'block' : 'none';\n",
              "\n",
              "        async function convertToInteractive(key) {\n",
              "          const element = document.querySelector('#df-f8c1c6d6-ed60-4185-aac7-b0013f33a39a');\n",
              "          const dataTable =\n",
              "            await google.colab.kernel.invokeFunction('convertToInteractive',\n",
              "                                                     [key], {});\n",
              "          if (!dataTable) return;\n",
              "\n",
              "          const docLinkHtml = 'Like what you see? Visit the ' +\n",
              "            '<a target=\"_blank\" href=https://colab.research.google.com/notebooks/data_table.ipynb>data table notebook</a>'\n",
              "            + ' to learn more about interactive tables.';\n",
              "          element.innerHTML = '';\n",
              "          dataTable['output_type'] = 'display_data';\n",
              "          await google.colab.output.renderOutput(dataTable, element);\n",
              "          const docLink = document.createElement('div');\n",
              "          docLink.innerHTML = docLinkHtml;\n",
              "          element.appendChild(docLink);\n",
              "        }\n",
              "      </script>\n",
              "    </div>\n",
              "  </div>\n",
              "  "
            ]
          },
          "metadata": {},
          "execution_count": 89
        }
      ]
    },
    {
      "cell_type": "markdown",
      "source": [
        "## Matriz de Confusión"
      ],
      "metadata": {
        "id": "PFfx6yz88xAp"
      }
    },
    {
      "cell_type": "markdown",
      "source": [
        "### Primer analisis de umbral para 20 camas"
      ],
      "metadata": {
        "id": "nBWunVTO82Zx"
      }
    },
    {
      "cell_type": "code",
      "source": [
        "def nuevoUmbral(x):\n",
        "  if x>0.645882:\n",
        "    return(1)\n",
        "  else:\n",
        "    return(0)"
      ],
      "metadata": {
        "id": "cCT2_wZVwO4T"
      },
      "execution_count": 90,
      "outputs": []
    },
    {
      "cell_type": "code",
      "source": [
        "dia_df['newUmbral']= dia_df['prob_1'].apply(nuevoUmbral)"
      ],
      "metadata": {
        "id": "q1de0XqW3rdO"
      },
      "execution_count": 91,
      "outputs": []
    },
    {
      "cell_type": "code",
      "source": [
        "dia_df"
      ],
      "metadata": {
        "colab": {
          "base_uri": "https://localhost:8080/",
          "height": 424
        },
        "id": "1fjzzda26gru",
        "outputId": "7e3c90df-0c29-4c8f-aec9-0d5cfb4b05c5"
      },
      "execution_count": 92,
      "outputs": [
        {
          "output_type": "execute_result",
          "data": {
            "text/plain": [
              "     pregnancies  glucose  blood_pressure  skin_thickness  insulin   bmi  \\\n",
              "0              5       88              78              30        0  27.6   \n",
              "1              3       61              82              28        0  34.4   \n",
              "2              8      183              64               0        0  23.3   \n",
              "3              6       80              80              36        0  39.8   \n",
              "4              8      108              70               0        0  30.5   \n",
              "..           ...      ...             ...             ...      ...   ...   \n",
              "149            8      109              76              39      114  27.9   \n",
              "150            5       95              72              33        0  37.7   \n",
              "151            5        0              80              32        0  41.0   \n",
              "152            1       80              74              11       60  30.0   \n",
              "153            2      127              46              21      335  34.4   \n",
              "\n",
              "     diabetes_pedigree_fn  age  diabetes    prob_1  newUmbral  \n",
              "0                   0.258   37         0  0.214443          0  \n",
              "1                   0.243   46         0  0.289944          0  \n",
              "2                   0.672   32         1  0.669607          1  \n",
              "3                   0.177   28         0  0.185585          0  \n",
              "4                   0.955   33         1  0.527498          0  \n",
              "..                    ...  ...       ...       ...        ...  \n",
              "149                 0.640   31         1  0.452486          0  \n",
              "150                 0.370   27         0  0.186930          0  \n",
              "151                 0.346   37         1  0.291839          0  \n",
              "152                 0.527   22         0  0.070110          0  \n",
              "153                 0.176   22         0  0.240956          0  \n",
              "\n",
              "[154 rows x 11 columns]"
            ],
            "text/html": [
              "\n",
              "  <div id=\"df-60b99294-77b1-42bf-a896-711090fec253\">\n",
              "    <div class=\"colab-df-container\">\n",
              "      <div>\n",
              "<style scoped>\n",
              "    .dataframe tbody tr th:only-of-type {\n",
              "        vertical-align: middle;\n",
              "    }\n",
              "\n",
              "    .dataframe tbody tr th {\n",
              "        vertical-align: top;\n",
              "    }\n",
              "\n",
              "    .dataframe thead th {\n",
              "        text-align: right;\n",
              "    }\n",
              "</style>\n",
              "<table border=\"1\" class=\"dataframe\">\n",
              "  <thead>\n",
              "    <tr style=\"text-align: right;\">\n",
              "      <th></th>\n",
              "      <th>pregnancies</th>\n",
              "      <th>glucose</th>\n",
              "      <th>blood_pressure</th>\n",
              "      <th>skin_thickness</th>\n",
              "      <th>insulin</th>\n",
              "      <th>bmi</th>\n",
              "      <th>diabetes_pedigree_fn</th>\n",
              "      <th>age</th>\n",
              "      <th>diabetes</th>\n",
              "      <th>prob_1</th>\n",
              "      <th>newUmbral</th>\n",
              "    </tr>\n",
              "  </thead>\n",
              "  <tbody>\n",
              "    <tr>\n",
              "      <th>0</th>\n",
              "      <td>5</td>\n",
              "      <td>88</td>\n",
              "      <td>78</td>\n",
              "      <td>30</td>\n",
              "      <td>0</td>\n",
              "      <td>27.6</td>\n",
              "      <td>0.258</td>\n",
              "      <td>37</td>\n",
              "      <td>0</td>\n",
              "      <td>0.214443</td>\n",
              "      <td>0</td>\n",
              "    </tr>\n",
              "    <tr>\n",
              "      <th>1</th>\n",
              "      <td>3</td>\n",
              "      <td>61</td>\n",
              "      <td>82</td>\n",
              "      <td>28</td>\n",
              "      <td>0</td>\n",
              "      <td>34.4</td>\n",
              "      <td>0.243</td>\n",
              "      <td>46</td>\n",
              "      <td>0</td>\n",
              "      <td>0.289944</td>\n",
              "      <td>0</td>\n",
              "    </tr>\n",
              "    <tr>\n",
              "      <th>2</th>\n",
              "      <td>8</td>\n",
              "      <td>183</td>\n",
              "      <td>64</td>\n",
              "      <td>0</td>\n",
              "      <td>0</td>\n",
              "      <td>23.3</td>\n",
              "      <td>0.672</td>\n",
              "      <td>32</td>\n",
              "      <td>1</td>\n",
              "      <td>0.669607</td>\n",
              "      <td>1</td>\n",
              "    </tr>\n",
              "    <tr>\n",
              "      <th>3</th>\n",
              "      <td>6</td>\n",
              "      <td>80</td>\n",
              "      <td>80</td>\n",
              "      <td>36</td>\n",
              "      <td>0</td>\n",
              "      <td>39.8</td>\n",
              "      <td>0.177</td>\n",
              "      <td>28</td>\n",
              "      <td>0</td>\n",
              "      <td>0.185585</td>\n",
              "      <td>0</td>\n",
              "    </tr>\n",
              "    <tr>\n",
              "      <th>4</th>\n",
              "      <td>8</td>\n",
              "      <td>108</td>\n",
              "      <td>70</td>\n",
              "      <td>0</td>\n",
              "      <td>0</td>\n",
              "      <td>30.5</td>\n",
              "      <td>0.955</td>\n",
              "      <td>33</td>\n",
              "      <td>1</td>\n",
              "      <td>0.527498</td>\n",
              "      <td>0</td>\n",
              "    </tr>\n",
              "    <tr>\n",
              "      <th>...</th>\n",
              "      <td>...</td>\n",
              "      <td>...</td>\n",
              "      <td>...</td>\n",
              "      <td>...</td>\n",
              "      <td>...</td>\n",
              "      <td>...</td>\n",
              "      <td>...</td>\n",
              "      <td>...</td>\n",
              "      <td>...</td>\n",
              "      <td>...</td>\n",
              "      <td>...</td>\n",
              "    </tr>\n",
              "    <tr>\n",
              "      <th>149</th>\n",
              "      <td>8</td>\n",
              "      <td>109</td>\n",
              "      <td>76</td>\n",
              "      <td>39</td>\n",
              "      <td>114</td>\n",
              "      <td>27.9</td>\n",
              "      <td>0.640</td>\n",
              "      <td>31</td>\n",
              "      <td>1</td>\n",
              "      <td>0.452486</td>\n",
              "      <td>0</td>\n",
              "    </tr>\n",
              "    <tr>\n",
              "      <th>150</th>\n",
              "      <td>5</td>\n",
              "      <td>95</td>\n",
              "      <td>72</td>\n",
              "      <td>33</td>\n",
              "      <td>0</td>\n",
              "      <td>37.7</td>\n",
              "      <td>0.370</td>\n",
              "      <td>27</td>\n",
              "      <td>0</td>\n",
              "      <td>0.186930</td>\n",
              "      <td>0</td>\n",
              "    </tr>\n",
              "    <tr>\n",
              "      <th>151</th>\n",
              "      <td>5</td>\n",
              "      <td>0</td>\n",
              "      <td>80</td>\n",
              "      <td>32</td>\n",
              "      <td>0</td>\n",
              "      <td>41.0</td>\n",
              "      <td>0.346</td>\n",
              "      <td>37</td>\n",
              "      <td>1</td>\n",
              "      <td>0.291839</td>\n",
              "      <td>0</td>\n",
              "    </tr>\n",
              "    <tr>\n",
              "      <th>152</th>\n",
              "      <td>1</td>\n",
              "      <td>80</td>\n",
              "      <td>74</td>\n",
              "      <td>11</td>\n",
              "      <td>60</td>\n",
              "      <td>30.0</td>\n",
              "      <td>0.527</td>\n",
              "      <td>22</td>\n",
              "      <td>0</td>\n",
              "      <td>0.070110</td>\n",
              "      <td>0</td>\n",
              "    </tr>\n",
              "    <tr>\n",
              "      <th>153</th>\n",
              "      <td>2</td>\n",
              "      <td>127</td>\n",
              "      <td>46</td>\n",
              "      <td>21</td>\n",
              "      <td>335</td>\n",
              "      <td>34.4</td>\n",
              "      <td>0.176</td>\n",
              "      <td>22</td>\n",
              "      <td>0</td>\n",
              "      <td>0.240956</td>\n",
              "      <td>0</td>\n",
              "    </tr>\n",
              "  </tbody>\n",
              "</table>\n",
              "<p>154 rows × 11 columns</p>\n",
              "</div>\n",
              "      <button class=\"colab-df-convert\" onclick=\"convertToInteractive('df-60b99294-77b1-42bf-a896-711090fec253')\"\n",
              "              title=\"Convert this dataframe to an interactive table.\"\n",
              "              style=\"display:none;\">\n",
              "        \n",
              "  <svg xmlns=\"http://www.w3.org/2000/svg\" height=\"24px\"viewBox=\"0 0 24 24\"\n",
              "       width=\"24px\">\n",
              "    <path d=\"M0 0h24v24H0V0z\" fill=\"none\"/>\n",
              "    <path d=\"M18.56 5.44l.94 2.06.94-2.06 2.06-.94-2.06-.94-.94-2.06-.94 2.06-2.06.94zm-11 1L8.5 8.5l.94-2.06 2.06-.94-2.06-.94L8.5 2.5l-.94 2.06-2.06.94zm10 10l.94 2.06.94-2.06 2.06-.94-2.06-.94-.94-2.06-.94 2.06-2.06.94z\"/><path d=\"M17.41 7.96l-1.37-1.37c-.4-.4-.92-.59-1.43-.59-.52 0-1.04.2-1.43.59L10.3 9.45l-7.72 7.72c-.78.78-.78 2.05 0 2.83L4 21.41c.39.39.9.59 1.41.59.51 0 1.02-.2 1.41-.59l7.78-7.78 2.81-2.81c.8-.78.8-2.07 0-2.86zM5.41 20L4 18.59l7.72-7.72 1.47 1.35L5.41 20z\"/>\n",
              "  </svg>\n",
              "      </button>\n",
              "      \n",
              "  <style>\n",
              "    .colab-df-container {\n",
              "      display:flex;\n",
              "      flex-wrap:wrap;\n",
              "      gap: 12px;\n",
              "    }\n",
              "\n",
              "    .colab-df-convert {\n",
              "      background-color: #E8F0FE;\n",
              "      border: none;\n",
              "      border-radius: 50%;\n",
              "      cursor: pointer;\n",
              "      display: none;\n",
              "      fill: #1967D2;\n",
              "      height: 32px;\n",
              "      padding: 0 0 0 0;\n",
              "      width: 32px;\n",
              "    }\n",
              "\n",
              "    .colab-df-convert:hover {\n",
              "      background-color: #E2EBFA;\n",
              "      box-shadow: 0px 1px 2px rgba(60, 64, 67, 0.3), 0px 1px 3px 1px rgba(60, 64, 67, 0.15);\n",
              "      fill: #174EA6;\n",
              "    }\n",
              "\n",
              "    [theme=dark] .colab-df-convert {\n",
              "      background-color: #3B4455;\n",
              "      fill: #D2E3FC;\n",
              "    }\n",
              "\n",
              "    [theme=dark] .colab-df-convert:hover {\n",
              "      background-color: #434B5C;\n",
              "      box-shadow: 0px 1px 3px 1px rgba(0, 0, 0, 0.15);\n",
              "      filter: drop-shadow(0px 1px 2px rgba(0, 0, 0, 0.3));\n",
              "      fill: #FFFFFF;\n",
              "    }\n",
              "  </style>\n",
              "\n",
              "      <script>\n",
              "        const buttonEl =\n",
              "          document.querySelector('#df-60b99294-77b1-42bf-a896-711090fec253 button.colab-df-convert');\n",
              "        buttonEl.style.display =\n",
              "          google.colab.kernel.accessAllowed ? 'block' : 'none';\n",
              "\n",
              "        async function convertToInteractive(key) {\n",
              "          const element = document.querySelector('#df-60b99294-77b1-42bf-a896-711090fec253');\n",
              "          const dataTable =\n",
              "            await google.colab.kernel.invokeFunction('convertToInteractive',\n",
              "                                                     [key], {});\n",
              "          if (!dataTable) return;\n",
              "\n",
              "          const docLinkHtml = 'Like what you see? Visit the ' +\n",
              "            '<a target=\"_blank\" href=https://colab.research.google.com/notebooks/data_table.ipynb>data table notebook</a>'\n",
              "            + ' to learn more about interactive tables.';\n",
              "          element.innerHTML = '';\n",
              "          dataTable['output_type'] = 'display_data';\n",
              "          await google.colab.output.renderOutput(dataTable, element);\n",
              "          const docLink = document.createElement('div');\n",
              "          docLink.innerHTML = docLinkHtml;\n",
              "          element.appendChild(docLink);\n",
              "        }\n",
              "      </script>\n",
              "    </div>\n",
              "  </div>\n",
              "  "
            ]
          },
          "metadata": {},
          "execution_count": 92
        }
      ]
    },
    {
      "cell_type": "code",
      "source": [
        "cm = metrics.confusion_matrix(dia_y_df, dia_df['newUmbral'])\n",
        "plt.figure(figsize=(9,9))\n",
        "sns.heatmap(cm, annot=True, fmt=\".3f\", linewidths=.5, square = True,cmap='GnBu');\n",
        "plt.ylabel('Actual label');\n",
        "plt.xlabel('Predicted label');\n",
        "plt.title('Matriz de confusion', size = 15);\n",
        "#plt.show();"
      ],
      "metadata": {
        "colab": {
          "base_uri": "https://localhost:8080/",
          "height": 520
        },
        "id": "19S5oeP5618R",
        "outputId": "61e667d0-81f4-421b-9475-a24ada33f802"
      },
      "execution_count": 93,
      "outputs": [
        {
          "output_type": "display_data",
          "data": {
            "text/plain": [
              "<Figure size 648x648 with 2 Axes>"
            ],
            "image/png": "[encoded data removed]"
          },
          "metadata": {
            "needs_background": "light"
          }
        }
      ]
    },
    {
      "cell_type": "markdown",
      "source": [
        "### Segundo análisis de umbral para 20 camas"
      ],
      "metadata": {
        "id": "jTH1XZf288G7"
      }
    },
    {
      "cell_type": "code",
      "source": [
        "def nuevoUmbral2(x):\n",
        "  if x>0.644438:\n",
        "    return(1)\n",
        "  else:\n",
        "    return(0)"
      ],
      "metadata": {
        "id": "97uT5F2N7cG2"
      },
      "execution_count": 94,
      "outputs": []
    },
    {
      "cell_type": "code",
      "source": [
        "dia_df['newUmbral2']= dia_df['prob_1'].apply(nuevoUmbral2)"
      ],
      "metadata": {
        "id": "b7qwZ7gs9D72"
      },
      "execution_count": 95,
      "outputs": []
    },
    {
      "cell_type": "code",
      "source": [
        "cm = metrics.confusion_matrix(dia_y_df, dia_df['newUmbral2'])\n",
        "plt.figure(figsize=(9,9))\n",
        "sns.heatmap(cm, annot=True, fmt=\".3f\", linewidths=.5, square = True,cmap='GnBu');\n",
        "plt.ylabel('Actual label');\n",
        "plt.xlabel('Predicted label');\n",
        "plt.title('Matriz de confusion', size = 15);\n",
        "#plt.show();"
      ],
      "metadata": {
        "colab": {
          "base_uri": "https://localhost:8080/",
          "height": 520
        },
        "id": "r_sQfjck9H1E",
        "outputId": "06eab80b-c53f-437c-d99f-22683cd84316"
      },
      "execution_count": 96,
      "outputs": [
        {
          "output_type": "display_data",
          "data": {
            "text/plain": [
              "<Figure size 648x648 with 2 Axes>"
            ],
            "image/png": "[encoded data removed]"
          },
          "metadata": {
            "needs_background": "light"
          }
        }
      ]
    }
  ]
}